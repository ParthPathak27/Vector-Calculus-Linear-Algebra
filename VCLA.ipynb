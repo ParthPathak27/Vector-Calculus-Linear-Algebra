{
 "cells": [
  {
   "cell_type": "markdown",
   "metadata": {
    "collapsed": false
   },
   "source": [
    "## Vector Calculus"
   ]
  },
  {
   "cell_type": "code",
   "execution_count": 1,
   "metadata": {
    "collapsed": false
   },
   "outputs": [
    {
     "name": "stdout",
     "output_type": "stream",
     "text": [
      "(2, 3, 4)\n"
     ]
    }
   ],
   "source": [
    "# v = 2i+3j+4k\n",
    "v = vector([2,3,4])\n",
    "print(v)"
   ]
  },
  {
   "cell_type": "code",
   "execution_count": 2,
   "metadata": {
    "collapsed": false
   },
   "outputs": [
    {
     "name": "stdout",
     "output_type": "stream",
     "text": [
      "(2, 3, 4)\n"
     ]
    }
   ],
   "source": [
    "u = (2,3,4)\n",
    "print(u)"
   ]
  },
  {
   "cell_type": "code",
   "execution_count": 3,
   "metadata": {
    "collapsed": false
   },
   "outputs": [
    {
     "name": "stdout",
     "output_type": "stream",
     "text": [
      "<class 'sage.modules.vector_integer_dense.Vector_integer_dense'>\n",
      "<class 'tuple'>\n"
     ]
    }
   ],
   "source": [
    "print(type(v))\n",
    "print(type(u))"
   ]
  },
  {
   "cell_type": "code",
   "execution_count": 4,
   "metadata": {
    "collapsed": false
   },
   "outputs": [
    {
     "name": "stdout",
     "output_type": "stream",
     "text": [
      "(4, 6, 8)\n"
     ]
    }
   ],
   "source": [
    "print(2*v)"
   ]
  },
  {
   "cell_type": "code",
   "execution_count": 5,
   "metadata": {
    "collapsed": false
   },
   "outputs": [
    {
     "name": "stdout",
     "output_type": "stream",
     "text": [
      "(2, 3, 4, 2, 3, 4)\n"
     ]
    }
   ],
   "source": [
    "print(2*u)"
   ]
  },
  {
   "cell_type": "code",
   "execution_count": 6,
   "metadata": {
    "collapsed": false
   },
   "outputs": [
    {
     "name": "stdout",
     "output_type": "stream",
     "text": [
      "(4, 6, 8)\n"
     ]
    }
   ],
   "source": [
    "u = vector(u)\n",
    "print(2*u)"
   ]
  },
  {
   "cell_type": "code",
   "execution_count": 7,
   "metadata": {
    "collapsed": false
   },
   "outputs": [
    {
     "name": "stdout",
     "output_type": "stream",
     "text": [
      "True\n"
     ]
    }
   ],
   "source": [
    "v = vector([2,3,4])\n",
    "u = vector([2,3,4])\n",
    "print(u==v)"
   ]
  },
  {
   "cell_type": "code",
   "execution_count": 8,
   "metadata": {
    "collapsed": false
   },
   "outputs": [
    {
     "name": "stdout",
     "output_type": "stream",
     "text": [
      "(10, 15, 20)\n"
     ]
    }
   ],
   "source": [
    "print(2*u+3*v)"
   ]
  },
  {
   "cell_type": "code",
   "execution_count": 9,
   "metadata": {
    "collapsed": false
   },
   "outputs": [
    {
     "name": "stdout",
     "output_type": "stream",
     "text": [
      "26\n",
      "(2, -4, 2)\n"
     ]
    }
   ],
   "source": [
    "v = vector([1,2,3])\n",
    "u = vector([3,4,5])\n",
    "print(u.dot_product(v))\n",
    "print(u.cross_product(v))"
   ]
  },
  {
   "cell_type": "code",
   "execution_count": 10,
   "metadata": {
    "collapsed": false
   },
   "outputs": [
    {
     "name": "stdout",
     "output_type": "stream",
     "text": [
      "(3/10*sqrt(2), 2/5*sqrt(2), 1/2*sqrt(2))\n"
     ]
    }
   ],
   "source": [
    "print(u.normalized())"
   ]
  },
  {
   "cell_type": "code",
   "execution_count": 11,
   "metadata": {
    "collapsed": false
   },
   "outputs": [
    {
     "data": {
      "text/html": "\n<iframe srcdoc=\"<!DOCTYPE html>\n<html>\n<head>\n<title></title>\n<meta charset=&quot;utf-8&quot;>\n<meta name=viewport content=&quot;width=device-width, user-scalable=no, minimum-scale=1.0, maximum-scale=1.0&quot;>\n<style>\n\n    body { margin: 0px; overflow: hidden; }\n\n    #menu-container { position: absolute; bottom: 30px; right: 40px; cursor: default; }\n\n    #menu-message { position: absolute; bottom: 0px; right: 0px; white-space: nowrap;\n                    display: none; background-color: #F5F5F5; padding: 10px; }\n\n    #menu-content { position: absolute; bottom: 0px; right: 0px;\n                    display: none; background-color: #F5F5F5; border-bottom: 1px solid black;\n                    border-right: 1px solid black; border-left: 1px solid black; }\n\n    #menu-content div { border-top: 1px solid black; padding: 10px; white-space: nowrap; }\n\n    #menu-content div:hover { background-color: #FEFEFE;; }\n  \n</style>\n</head>\n\n<body>\n\n<script src=&quot;/nbextensions/threejs/build/three.min.js&quot;></script>\n<script src=&quot;/nbextensions/threejs/examples/js/controls/OrbitControls.js&quot;></script>\n<script>\n  if ( !window.THREE ) document.write(' \\\n<script src=&quot;https://cdn.jsdelivr.net/gh/mrdoob/three.js@r110/build/three.min.js&quot;><\\/script> \\\n<script src=&quot;https://cdn.jsdelivr.net/gh/mrdoob/three.js@r110/examples/js/controls/OrbitControls.js&quot;><\\/script> \\\n            ');\n</script>\n        \n<script>\n\n    var scene = new THREE.Scene();\n\n    var renderer = new THREE.WebGLRenderer( { antialias: true, preserveDrawingBuffer: true } );\n    renderer.setPixelRatio( window.devicePixelRatio );\n    renderer.setSize( window.innerWidth, window.innerHeight );\n    renderer.setClearColor( 0xffffff, 1 );\n    document.body.appendChild( renderer.domElement );\n\n    var options = {&quot;aspectRatio&quot;: [1.0, 1.0, 1.0], &quot;axes&quot;: false, &quot;axesLabels&quot;: [&quot;x&quot;, &quot;y&quot;, &quot;z&quot;], &quot;decimals&quot;: 2, &quot;frame&quot;: true, &quot;projection&quot;: &quot;perspective&quot;};\n\n    // When animations are supported by the viewer, the value 'false'\n    // will be replaced with an option set in Python by the user\n    var animate = false; // options.animate;\n\n    var b = [{&quot;x&quot;:0.0, &quot;y&quot;:0.0, &quot;z&quot;:0.0}, {&quot;x&quot;:3.0, &quot;y&quot;:4.0, &quot;z&quot;:5.0}]; // bounds\n\n    if ( b[0].x === b[1].x ) {\n        b[0].x -= 1;\n        b[1].x += 1;\n    }\n    if ( b[0].y === b[1].y ) {\n        b[0].y -= 1;\n        b[1].y += 1;\n    }\n    if ( b[0].z === b[1].z ) {\n        b[0].z -= 1;\n        b[1].z += 1;\n    }\n\n    var rRange = Math.sqrt( Math.pow( b[1].x - b[0].x, 2 )\n                            + Math.pow( b[1].y - b[0].y, 2 ) );\n    var xRange = b[1].x - b[0].x;\n    var yRange = b[1].y - b[0].y;\n    var zRange = b[1].z - b[0].z;\n\n    var ar = options.aspectRatio;\n    var a = [ ar[0], ar[1], ar[2] ]; // aspect multipliers\n    var autoAspect = 2.5;\n    if ( zRange > autoAspect * rRange && a[2] === 1 ) a[2] = autoAspect * rRange / zRange;\n\n    // Distance from (xMid,yMid,zMid) to any corner of the bounding box, after applying aspectRatio\n    var midToCorner = Math.sqrt( a[0]*a[0]*xRange*xRange + a[1]*a[1]*yRange*yRange + a[2]*a[2]*zRange*zRange ) / 2;\n\n    var xMid = ( b[0].x + b[1].x ) / 2;\n    var yMid = ( b[0].y + b[1].y ) / 2;\n    var zMid = ( b[0].z + b[1].z ) / 2;\n\n    var box = new THREE.Geometry();\n    box.vertices.push( new THREE.Vector3( a[0]*b[0].x, a[1]*b[0].y, a[2]*b[0].z ) );\n    box.vertices.push( new THREE.Vector3( a[0]*b[1].x, a[1]*b[1].y, a[2]*b[1].z ) );\n    var boxMesh = new THREE.Line( box );\n    if ( options.frame ) scene.add( new THREE.BoxHelper( boxMesh, 'black' ) );\n\n    if ( options.axesLabels ) {\n\n        var d = options.decimals; // decimals\n        var offsetRatio = 0.1;\n        var al = options.axesLabels;\n\n        var offset = offsetRatio * a[1]*( b[1].y - b[0].y );\n        var xm = xMid.toFixed(d);\n        if ( /^-0.?0*$/.test(xm) ) xm = xm.substr(1);\n        addLabel( al[0] + '=' + xm, a[0]*xMid, a[1]*b[1].y+offset, a[2]*b[0].z );\n        addLabel( ( b[0].x ).toFixed(d), a[0]*b[0].x, a[1]*b[1].y+offset, a[2]*b[0].z );\n        addLabel( ( b[1].x ).toFixed(d), a[0]*b[1].x, a[1]*b[1].y+offset, a[2]*b[0].z );\n\n        var offset = offsetRatio * a[0]*( b[1].x - b[0].x );\n        var ym = yMid.toFixed(d);\n        if ( /^-0.?0*$/.test(ym) ) ym = ym.substr(1);\n        addLabel( al[1] + '=' + ym, a[0]*b[1].x+offset, a[1]*yMid, a[2]*b[0].z );\n        addLabel( ( b[0].y ).toFixed(d), a[0]*b[1].x+offset, a[1]*b[0].y, a[2]*b[0].z );\n        addLabel( ( b[1].y ).toFixed(d), a[0]*b[1].x+offset, a[1]*b[1].y, a[2]*b[0].z );\n\n        var offset = offsetRatio * a[1]*( b[1].y - b[0].y );\n        var zm = zMid.toFixed(d);\n        if ( /^-0.?0*$/.test(zm) ) zm = zm.substr(1);\n        addLabel( al[2] + '=' + zm, a[0]*b[1].x, a[1]*b[0].y-offset, a[2]*zMid );\n        addLabel( ( b[0].z ).toFixed(d), a[0]*b[1].x, a[1]*b[0].y-offset, a[2]*b[0].z );\n        addLabel( ( b[1].z ).toFixed(d), a[0]*b[1].x, a[1]*b[0].y-offset, a[2]*b[1].z );\n\n    }\n\n    function addLabel( text, x, y, z, color='black', fontsize=14  ) {\n\n        var canvas = document.createElement( 'canvas' );\n        var pixelRatio = Math.round( window.devicePixelRatio );\n        canvas.width = 128 * pixelRatio;\n        canvas.height = 32 * pixelRatio; // powers of two\n        canvas.style.width = '128px';\n        canvas.style.height = '32px';\n\n        var context = canvas.getContext( '2d' );\n        context.scale( pixelRatio, pixelRatio );\n        context.fillStyle = color;\n        context.font = fontsize + 'px monospace';\n        context.textAlign = 'center';\n        context.textBaseline = 'middle';\n        context.fillText( text, canvas.width/2/pixelRatio, canvas.height/2/pixelRatio );\n\n        var texture = new THREE.Texture( canvas );\n        texture.needsUpdate = true;\n\n        var sprite = new THREE.Sprite( new THREE.SpriteMaterial( { map: texture } ) );\n        sprite.position.set( x, y, z );\n\n        // Set the initial scale based on plot size to accomodate orthographic projection.\n        // For other projections, the scale will get reset each frame based on camera distance.\n        var scale = midToCorner/2;\n        sprite.scale.set( scale, scale*.25, 1 ); // ratio of canvas width to height\n\n        scene.add( sprite );\n\n    }\n\n    if ( options.axes ) scene.add( new THREE.AxesHelper( Math.min( a[0]*b[1].x, a[1]*b[1].y, a[2]*b[1].z ) ) );\n\n    var camera = createCamera();\n    camera.up.set( 0, 0, 1 );\n    camera.position.set( a[0]*(xMid+xRange), a[1]*(yMid+yRange), a[2]*(zMid+zRange) );\n\n    function createCamera() {\n\n        var aspect = window.innerWidth / window.innerHeight;\n\n        if ( options.projection === 'orthographic' ) {\n            var camera = new THREE.OrthographicCamera( -1, 1, 1, -1, -1000, 1000 );\n            updateCameraAspect( camera, aspect );\n            return camera;\n        }\n\n        return new THREE.PerspectiveCamera( 45, aspect, 0.1, 1000 );\n\n    }\n\n    function updateCameraAspect( camera, aspect ) {\n\n        if ( camera.isPerspectiveCamera ) {\n            camera.aspect = aspect;\n        } else if ( camera.isOrthographicCamera ) {\n            // Fit the camera frustum to the bounding box's diagonal so that the entire plot fits\n            // within at the default zoom level and camera position.\n            if ( aspect > 1 ) { // Wide window\n                camera.top = midToCorner;\n                camera.right = midToCorner * aspect;\n            } else { // Tall or square window\n                camera.top = midToCorner / aspect;\n                camera.right = midToCorner;\n            }\n            camera.bottom = -camera.top;\n            camera.left = -camera.right;\n        }\n\n        camera.updateProjectionMatrix();\n\n    }\n\n    var lights = [{&quot;x&quot;:-5, &quot;y&quot;:3, &quot;z&quot;:0, &quot;color&quot;:&quot;#7f7f7f&quot;, &quot;parent&quot;:&quot;camera&quot;}];\n    for ( var i=0 ; i < lights.length ; i++ ) {\n        var light = new THREE.DirectionalLight( lights[i].color, 1 );\n        light.position.set( a[0]*lights[i].x, a[1]*lights[i].y, a[2]*lights[i].z );\n        if ( lights[i].parent === 'camera' ) {\n            light.target.position.set( a[0]*xMid, a[1]*yMid, a[2]*zMid );\n            scene.add( light.target );\n            camera.add( light );\n        } else scene.add( light );\n    }\n    scene.add( camera );\n\n    var ambient = {&quot;color&quot;:&quot;#7f7f7f&quot;};\n    scene.add( new THREE.AmbientLight( ambient.color, 1 ) );\n\n    var controls = new THREE.OrbitControls( camera, renderer.domElement );\n    controls.target.set( a[0]*xMid, a[1]*yMid, a[2]*zMid );\n    controls.addEventListener( 'change', function() { if ( !animate ) render(); } );\n\n    window.addEventListener( 'resize', function() {\n        \n        renderer.setSize( window.innerWidth, window.innerHeight );\n        updateCameraAspect( camera, window.innerWidth / window.innerHeight );\n        if ( !animate ) render();\n        \n    } );\n\n    var texts = [];\n    for ( var i=0 ; i < texts.length ; i++ )\n        addLabel( texts[i].text, a[0]*texts[i].x, a[1]*texts[i].y, a[2]*texts[i].z, texts[i].color );\n\n    var points = [];\n    for ( var i=0 ; i < points.length ; i++ ) addPoint( points[i] );\n\n    function addPoint( json ) {\n\n        var geometry = new THREE.Geometry();\n        var v = json.point;\n        geometry.vertices.push( new THREE.Vector3( a[0]*v[0], a[1]*v[1], a[2]*v[2] ) );\n\n        var canvas = document.createElement( 'canvas' );\n        canvas.width = 128;\n        canvas.height = 128;\n\n        var context = canvas.getContext( '2d' );\n        context.arc( 64, 64, 64, 0, 2 * Math.PI );\n        context.fillStyle = json.color;\n        context.fill();\n\n        var texture = new THREE.Texture( canvas );\n        texture.needsUpdate = true;\n\n        var transparent = json.opacity < 1 ? true : false;\n        var size = camera.isOrthographicCamera ? json.size : json.size/100;\n        var material = new THREE.PointsMaterial( { size: size, map: texture,\n                                                   transparent: transparent, opacity: json.opacity,\n                                                   alphaTest: .1 } );\n\n        var c = new THREE.Vector3();\n        geometry.computeBoundingBox();\n        geometry.boundingBox.getCenter( c );\n        geometry.translate( -c.x, -c.y, -c.z );\n\n        var mesh = new THREE.Points( geometry, material );\n        mesh.position.set( c.x, c.y, c.z );\n        scene.add( mesh );\n\n    }\n\n    var lines = [];\n    for ( var i=0 ; i < lines.length ; i++ ) addLine( lines[i] );\n\n    function addLine( json ) {\n\n        var geometry = new THREE.Geometry();\n        for ( var i=0 ; i < json.points.length ; i++ ) {\n            var v = json.points[i];\n            geometry.vertices.push( new THREE.Vector3( a[0]*v[0], a[1]*v[1], a[2]*v[2] ) );\n        }\n\n        var transparent = json.opacity < 1 ? true : false;\n        var material = new THREE.LineBasicMaterial( { color: json.color, linewidth: json.linewidth,\n                                                      transparent: transparent, opacity: json.opacity } );\n\n        var c = new THREE.Vector3();\n        geometry.computeBoundingBox();\n        geometry.boundingBox.getCenter( c );\n        geometry.translate( -c.x, -c.y, -c.z );\n\n        var mesh = new THREE.Line( geometry, material );\n        mesh.position.set( c.x, c.y, c.z );\n        scene.add( mesh );\n\n    }\n\n    var surfaces = [{&quot;vertices&quot;: [{&quot;x&quot;: 2.9618162338159264, &quot;y&quot;: 3.9490883117545694, &quot;z&quot;: 4.936360389693211}, {&quot;x&quot;: 2.9698895470489632, &quot;y&quot;: 3.9502621457917657, &quot;z&quot;: 4.9305773345236314}, {&quot;x&quot;: 2.960410346365622, &quot;y&quot;: 3.9572137951541633, &quot;z&quot;: 4.930703535443718}, {&quot;x&quot;: 2.9682117032460718, &quot;y&quot;: 3.941688297687114, &quot;z&quot;: 4.938443119289087}, {&quot;x&quot;: 2.9576955380647307, &quot;y&quot;: 3.9433410175064587, &quot;z&quot;: 4.943430642542417}, {&quot;x&quot;: 2.952874034354245, &quot;y&quot;: 3.9529363026333453, &quot;z&quot;: 4.938647316667199}, {&quot;x&quot;: 0.008073313233036653, &quot;y&quot;: 0.0011738340371962959, &quot;z&quot;: -0.005783055169579028}, {&quot;x&quot;: -0.001405887450304572, &quot;y&quot;: 0.008125483399593904, &quot;z&quot;: -0.005656854249492381}, {&quot;x&quot;: 0.006395469430145524, &quot;y&quot;: -0.007400014067455085, &quot;z&quot;: 0.002082729595876754}, {&quot;x&quot;: -0.004120695751195796, &quot;y&quot;: -0.005747294248110896, &quot;z&quot;: 0.007070252849206196}, {&quot;x&quot;: -0.008942199461681807, &quot;y&quot;: 0.0038479908787757786, &quot;z&quot;: 0.00228692697398846}, {&quot;x&quot;: 0.0, &quot;y&quot;: 0.0, &quot;z&quot;: 0.0}], &quot;faces&quot;: [[0, 1, 2], [0, 3, 1], [0, 4, 3], [0, 5, 4], [0, 2, 5], [2, 1, 6, 7], [1, 3, 8, 6], [3, 4, 9, 8], [4, 5, 10, 9], [5, 2, 7, 10], [7, 6, 11], [6, 8, 11], [8, 9, 11], [9, 10, 11], [10, 7, 11]], &quot;color&quot;: &quot;#6666ff&quot;, &quot;opacity&quot;: 1.0}, {&quot;vertices&quot;: [{&quot;x&quot;: 3.0, &quot;y&quot;: 4.000000000000001, &quot;z&quot;: 5.0}, {&quot;x&quot;: 2.9860361735150365, &quot;y&quot;: 3.9526098138661583, &quot;z&quot;: 4.919011224184474}, {&quot;x&quot;: 2.9575985714650126, &quot;y&quot;: 3.973464761953351, &quot;z&quot;: 4.919389826944734}, {&quot;x&quot;: 2.981002642106363, &quot;y&quot;: 3.926888269552204, &quot;z&quot;: 4.942608578480841}, {&quot;x&quot;: 2.949454146562339, &quot;y&quot;: 3.931846429010237, &quot;z&quot;: 4.957571148240829}, {&quot;x&quot;: 2.934989635430881, &quot;y&quot;: 3.9606322843908965, &quot;z&quot;: 4.943221170615176}, {&quot;x&quot;: 2.9618162338159264, &quot;y&quot;: 3.9490883117545694, &quot;z&quot;: 4.936360389693211}], &quot;faces&quot;: [[0, 1, 2], [0, 3, 1], [0, 4, 3], [0, 5, 4], [0, 2, 5], [2, 1, 6], [1, 3, 6], [3, 4, 6], [4, 5, 6], [5, 2, 6]], &quot;color&quot;: &quot;#6666ff&quot;, &quot;opacity&quot;: 1.0}];\n    for ( var i=0 ; i < surfaces.length ; i++ ) addSurface( surfaces[i] );\n\n    function addSurface( json ) {\n\n        var useFaceColors = 'faceColors' in json ? true : false;\n\n        var geometry = new THREE.Geometry();\n        for ( var i=0 ; i < json.vertices.length ; i++ ) {\n            var v = json.vertices[i];\n            geometry.vertices.push( new THREE.Vector3( a[0]*v.x, a[1]*v.y, a[2]*v.z ) );\n        }\n        for ( var i=0 ; i < json.faces.length ; i++ ) {\n            var f = json.faces[i];\n            for ( var j=0 ; j < f.length - 2 ; j++ ) {\n                var face = new THREE.Face3( f[0], f[j+1], f[j+2] );\n                if ( useFaceColors ) face.color.set( json.faceColors[i] );\n                geometry.faces.push( face );\n            }\n        }\n        geometry.computeVertexNormals();\n\n        var side = json.singleSide ? THREE.FrontSide : THREE.DoubleSide;\n        var transparent = json.opacity < 1 ? true : false;\n\n        var material = new THREE.MeshPhongMaterial( { side: side,\n                                     color: useFaceColors ? 'white' : json.color,\n                                     vertexColors: useFaceColors ? THREE.FaceColors : THREE.NoColors,\n                                     transparent: transparent, opacity: json.opacity,\n                                     shininess: 20, flatShading: json.useFlatShading } );\n\n        var c = new THREE.Vector3();\n        geometry.computeBoundingBox();\n        geometry.boundingBox.getCenter( c );\n        geometry.translate( -c.x, -c.y, -c.z );\n\n        var mesh = new THREE.Mesh( geometry, material );\n        mesh.position.set( c.x, c.y, c.z );\n        if ( transparent && json.renderOrder ) mesh.renderOrder = json.renderOrder;\n        scene.add( mesh );\n\n        if ( json.showMeshGrid ) {\n\n            var geometry = new THREE.Geometry();\n\n            for ( var i=0 ; i < json.faces.length ; i++ ) {\n                var f = json.faces[i];\n                for ( var j=0 ; j < f.length ; j++ ) {\n                    var k = j === f.length-1 ? 0 : j+1;\n                    var v1 = json.vertices[f[j]];\n                    var v2 = json.vertices[f[k]];\n                    // vertices in opposite directions on neighboring faces\n                    var nudge = f[j] < f[k] ? .0005*zRange : -.0005*zRange;\n                    geometry.vertices.push( new THREE.Vector3( a[0]*v1.x, a[1]*v1.y, a[2]*(v1.z+nudge) ) );\n                    geometry.vertices.push( new THREE.Vector3( a[0]*v2.x, a[1]*v2.y, a[2]*(v2.z+nudge) ) );\n                }\n            }\n\n            var material = new THREE.LineBasicMaterial( { color: 'black', linewidth: 1 } );\n\n            var c = new THREE.Vector3();\n            geometry.computeBoundingBox();\n            geometry.boundingBox.getCenter( c );\n            geometry.translate( -c.x, -c.y, -c.z );\n\n            var mesh = new THREE.LineSegments( geometry, material );\n            mesh.position.set( c.x, c.y, c.z );\n            scene.add( mesh );\n\n        }\n\n    }\n\n    var scratch = new THREE.Vector3();\n\n    function render() {\n\n        if ( animate ) requestAnimationFrame( render );\n        renderer.render( scene, camera );\n\n        // Resize text based on distance from camera.\n        // Not neccessary for orthographic due to the nature of the projection (preserves sizes).\n        if ( !camera.isOrthographicCamera ) {\n            for ( var i=0 ; i < scene.children.length ; i++ ) {\n                if ( scene.children[i].type === 'Sprite' ) {\n                    var sprite = scene.children[i];\n                    var adjust = scratch.addVectors( sprite.position, scene.position )\n                                    .sub( camera.position ).length() / 5;\n                    sprite.scale.set( adjust, .25*adjust, 1 ); // ratio of canvas width to height\n                }\n            }\n        }\n    }\n    \n    render();\n    controls.update();\n    if ( !animate ) render();\n\n\n    // menu functions\n\n    function toggleMenu() {\n\n        var m = document.getElementById( 'menu-content' );\n        if ( m.style.display === 'block' ) m.style.display = 'none'\n        else m.style.display = 'block';\n\n    }\n\n\n    function saveAsPNG() {\n\n        var a = document.body.appendChild( document.createElement( 'a' ) );\n        a.href = renderer.domElement.toDataURL( 'image/png' );\n        a.download = 'screenshot';\n        a.click();\n\n    }\n\n    function saveAsHTML() {\n\n        toggleMenu(); // otherwise visible in output\n        event.stopPropagation();\n\n        var blob = new Blob( [ '<!DOCTYPE html>\\n' + document.documentElement.outerHTML ] );\n        var a = document.body.appendChild( document.createElement( 'a' ) );\n        a.href = window.URL.createObjectURL( blob );\n        a.download = 'graphic.html';\n        a.click();\n\n    }\n\n    function getViewpoint() {\n\n        function roundTo( x, n ) { return +x.toFixed(n); }\n\n        var v = camera.quaternion.inverse();\n        var r = Math.sqrt( v.x*v.x + v.y*v.y + v.z*v.z );\n        var axis = [ roundTo( v.x / r, 4 ), roundTo( v.y / r, 4 ), roundTo( v.z / r, 4 ) ];\n        var angle = roundTo( 2 * Math.atan2( r, v.w ) * 180 / Math.PI, 2 );\n\n        var textArea = document.createElement( 'textarea' );\n        textArea.textContent = JSON.stringify( axis ) + ',' + angle;\n        textArea.style.csstext = 'position: absolute; top: -100%';\n        document.body.append( textArea );\n        textArea.select();\n        document.execCommand( 'copy' );\n\n        var m = document.getElementById( 'menu-message' );\n        m.innerHTML = 'Viewpoint copied to clipboard';\n        m.style.display = 'block';\n        setTimeout( function() { m.style.display = 'none'; }, 2000 );\n\n    }\n\n</script>\n\n<div id=&quot;menu-container&quot; onclick=&quot;toggleMenu()&quot;>&#x24d8;\n<div id=&quot;menu-message&quot;></div>\n<div id=&quot;menu-content&quot;>\n<div onclick=&quot;saveAsPNG()&quot;>Save as PNG</div>\n<div onclick=&quot;saveAsHTML()&quot;>Save as HTML</div>\n<div onclick=&quot;getViewpoint()&quot;>Get Viewpoint</div>\n<div>Close Menu</div>\n</div></div>\n\n</body>\n</html>\n\"\n        width=\"100%\"\n        height=\"400\"\n        style=\"border: 0;\">\n</iframe>\n",
      "text/plain": [
       "Graphics3d Object"
      ]
     },
     "execution_count": 11,
     "metadata": {
     },
     "output_type": "execute_result"
    }
   ],
   "source": [
    "u.plot()"
   ]
  },
  {
   "cell_type": "code",
   "execution_count": 12,
   "metadata": {
    "collapsed": false
   },
   "outputs": [
    {
     "data": {
      "text/html": "\n<iframe srcdoc=\"<!DOCTYPE html>\n<html>\n<head>\n<title></title>\n<meta charset=&quot;utf-8&quot;>\n<meta name=viewport content=&quot;width=device-width, user-scalable=no, minimum-scale=1.0, maximum-scale=1.0&quot;>\n<style>\n\n    body { margin: 0px; overflow: hidden; }\n\n    #menu-container { position: absolute; bottom: 30px; right: 40px; cursor: default; }\n\n    #menu-message { position: absolute; bottom: 0px; right: 0px; white-space: nowrap;\n                    display: none; background-color: #F5F5F5; padding: 10px; }\n\n    #menu-content { position: absolute; bottom: 0px; right: 0px;\n                    display: none; background-color: #F5F5F5; border-bottom: 1px solid black;\n                    border-right: 1px solid black; border-left: 1px solid black; }\n\n    #menu-content div { border-top: 1px solid black; padding: 10px; white-space: nowrap; }\n\n    #menu-content div:hover { background-color: #FEFEFE;; }\n  \n</style>\n</head>\n\n<body>\n\n<script src=&quot;/nbextensions/threejs/build/three.min.js&quot;></script>\n<script src=&quot;/nbextensions/threejs/examples/js/controls/OrbitControls.js&quot;></script>\n<script>\n  if ( !window.THREE ) document.write(' \\\n<script src=&quot;https://cdn.jsdelivr.net/gh/mrdoob/three.js@r110/build/three.min.js&quot;><\\/script> \\\n<script src=&quot;https://cdn.jsdelivr.net/gh/mrdoob/three.js@r110/examples/js/controls/OrbitControls.js&quot;><\\/script> \\\n            ');\n</script>\n        \n<script>\n\n    var scene = new THREE.Scene();\n\n    var renderer = new THREE.WebGLRenderer( { antialias: true, preserveDrawingBuffer: true } );\n    renderer.setPixelRatio( window.devicePixelRatio );\n    renderer.setSize( window.innerWidth, window.innerHeight );\n    renderer.setClearColor( 0xffffff, 1 );\n    document.body.appendChild( renderer.domElement );\n\n    var options = {&quot;aspectRatio&quot;: [1.0, 1.0, 1.0], &quot;axes&quot;: true, &quot;axesLabels&quot;: [&quot;x&quot;, &quot;y&quot;, &quot;z&quot;], &quot;decimals&quot;: 2, &quot;frame&quot;: true, &quot;projection&quot;: &quot;perspective&quot;};\n\n    // When animations are supported by the viewer, the value 'false'\n    // will be replaced with an option set in Python by the user\n    var animate = false; // options.animate;\n\n    var b = [{&quot;x&quot;:0.0, &quot;y&quot;:0.0, &quot;z&quot;:0.0}, {&quot;x&quot;:3.0, &quot;y&quot;:4.0, &quot;z&quot;:5.0}]; // bounds\n\n    if ( b[0].x === b[1].x ) {\n        b[0].x -= 1;\n        b[1].x += 1;\n    }\n    if ( b[0].y === b[1].y ) {\n        b[0].y -= 1;\n        b[1].y += 1;\n    }\n    if ( b[0].z === b[1].z ) {\n        b[0].z -= 1;\n        b[1].z += 1;\n    }\n\n    var rRange = Math.sqrt( Math.pow( b[1].x - b[0].x, 2 )\n                            + Math.pow( b[1].y - b[0].y, 2 ) );\n    var xRange = b[1].x - b[0].x;\n    var yRange = b[1].y - b[0].y;\n    var zRange = b[1].z - b[0].z;\n\n    var ar = options.aspectRatio;\n    var a = [ ar[0], ar[1], ar[2] ]; // aspect multipliers\n    var autoAspect = 2.5;\n    if ( zRange > autoAspect * rRange && a[2] === 1 ) a[2] = autoAspect * rRange / zRange;\n\n    // Distance from (xMid,yMid,zMid) to any corner of the bounding box, after applying aspectRatio\n    var midToCorner = Math.sqrt( a[0]*a[0]*xRange*xRange + a[1]*a[1]*yRange*yRange + a[2]*a[2]*zRange*zRange ) / 2;\n\n    var xMid = ( b[0].x + b[1].x ) / 2;\n    var yMid = ( b[0].y + b[1].y ) / 2;\n    var zMid = ( b[0].z + b[1].z ) / 2;\n\n    var box = new THREE.Geometry();\n    box.vertices.push( new THREE.Vector3( a[0]*b[0].x, a[1]*b[0].y, a[2]*b[0].z ) );\n    box.vertices.push( new THREE.Vector3( a[0]*b[1].x, a[1]*b[1].y, a[2]*b[1].z ) );\n    var boxMesh = new THREE.Line( box );\n    if ( options.frame ) scene.add( new THREE.BoxHelper( boxMesh, 'black' ) );\n\n    if ( options.axesLabels ) {\n\n        var d = options.decimals; // decimals\n        var offsetRatio = 0.1;\n        var al = options.axesLabels;\n\n        var offset = offsetRatio * a[1]*( b[1].y - b[0].y );\n        var xm = xMid.toFixed(d);\n        if ( /^-0.?0*$/.test(xm) ) xm = xm.substr(1);\n        addLabel( al[0] + '=' + xm, a[0]*xMid, a[1]*b[1].y+offset, a[2]*b[0].z );\n        addLabel( ( b[0].x ).toFixed(d), a[0]*b[0].x, a[1]*b[1].y+offset, a[2]*b[0].z );\n        addLabel( ( b[1].x ).toFixed(d), a[0]*b[1].x, a[1]*b[1].y+offset, a[2]*b[0].z );\n\n        var offset = offsetRatio * a[0]*( b[1].x - b[0].x );\n        var ym = yMid.toFixed(d);\n        if ( /^-0.?0*$/.test(ym) ) ym = ym.substr(1);\n        addLabel( al[1] + '=' + ym, a[0]*b[1].x+offset, a[1]*yMid, a[2]*b[0].z );\n        addLabel( ( b[0].y ).toFixed(d), a[0]*b[1].x+offset, a[1]*b[0].y, a[2]*b[0].z );\n        addLabel( ( b[1].y ).toFixed(d), a[0]*b[1].x+offset, a[1]*b[1].y, a[2]*b[0].z );\n\n        var offset = offsetRatio * a[1]*( b[1].y - b[0].y );\n        var zm = zMid.toFixed(d);\n        if ( /^-0.?0*$/.test(zm) ) zm = zm.substr(1);\n        addLabel( al[2] + '=' + zm, a[0]*b[1].x, a[1]*b[0].y-offset, a[2]*zMid );\n        addLabel( ( b[0].z ).toFixed(d), a[0]*b[1].x, a[1]*b[0].y-offset, a[2]*b[0].z );\n        addLabel( ( b[1].z ).toFixed(d), a[0]*b[1].x, a[1]*b[0].y-offset, a[2]*b[1].z );\n\n    }\n\n    function addLabel( text, x, y, z, color='black', fontsize=14  ) {\n\n        var canvas = document.createElement( 'canvas' );\n        var pixelRatio = Math.round( window.devicePixelRatio );\n        canvas.width = 128 * pixelRatio;\n        canvas.height = 32 * pixelRatio; // powers of two\n        canvas.style.width = '128px';\n        canvas.style.height = '32px';\n\n        var context = canvas.getContext( '2d' );\n        context.scale( pixelRatio, pixelRatio );\n        context.fillStyle = color;\n        context.font = fontsize + 'px monospace';\n        context.textAlign = 'center';\n        context.textBaseline = 'middle';\n        context.fillText( text, canvas.width/2/pixelRatio, canvas.height/2/pixelRatio );\n\n        var texture = new THREE.Texture( canvas );\n        texture.needsUpdate = true;\n\n        var sprite = new THREE.Sprite( new THREE.SpriteMaterial( { map: texture } ) );\n        sprite.position.set( x, y, z );\n\n        // Set the initial scale based on plot size to accomodate orthographic projection.\n        // For other projections, the scale will get reset each frame based on camera distance.\n        var scale = midToCorner/2;\n        sprite.scale.set( scale, scale*.25, 1 ); // ratio of canvas width to height\n\n        scene.add( sprite );\n\n    }\n\n    if ( options.axes ) scene.add( new THREE.AxesHelper( Math.min( a[0]*b[1].x, a[1]*b[1].y, a[2]*b[1].z ) ) );\n\n    var camera = createCamera();\n    camera.up.set( 0, 0, 1 );\n    camera.position.set( a[0]*(xMid+xRange), a[1]*(yMid+yRange), a[2]*(zMid+zRange) );\n\n    function createCamera() {\n\n        var aspect = window.innerWidth / window.innerHeight;\n\n        if ( options.projection === 'orthographic' ) {\n            var camera = new THREE.OrthographicCamera( -1, 1, 1, -1, -1000, 1000 );\n            updateCameraAspect( camera, aspect );\n            return camera;\n        }\n\n        return new THREE.PerspectiveCamera( 45, aspect, 0.1, 1000 );\n\n    }\n\n    function updateCameraAspect( camera, aspect ) {\n\n        if ( camera.isPerspectiveCamera ) {\n            camera.aspect = aspect;\n        } else if ( camera.isOrthographicCamera ) {\n            // Fit the camera frustum to the bounding box's diagonal so that the entire plot fits\n            // within at the default zoom level and camera position.\n            if ( aspect > 1 ) { // Wide window\n                camera.top = midToCorner;\n                camera.right = midToCorner * aspect;\n            } else { // Tall or square window\n                camera.top = midToCorner / aspect;\n                camera.right = midToCorner;\n            }\n            camera.bottom = -camera.top;\n            camera.left = -camera.right;\n        }\n\n        camera.updateProjectionMatrix();\n\n    }\n\n    var lights = [{&quot;x&quot;:-5, &quot;y&quot;:3, &quot;z&quot;:0, &quot;color&quot;:&quot;#7f7f7f&quot;, &quot;parent&quot;:&quot;camera&quot;}];\n    for ( var i=0 ; i < lights.length ; i++ ) {\n        var light = new THREE.DirectionalLight( lights[i].color, 1 );\n        light.position.set( a[0]*lights[i].x, a[1]*lights[i].y, a[2]*lights[i].z );\n        if ( lights[i].parent === 'camera' ) {\n            light.target.position.set( a[0]*xMid, a[1]*yMid, a[2]*zMid );\n            scene.add( light.target );\n            camera.add( light );\n        } else scene.add( light );\n    }\n    scene.add( camera );\n\n    var ambient = {&quot;color&quot;:&quot;#7f7f7f&quot;};\n    scene.add( new THREE.AmbientLight( ambient.color, 1 ) );\n\n    var controls = new THREE.OrbitControls( camera, renderer.domElement );\n    controls.target.set( a[0]*xMid, a[1]*yMid, a[2]*zMid );\n    controls.addEventListener( 'change', function() { if ( !animate ) render(); } );\n\n    window.addEventListener( 'resize', function() {\n        \n        renderer.setSize( window.innerWidth, window.innerHeight );\n        updateCameraAspect( camera, window.innerWidth / window.innerHeight );\n        if ( !animate ) render();\n        \n    } );\n\n    var texts = [];\n    for ( var i=0 ; i < texts.length ; i++ )\n        addLabel( texts[i].text, a[0]*texts[i].x, a[1]*texts[i].y, a[2]*texts[i].z, texts[i].color );\n\n    var points = [];\n    for ( var i=0 ; i < points.length ; i++ ) addPoint( points[i] );\n\n    function addPoint( json ) {\n\n        var geometry = new THREE.Geometry();\n        var v = json.point;\n        geometry.vertices.push( new THREE.Vector3( a[0]*v[0], a[1]*v[1], a[2]*v[2] ) );\n\n        var canvas = document.createElement( 'canvas' );\n        canvas.width = 128;\n        canvas.height = 128;\n\n        var context = canvas.getContext( '2d' );\n        context.arc( 64, 64, 64, 0, 2 * Math.PI );\n        context.fillStyle = json.color;\n        context.fill();\n\n        var texture = new THREE.Texture( canvas );\n        texture.needsUpdate = true;\n\n        var transparent = json.opacity < 1 ? true : false;\n        var size = camera.isOrthographicCamera ? json.size : json.size/100;\n        var material = new THREE.PointsMaterial( { size: size, map: texture,\n                                                   transparent: transparent, opacity: json.opacity,\n                                                   alphaTest: .1 } );\n\n        var c = new THREE.Vector3();\n        geometry.computeBoundingBox();\n        geometry.boundingBox.getCenter( c );\n        geometry.translate( -c.x, -c.y, -c.z );\n\n        var mesh = new THREE.Points( geometry, material );\n        mesh.position.set( c.x, c.y, c.z );\n        scene.add( mesh );\n\n    }\n\n    var lines = [];\n    for ( var i=0 ; i < lines.length ; i++ ) addLine( lines[i] );\n\n    function addLine( json ) {\n\n        var geometry = new THREE.Geometry();\n        for ( var i=0 ; i < json.points.length ; i++ ) {\n            var v = json.points[i];\n            geometry.vertices.push( new THREE.Vector3( a[0]*v[0], a[1]*v[1], a[2]*v[2] ) );\n        }\n\n        var transparent = json.opacity < 1 ? true : false;\n        var material = new THREE.LineBasicMaterial( { color: json.color, linewidth: json.linewidth,\n                                                      transparent: transparent, opacity: json.opacity } );\n\n        var c = new THREE.Vector3();\n        geometry.computeBoundingBox();\n        geometry.boundingBox.getCenter( c );\n        geometry.translate( -c.x, -c.y, -c.z );\n\n        var mesh = new THREE.Line( geometry, material );\n        mesh.position.set( c.x, c.y, c.z );\n        scene.add( mesh );\n\n    }\n\n    var surfaces = [{&quot;vertices&quot;: [{&quot;x&quot;: 2.9618162338159264, &quot;y&quot;: 3.9490883117545694, &quot;z&quot;: 4.936360389693211}, {&quot;x&quot;: 2.9698895470489632, &quot;y&quot;: 3.9502621457917657, &quot;z&quot;: 4.9305773345236314}, {&quot;x&quot;: 2.960410346365622, &quot;y&quot;: 3.9572137951541633, &quot;z&quot;: 4.930703535443718}, {&quot;x&quot;: 2.9682117032460718, &quot;y&quot;: 3.941688297687114, &quot;z&quot;: 4.938443119289087}, {&quot;x&quot;: 2.9576955380647307, &quot;y&quot;: 3.9433410175064587, &quot;z&quot;: 4.943430642542417}, {&quot;x&quot;: 2.952874034354245, &quot;y&quot;: 3.9529363026333453, &quot;z&quot;: 4.938647316667199}, {&quot;x&quot;: 0.008073313233036653, &quot;y&quot;: 0.0011738340371962959, &quot;z&quot;: -0.005783055169579028}, {&quot;x&quot;: -0.001405887450304572, &quot;y&quot;: 0.008125483399593904, &quot;z&quot;: -0.005656854249492381}, {&quot;x&quot;: 0.006395469430145524, &quot;y&quot;: -0.007400014067455085, &quot;z&quot;: 0.002082729595876754}, {&quot;x&quot;: -0.004120695751195796, &quot;y&quot;: -0.005747294248110896, &quot;z&quot;: 0.007070252849206196}, {&quot;x&quot;: -0.008942199461681807, &quot;y&quot;: 0.0038479908787757786, &quot;z&quot;: 0.00228692697398846}, {&quot;x&quot;: 0.0, &quot;y&quot;: 0.0, &quot;z&quot;: 0.0}], &quot;faces&quot;: [[0, 1, 2], [0, 3, 1], [0, 4, 3], [0, 5, 4], [0, 2, 5], [2, 1, 6, 7], [1, 3, 8, 6], [3, 4, 9, 8], [4, 5, 10, 9], [5, 2, 7, 10], [7, 6, 11], [6, 8, 11], [8, 9, 11], [9, 10, 11], [10, 7, 11]], &quot;color&quot;: &quot;#6666ff&quot;, &quot;opacity&quot;: 1.0}, {&quot;vertices&quot;: [{&quot;x&quot;: 3.0, &quot;y&quot;: 4.000000000000001, &quot;z&quot;: 5.0}, {&quot;x&quot;: 2.9860361735150365, &quot;y&quot;: 3.9526098138661583, &quot;z&quot;: 4.919011224184474}, {&quot;x&quot;: 2.9575985714650126, &quot;y&quot;: 3.973464761953351, &quot;z&quot;: 4.919389826944734}, {&quot;x&quot;: 2.981002642106363, &quot;y&quot;: 3.926888269552204, &quot;z&quot;: 4.942608578480841}, {&quot;x&quot;: 2.949454146562339, &quot;y&quot;: 3.931846429010237, &quot;z&quot;: 4.957571148240829}, {&quot;x&quot;: 2.934989635430881, &quot;y&quot;: 3.9606322843908965, &quot;z&quot;: 4.943221170615176}, {&quot;x&quot;: 2.9618162338159264, &quot;y&quot;: 3.9490883117545694, &quot;z&quot;: 4.936360389693211}], &quot;faces&quot;: [[0, 1, 2], [0, 3, 1], [0, 4, 3], [0, 5, 4], [0, 2, 5], [2, 1, 6], [1, 3, 6], [3, 4, 6], [4, 5, 6], [5, 2, 6]], &quot;color&quot;: &quot;#6666ff&quot;, &quot;opacity&quot;: 1.0}];\n    for ( var i=0 ; i < surfaces.length ; i++ ) addSurface( surfaces[i] );\n\n    function addSurface( json ) {\n\n        var useFaceColors = 'faceColors' in json ? true : false;\n\n        var geometry = new THREE.Geometry();\n        for ( var i=0 ; i < json.vertices.length ; i++ ) {\n            var v = json.vertices[i];\n            geometry.vertices.push( new THREE.Vector3( a[0]*v.x, a[1]*v.y, a[2]*v.z ) );\n        }\n        for ( var i=0 ; i < json.faces.length ; i++ ) {\n            var f = json.faces[i];\n            for ( var j=0 ; j < f.length - 2 ; j++ ) {\n                var face = new THREE.Face3( f[0], f[j+1], f[j+2] );\n                if ( useFaceColors ) face.color.set( json.faceColors[i] );\n                geometry.faces.push( face );\n            }\n        }\n        geometry.computeVertexNormals();\n\n        var side = json.singleSide ? THREE.FrontSide : THREE.DoubleSide;\n        var transparent = json.opacity < 1 ? true : false;\n\n        var material = new THREE.MeshPhongMaterial( { side: side,\n                                     color: useFaceColors ? 'white' : json.color,\n                                     vertexColors: useFaceColors ? THREE.FaceColors : THREE.NoColors,\n                                     transparent: transparent, opacity: json.opacity,\n                                     shininess: 20, flatShading: json.useFlatShading } );\n\n        var c = new THREE.Vector3();\n        geometry.computeBoundingBox();\n        geometry.boundingBox.getCenter( c );\n        geometry.translate( -c.x, -c.y, -c.z );\n\n        var mesh = new THREE.Mesh( geometry, material );\n        mesh.position.set( c.x, c.y, c.z );\n        if ( transparent && json.renderOrder ) mesh.renderOrder = json.renderOrder;\n        scene.add( mesh );\n\n        if ( json.showMeshGrid ) {\n\n            var geometry = new THREE.Geometry();\n\n            for ( var i=0 ; i < json.faces.length ; i++ ) {\n                var f = json.faces[i];\n                for ( var j=0 ; j < f.length ; j++ ) {\n                    var k = j === f.length-1 ? 0 : j+1;\n                    var v1 = json.vertices[f[j]];\n                    var v2 = json.vertices[f[k]];\n                    // vertices in opposite directions on neighboring faces\n                    var nudge = f[j] < f[k] ? .0005*zRange : -.0005*zRange;\n                    geometry.vertices.push( new THREE.Vector3( a[0]*v1.x, a[1]*v1.y, a[2]*(v1.z+nudge) ) );\n                    geometry.vertices.push( new THREE.Vector3( a[0]*v2.x, a[1]*v2.y, a[2]*(v2.z+nudge) ) );\n                }\n            }\n\n            var material = new THREE.LineBasicMaterial( { color: 'black', linewidth: 1 } );\n\n            var c = new THREE.Vector3();\n            geometry.computeBoundingBox();\n            geometry.boundingBox.getCenter( c );\n            geometry.translate( -c.x, -c.y, -c.z );\n\n            var mesh = new THREE.LineSegments( geometry, material );\n            mesh.position.set( c.x, c.y, c.z );\n            scene.add( mesh );\n\n        }\n\n    }\n\n    var scratch = new THREE.Vector3();\n\n    function render() {\n\n        if ( animate ) requestAnimationFrame( render );\n        renderer.render( scene, camera );\n\n        // Resize text based on distance from camera.\n        // Not neccessary for orthographic due to the nature of the projection (preserves sizes).\n        if ( !camera.isOrthographicCamera ) {\n            for ( var i=0 ; i < scene.children.length ; i++ ) {\n                if ( scene.children[i].type === 'Sprite' ) {\n                    var sprite = scene.children[i];\n                    var adjust = scratch.addVectors( sprite.position, scene.position )\n                                    .sub( camera.position ).length() / 5;\n                    sprite.scale.set( adjust, .25*adjust, 1 ); // ratio of canvas width to height\n                }\n            }\n        }\n    }\n    \n    render();\n    controls.update();\n    if ( !animate ) render();\n\n\n    // menu functions\n\n    function toggleMenu() {\n\n        var m = document.getElementById( 'menu-content' );\n        if ( m.style.display === 'block' ) m.style.display = 'none'\n        else m.style.display = 'block';\n\n    }\n\n\n    function saveAsPNG() {\n\n        var a = document.body.appendChild( document.createElement( 'a' ) );\n        a.href = renderer.domElement.toDataURL( 'image/png' );\n        a.download = 'screenshot';\n        a.click();\n\n    }\n\n    function saveAsHTML() {\n\n        toggleMenu(); // otherwise visible in output\n        event.stopPropagation();\n\n        var blob = new Blob( [ '<!DOCTYPE html>\\n' + document.documentElement.outerHTML ] );\n        var a = document.body.appendChild( document.createElement( 'a' ) );\n        a.href = window.URL.createObjectURL( blob );\n        a.download = 'graphic.html';\n        a.click();\n\n    }\n\n    function getViewpoint() {\n\n        function roundTo( x, n ) { return +x.toFixed(n); }\n\n        var v = camera.quaternion.inverse();\n        var r = Math.sqrt( v.x*v.x + v.y*v.y + v.z*v.z );\n        var axis = [ roundTo( v.x / r, 4 ), roundTo( v.y / r, 4 ), roundTo( v.z / r, 4 ) ];\n        var angle = roundTo( 2 * Math.atan2( r, v.w ) * 180 / Math.PI, 2 );\n\n        var textArea = document.createElement( 'textarea' );\n        textArea.textContent = JSON.stringify( axis ) + ',' + angle;\n        textArea.style.csstext = 'position: absolute; top: -100%';\n        document.body.append( textArea );\n        textArea.select();\n        document.execCommand( 'copy' );\n\n        var m = document.getElementById( 'menu-message' );\n        m.innerHTML = 'Viewpoint copied to clipboard';\n        m.style.display = 'block';\n        setTimeout( function() { m.style.display = 'none'; }, 2000 );\n\n    }\n\n</script>\n\n<div id=&quot;menu-container&quot; onclick=&quot;toggleMenu()&quot;>&#x24d8;\n<div id=&quot;menu-message&quot;></div>\n<div id=&quot;menu-content&quot;>\n<div onclick=&quot;saveAsPNG()&quot;>Save as PNG</div>\n<div onclick=&quot;saveAsHTML()&quot;>Save as HTML</div>\n<div onclick=&quot;getViewpoint()&quot;>Get Viewpoint</div>\n<div>Close Menu</div>\n</div></div>\n\n</body>\n</html>\n\"\n        width=\"100%\"\n        height=\"400\"\n        style=\"border: 0;\">\n</iframe>\n",
      "text/plain": [
       "Graphics3d Object"
      ]
     },
     "execution_count": 12,
     "metadata": {
     },
     "output_type": "execute_result"
    }
   ],
   "source": [
    "u.plot(frames=False, axes=True)"
   ]
  },
  {
   "cell_type": "code",
   "execution_count": 13,
   "metadata": {
    "collapsed": false
   },
   "outputs": [
    {
     "data": {
      "text/html": "\n<iframe srcdoc=\"<!DOCTYPE html>\n<html>\n<head>\n<title></title>\n<meta charset=&quot;utf-8&quot;>\n<meta name=viewport content=&quot;width=device-width, user-scalable=no, minimum-scale=1.0, maximum-scale=1.0&quot;>\n<style>\n\n    body { margin: 0px; overflow: hidden; }\n\n    #menu-container { position: absolute; bottom: 30px; right: 40px; cursor: default; }\n\n    #menu-message { position: absolute; bottom: 0px; right: 0px; white-space: nowrap;\n                    display: none; background-color: #F5F5F5; padding: 10px; }\n\n    #menu-content { position: absolute; bottom: 0px; right: 0px;\n                    display: none; background-color: #F5F5F5; border-bottom: 1px solid black;\n                    border-right: 1px solid black; border-left: 1px solid black; }\n\n    #menu-content div { border-top: 1px solid black; padding: 10px; white-space: nowrap; }\n\n    #menu-content div:hover { background-color: #FEFEFE;; }\n  \n</style>\n</head>\n\n<body>\n\n<script src=&quot;/nbextensions/threejs/build/three.min.js&quot;></script>\n<script src=&quot;/nbextensions/threejs/examples/js/controls/OrbitControls.js&quot;></script>\n<script>\n  if ( !window.THREE ) document.write(' \\\n<script src=&quot;https://cdn.jsdelivr.net/gh/mrdoob/three.js@r110/build/three.min.js&quot;><\\/script> \\\n<script src=&quot;https://cdn.jsdelivr.net/gh/mrdoob/three.js@r110/examples/js/controls/OrbitControls.js&quot;><\\/script> \\\n            ');\n</script>\n        \n<script>\n\n    var scene = new THREE.Scene();\n\n    var renderer = new THREE.WebGLRenderer( { antialias: true, preserveDrawingBuffer: true } );\n    renderer.setPixelRatio( window.devicePixelRatio );\n    renderer.setSize( window.innerWidth, window.innerHeight );\n    renderer.setClearColor( 0xffffff, 1 );\n    document.body.appendChild( renderer.domElement );\n\n    var options = {&quot;aspectRatio&quot;: [1.0, 1.0, 1.0], &quot;axes&quot;: true, &quot;axesLabels&quot;: [&quot;x&quot;, &quot;y&quot;, &quot;z&quot;], &quot;decimals&quot;: 2, &quot;frame&quot;: true, &quot;projection&quot;: &quot;perspective&quot;};\n\n    // When animations are supported by the viewer, the value 'false'\n    // will be replaced with an option set in Python by the user\n    var animate = false; // options.animate;\n\n    var b = [{&quot;x&quot;:0.0, &quot;y&quot;:0.0, &quot;z&quot;:0.0}, {&quot;x&quot;:3.0, &quot;y&quot;:4.0, &quot;z&quot;:5.0}]; // bounds\n\n    if ( b[0].x === b[1].x ) {\n        b[0].x -= 1;\n        b[1].x += 1;\n    }\n    if ( b[0].y === b[1].y ) {\n        b[0].y -= 1;\n        b[1].y += 1;\n    }\n    if ( b[0].z === b[1].z ) {\n        b[0].z -= 1;\n        b[1].z += 1;\n    }\n\n    var rRange = Math.sqrt( Math.pow( b[1].x - b[0].x, 2 )\n                            + Math.pow( b[1].y - b[0].y, 2 ) );\n    var xRange = b[1].x - b[0].x;\n    var yRange = b[1].y - b[0].y;\n    var zRange = b[1].z - b[0].z;\n\n    var ar = options.aspectRatio;\n    var a = [ ar[0], ar[1], ar[2] ]; // aspect multipliers\n    var autoAspect = 2.5;\n    if ( zRange > autoAspect * rRange && a[2] === 1 ) a[2] = autoAspect * rRange / zRange;\n\n    // Distance from (xMid,yMid,zMid) to any corner of the bounding box, after applying aspectRatio\n    var midToCorner = Math.sqrt( a[0]*a[0]*xRange*xRange + a[1]*a[1]*yRange*yRange + a[2]*a[2]*zRange*zRange ) / 2;\n\n    var xMid = ( b[0].x + b[1].x ) / 2;\n    var yMid = ( b[0].y + b[1].y ) / 2;\n    var zMid = ( b[0].z + b[1].z ) / 2;\n\n    var box = new THREE.Geometry();\n    box.vertices.push( new THREE.Vector3( a[0]*b[0].x, a[1]*b[0].y, a[2]*b[0].z ) );\n    box.vertices.push( new THREE.Vector3( a[0]*b[1].x, a[1]*b[1].y, a[2]*b[1].z ) );\n    var boxMesh = new THREE.Line( box );\n    if ( options.frame ) scene.add( new THREE.BoxHelper( boxMesh, 'black' ) );\n\n    if ( options.axesLabels ) {\n\n        var d = options.decimals; // decimals\n        var offsetRatio = 0.1;\n        var al = options.axesLabels;\n\n        var offset = offsetRatio * a[1]*( b[1].y - b[0].y );\n        var xm = xMid.toFixed(d);\n        if ( /^-0.?0*$/.test(xm) ) xm = xm.substr(1);\n        addLabel( al[0] + '=' + xm, a[0]*xMid, a[1]*b[1].y+offset, a[2]*b[0].z );\n        addLabel( ( b[0].x ).toFixed(d), a[0]*b[0].x, a[1]*b[1].y+offset, a[2]*b[0].z );\n        addLabel( ( b[1].x ).toFixed(d), a[0]*b[1].x, a[1]*b[1].y+offset, a[2]*b[0].z );\n\n        var offset = offsetRatio * a[0]*( b[1].x - b[0].x );\n        var ym = yMid.toFixed(d);\n        if ( /^-0.?0*$/.test(ym) ) ym = ym.substr(1);\n        addLabel( al[1] + '=' + ym, a[0]*b[1].x+offset, a[1]*yMid, a[2]*b[0].z );\n        addLabel( ( b[0].y ).toFixed(d), a[0]*b[1].x+offset, a[1]*b[0].y, a[2]*b[0].z );\n        addLabel( ( b[1].y ).toFixed(d), a[0]*b[1].x+offset, a[1]*b[1].y, a[2]*b[0].z );\n\n        var offset = offsetRatio * a[1]*( b[1].y - b[0].y );\n        var zm = zMid.toFixed(d);\n        if ( /^-0.?0*$/.test(zm) ) zm = zm.substr(1);\n        addLabel( al[2] + '=' + zm, a[0]*b[1].x, a[1]*b[0].y-offset, a[2]*zMid );\n        addLabel( ( b[0].z ).toFixed(d), a[0]*b[1].x, a[1]*b[0].y-offset, a[2]*b[0].z );\n        addLabel( ( b[1].z ).toFixed(d), a[0]*b[1].x, a[1]*b[0].y-offset, a[2]*b[1].z );\n\n    }\n\n    function addLabel( text, x, y, z, color='black', fontsize=14  ) {\n\n        var canvas = document.createElement( 'canvas' );\n        var pixelRatio = Math.round( window.devicePixelRatio );\n        canvas.width = 128 * pixelRatio;\n        canvas.height = 32 * pixelRatio; // powers of two\n        canvas.style.width = '128px';\n        canvas.style.height = '32px';\n\n        var context = canvas.getContext( '2d' );\n        context.scale( pixelRatio, pixelRatio );\n        context.fillStyle = color;\n        context.font = fontsize + 'px monospace';\n        context.textAlign = 'center';\n        context.textBaseline = 'middle';\n        context.fillText( text, canvas.width/2/pixelRatio, canvas.height/2/pixelRatio );\n\n        var texture = new THREE.Texture( canvas );\n        texture.needsUpdate = true;\n\n        var sprite = new THREE.Sprite( new THREE.SpriteMaterial( { map: texture } ) );\n        sprite.position.set( x, y, z );\n\n        // Set the initial scale based on plot size to accomodate orthographic projection.\n        // For other projections, the scale will get reset each frame based on camera distance.\n        var scale = midToCorner/2;\n        sprite.scale.set( scale, scale*.25, 1 ); // ratio of canvas width to height\n\n        scene.add( sprite );\n\n    }\n\n    if ( options.axes ) scene.add( new THREE.AxesHelper( Math.min( a[0]*b[1].x, a[1]*b[1].y, a[2]*b[1].z ) ) );\n\n    var camera = createCamera();\n    camera.up.set( 0, 0, 1 );\n    camera.position.set( a[0]*(xMid+xRange), a[1]*(yMid+yRange), a[2]*(zMid+zRange) );\n\n    function createCamera() {\n\n        var aspect = window.innerWidth / window.innerHeight;\n\n        if ( options.projection === 'orthographic' ) {\n            var camera = new THREE.OrthographicCamera( -1, 1, 1, -1, -1000, 1000 );\n            updateCameraAspect( camera, aspect );\n            return camera;\n        }\n\n        return new THREE.PerspectiveCamera( 45, aspect, 0.1, 1000 );\n\n    }\n\n    function updateCameraAspect( camera, aspect ) {\n\n        if ( camera.isPerspectiveCamera ) {\n            camera.aspect = aspect;\n        } else if ( camera.isOrthographicCamera ) {\n            // Fit the camera frustum to the bounding box's diagonal so that the entire plot fits\n            // within at the default zoom level and camera position.\n            if ( aspect > 1 ) { // Wide window\n                camera.top = midToCorner;\n                camera.right = midToCorner * aspect;\n            } else { // Tall or square window\n                camera.top = midToCorner / aspect;\n                camera.right = midToCorner;\n            }\n            camera.bottom = -camera.top;\n            camera.left = -camera.right;\n        }\n\n        camera.updateProjectionMatrix();\n\n    }\n\n    var lights = [{&quot;x&quot;:-5, &quot;y&quot;:3, &quot;z&quot;:0, &quot;color&quot;:&quot;#7f7f7f&quot;, &quot;parent&quot;:&quot;camera&quot;}];\n    for ( var i=0 ; i < lights.length ; i++ ) {\n        var light = new THREE.DirectionalLight( lights[i].color, 1 );\n        light.position.set( a[0]*lights[i].x, a[1]*lights[i].y, a[2]*lights[i].z );\n        if ( lights[i].parent === 'camera' ) {\n            light.target.position.set( a[0]*xMid, a[1]*yMid, a[2]*zMid );\n            scene.add( light.target );\n            camera.add( light );\n        } else scene.add( light );\n    }\n    scene.add( camera );\n\n    var ambient = {&quot;color&quot;:&quot;#7f7f7f&quot;};\n    scene.add( new THREE.AmbientLight( ambient.color, 1 ) );\n\n    var controls = new THREE.OrbitControls( camera, renderer.domElement );\n    controls.target.set( a[0]*xMid, a[1]*yMid, a[2]*zMid );\n    controls.addEventListener( 'change', function() { if ( !animate ) render(); } );\n\n    window.addEventListener( 'resize', function() {\n        \n        renderer.setSize( window.innerWidth, window.innerHeight );\n        updateCameraAspect( camera, window.innerWidth / window.innerHeight );\n        if ( !animate ) render();\n        \n    } );\n\n    var texts = [];\n    for ( var i=0 ; i < texts.length ; i++ )\n        addLabel( texts[i].text, a[0]*texts[i].x, a[1]*texts[i].y, a[2]*texts[i].z, texts[i].color );\n\n    var points = [];\n    for ( var i=0 ; i < points.length ; i++ ) addPoint( points[i] );\n\n    function addPoint( json ) {\n\n        var geometry = new THREE.Geometry();\n        var v = json.point;\n        geometry.vertices.push( new THREE.Vector3( a[0]*v[0], a[1]*v[1], a[2]*v[2] ) );\n\n        var canvas = document.createElement( 'canvas' );\n        canvas.width = 128;\n        canvas.height = 128;\n\n        var context = canvas.getContext( '2d' );\n        context.arc( 64, 64, 64, 0, 2 * Math.PI );\n        context.fillStyle = json.color;\n        context.fill();\n\n        var texture = new THREE.Texture( canvas );\n        texture.needsUpdate = true;\n\n        var transparent = json.opacity < 1 ? true : false;\n        var size = camera.isOrthographicCamera ? json.size : json.size/100;\n        var material = new THREE.PointsMaterial( { size: size, map: texture,\n                                                   transparent: transparent, opacity: json.opacity,\n                                                   alphaTest: .1 } );\n\n        var c = new THREE.Vector3();\n        geometry.computeBoundingBox();\n        geometry.boundingBox.getCenter( c );\n        geometry.translate( -c.x, -c.y, -c.z );\n\n        var mesh = new THREE.Points( geometry, material );\n        mesh.position.set( c.x, c.y, c.z );\n        scene.add( mesh );\n\n    }\n\n    var lines = [];\n    for ( var i=0 ; i < lines.length ; i++ ) addLine( lines[i] );\n\n    function addLine( json ) {\n\n        var geometry = new THREE.Geometry();\n        for ( var i=0 ; i < json.points.length ; i++ ) {\n            var v = json.points[i];\n            geometry.vertices.push( new THREE.Vector3( a[0]*v[0], a[1]*v[1], a[2]*v[2] ) );\n        }\n\n        var transparent = json.opacity < 1 ? true : false;\n        var material = new THREE.LineBasicMaterial( { color: json.color, linewidth: json.linewidth,\n                                                      transparent: transparent, opacity: json.opacity } );\n\n        var c = new THREE.Vector3();\n        geometry.computeBoundingBox();\n        geometry.boundingBox.getCenter( c );\n        geometry.translate( -c.x, -c.y, -c.z );\n\n        var mesh = new THREE.Line( geometry, material );\n        mesh.position.set( c.x, c.y, c.z );\n        scene.add( mesh );\n\n    }\n\n    var surfaces = [{&quot;vertices&quot;: [{&quot;x&quot;: 2.9618162338159264, &quot;y&quot;: 3.9490883117545694, &quot;z&quot;: 4.936360389693211}, {&quot;x&quot;: 2.9698895470489632, &quot;y&quot;: 3.9502621457917657, &quot;z&quot;: 4.9305773345236314}, {&quot;x&quot;: 2.960410346365622, &quot;y&quot;: 3.9572137951541633, &quot;z&quot;: 4.930703535443718}, {&quot;x&quot;: 2.9682117032460718, &quot;y&quot;: 3.941688297687114, &quot;z&quot;: 4.938443119289087}, {&quot;x&quot;: 2.9576955380647307, &quot;y&quot;: 3.9433410175064587, &quot;z&quot;: 4.943430642542417}, {&quot;x&quot;: 2.952874034354245, &quot;y&quot;: 3.9529363026333453, &quot;z&quot;: 4.938647316667199}, {&quot;x&quot;: 0.008073313233036653, &quot;y&quot;: 0.0011738340371962959, &quot;z&quot;: -0.005783055169579028}, {&quot;x&quot;: -0.001405887450304572, &quot;y&quot;: 0.008125483399593904, &quot;z&quot;: -0.005656854249492381}, {&quot;x&quot;: 0.006395469430145524, &quot;y&quot;: -0.007400014067455085, &quot;z&quot;: 0.002082729595876754}, {&quot;x&quot;: -0.004120695751195796, &quot;y&quot;: -0.005747294248110896, &quot;z&quot;: 0.007070252849206196}, {&quot;x&quot;: -0.008942199461681807, &quot;y&quot;: 0.0038479908787757786, &quot;z&quot;: 0.00228692697398846}, {&quot;x&quot;: 0.0, &quot;y&quot;: 0.0, &quot;z&quot;: 0.0}], &quot;faces&quot;: [[0, 1, 2], [0, 3, 1], [0, 4, 3], [0, 5, 4], [0, 2, 5], [2, 1, 6, 7], [1, 3, 8, 6], [3, 4, 9, 8], [4, 5, 10, 9], [5, 2, 7, 10], [7, 6, 11], [6, 8, 11], [8, 9, 11], [9, 10, 11], [10, 7, 11]], &quot;color&quot;: &quot;#6666ff&quot;, &quot;opacity&quot;: 1.0}, {&quot;vertices&quot;: [{&quot;x&quot;: 3.0, &quot;y&quot;: 4.000000000000001, &quot;z&quot;: 5.0}, {&quot;x&quot;: 2.9860361735150365, &quot;y&quot;: 3.9526098138661583, &quot;z&quot;: 4.919011224184474}, {&quot;x&quot;: 2.9575985714650126, &quot;y&quot;: 3.973464761953351, &quot;z&quot;: 4.919389826944734}, {&quot;x&quot;: 2.981002642106363, &quot;y&quot;: 3.926888269552204, &quot;z&quot;: 4.942608578480841}, {&quot;x&quot;: 2.949454146562339, &quot;y&quot;: 3.931846429010237, &quot;z&quot;: 4.957571148240829}, {&quot;x&quot;: 2.934989635430881, &quot;y&quot;: 3.9606322843908965, &quot;z&quot;: 4.943221170615176}, {&quot;x&quot;: 2.9618162338159264, &quot;y&quot;: 3.9490883117545694, &quot;z&quot;: 4.936360389693211}], &quot;faces&quot;: [[0, 1, 2], [0, 3, 1], [0, 4, 3], [0, 5, 4], [0, 2, 5], [2, 1, 6], [1, 3, 6], [3, 4, 6], [4, 5, 6], [5, 2, 6]], &quot;color&quot;: &quot;#6666ff&quot;, &quot;opacity&quot;: 1.0}];\n    for ( var i=0 ; i < surfaces.length ; i++ ) addSurface( surfaces[i] );\n\n    function addSurface( json ) {\n\n        var useFaceColors = 'faceColors' in json ? true : false;\n\n        var geometry = new THREE.Geometry();\n        for ( var i=0 ; i < json.vertices.length ; i++ ) {\n            var v = json.vertices[i];\n            geometry.vertices.push( new THREE.Vector3( a[0]*v.x, a[1]*v.y, a[2]*v.z ) );\n        }\n        for ( var i=0 ; i < json.faces.length ; i++ ) {\n            var f = json.faces[i];\n            for ( var j=0 ; j < f.length - 2 ; j++ ) {\n                var face = new THREE.Face3( f[0], f[j+1], f[j+2] );\n                if ( useFaceColors ) face.color.set( json.faceColors[i] );\n                geometry.faces.push( face );\n            }\n        }\n        geometry.computeVertexNormals();\n\n        var side = json.singleSide ? THREE.FrontSide : THREE.DoubleSide;\n        var transparent = json.opacity < 1 ? true : false;\n\n        var material = new THREE.MeshPhongMaterial( { side: side,\n                                     color: useFaceColors ? 'white' : json.color,\n                                     vertexColors: useFaceColors ? THREE.FaceColors : THREE.NoColors,\n                                     transparent: transparent, opacity: json.opacity,\n                                     shininess: 20, flatShading: json.useFlatShading } );\n\n        var c = new THREE.Vector3();\n        geometry.computeBoundingBox();\n        geometry.boundingBox.getCenter( c );\n        geometry.translate( -c.x, -c.y, -c.z );\n\n        var mesh = new THREE.Mesh( geometry, material );\n        mesh.position.set( c.x, c.y, c.z );\n        if ( transparent && json.renderOrder ) mesh.renderOrder = json.renderOrder;\n        scene.add( mesh );\n\n        if ( json.showMeshGrid ) {\n\n            var geometry = new THREE.Geometry();\n\n            for ( var i=0 ; i < json.faces.length ; i++ ) {\n                var f = json.faces[i];\n                for ( var j=0 ; j < f.length ; j++ ) {\n                    var k = j === f.length-1 ? 0 : j+1;\n                    var v1 = json.vertices[f[j]];\n                    var v2 = json.vertices[f[k]];\n                    // vertices in opposite directions on neighboring faces\n                    var nudge = f[j] < f[k] ? .0005*zRange : -.0005*zRange;\n                    geometry.vertices.push( new THREE.Vector3( a[0]*v1.x, a[1]*v1.y, a[2]*(v1.z+nudge) ) );\n                    geometry.vertices.push( new THREE.Vector3( a[0]*v2.x, a[1]*v2.y, a[2]*(v2.z+nudge) ) );\n                }\n            }\n\n            var material = new THREE.LineBasicMaterial( { color: 'black', linewidth: 1 } );\n\n            var c = new THREE.Vector3();\n            geometry.computeBoundingBox();\n            geometry.boundingBox.getCenter( c );\n            geometry.translate( -c.x, -c.y, -c.z );\n\n            var mesh = new THREE.LineSegments( geometry, material );\n            mesh.position.set( c.x, c.y, c.z );\n            scene.add( mesh );\n\n        }\n\n    }\n\n    var scratch = new THREE.Vector3();\n\n    function render() {\n\n        if ( animate ) requestAnimationFrame( render );\n        renderer.render( scene, camera );\n\n        // Resize text based on distance from camera.\n        // Not neccessary for orthographic due to the nature of the projection (preserves sizes).\n        if ( !camera.isOrthographicCamera ) {\n            for ( var i=0 ; i < scene.children.length ; i++ ) {\n                if ( scene.children[i].type === 'Sprite' ) {\n                    var sprite = scene.children[i];\n                    var adjust = scratch.addVectors( sprite.position, scene.position )\n                                    .sub( camera.position ).length() / 5;\n                    sprite.scale.set( adjust, .25*adjust, 1 ); // ratio of canvas width to height\n                }\n            }\n        }\n    }\n    \n    render();\n    controls.update();\n    if ( !animate ) render();\n\n\n    // menu functions\n\n    function toggleMenu() {\n\n        var m = document.getElementById( 'menu-content' );\n        if ( m.style.display === 'block' ) m.style.display = 'none'\n        else m.style.display = 'block';\n\n    }\n\n\n    function saveAsPNG() {\n\n        var a = document.body.appendChild( document.createElement( 'a' ) );\n        a.href = renderer.domElement.toDataURL( 'image/png' );\n        a.download = 'screenshot';\n        a.click();\n\n    }\n\n    function saveAsHTML() {\n\n        toggleMenu(); // otherwise visible in output\n        event.stopPropagation();\n\n        var blob = new Blob( [ '<!DOCTYPE html>\\n' + document.documentElement.outerHTML ] );\n        var a = document.body.appendChild( document.createElement( 'a' ) );\n        a.href = window.URL.createObjectURL( blob );\n        a.download = 'graphic.html';\n        a.click();\n\n    }\n\n    function getViewpoint() {\n\n        function roundTo( x, n ) { return +x.toFixed(n); }\n\n        var v = camera.quaternion.inverse();\n        var r = Math.sqrt( v.x*v.x + v.y*v.y + v.z*v.z );\n        var axis = [ roundTo( v.x / r, 4 ), roundTo( v.y / r, 4 ), roundTo( v.z / r, 4 ) ];\n        var angle = roundTo( 2 * Math.atan2( r, v.w ) * 180 / Math.PI, 2 );\n\n        var textArea = document.createElement( 'textarea' );\n        textArea.textContent = JSON.stringify( axis ) + ',' + angle;\n        textArea.style.csstext = 'position: absolute; top: -100%';\n        document.body.append( textArea );\n        textArea.select();\n        document.execCommand( 'copy' );\n\n        var m = document.getElementById( 'menu-message' );\n        m.innerHTML = 'Viewpoint copied to clipboard';\n        m.style.display = 'block';\n        setTimeout( function() { m.style.display = 'none'; }, 2000 );\n\n    }\n\n</script>\n\n<div id=&quot;menu-container&quot; onclick=&quot;toggleMenu()&quot;>&#x24d8;\n<div id=&quot;menu-message&quot;></div>\n<div id=&quot;menu-content&quot;>\n<div onclick=&quot;saveAsPNG()&quot;>Save as PNG</div>\n<div onclick=&quot;saveAsHTML()&quot;>Save as HTML</div>\n<div onclick=&quot;getViewpoint()&quot;>Get Viewpoint</div>\n<div>Close Menu</div>\n</div></div>\n\n</body>\n</html>\n\"\n        width=\"100%\"\n        height=\"400\"\n        style=\"border: 0;\">\n</iframe>\n",
      "text/plain": [
       "Graphics3d Object"
      ]
     },
     "execution_count": 13,
     "metadata": {
     },
     "output_type": "execute_result"
    }
   ],
   "source": [
    "u.plot(box=False,axes=True,viewer='threejs')"
   ]
  },
  {
   "cell_type": "code",
   "execution_count": 14,
   "metadata": {
    "collapsed": false
   },
   "outputs": [
    {
     "data": {
      "text/html": "\n<iframe srcdoc=\"<!DOCTYPE html>\n<html>\n<head>\n<title></title>\n<meta charset=&quot;utf-8&quot;>\n<meta name=viewport content=&quot;width=device-width, user-scalable=no, minimum-scale=1.0, maximum-scale=1.0&quot;>\n<style>\n\n    body { margin: 0px; overflow: hidden; }\n\n    #menu-container { position: absolute; bottom: 30px; right: 40px; cursor: default; }\n\n    #menu-message { position: absolute; bottom: 0px; right: 0px; white-space: nowrap;\n                    display: none; background-color: #F5F5F5; padding: 10px; }\n\n    #menu-content { position: absolute; bottom: 0px; right: 0px;\n                    display: none; background-color: #F5F5F5; border-bottom: 1px solid black;\n                    border-right: 1px solid black; border-left: 1px solid black; }\n\n    #menu-content div { border-top: 1px solid black; padding: 10px; white-space: nowrap; }\n\n    #menu-content div:hover { background-color: #FEFEFE;; }\n  \n</style>\n</head>\n\n<body>\n\n<script src=&quot;/nbextensions/threejs/build/three.min.js&quot;></script>\n<script src=&quot;/nbextensions/threejs/examples/js/controls/OrbitControls.js&quot;></script>\n<script>\n  if ( !window.THREE ) document.write(' \\\n<script src=&quot;https://cdn.jsdelivr.net/gh/mrdoob/three.js@r110/build/three.min.js&quot;><\\/script> \\\n<script src=&quot;https://cdn.jsdelivr.net/gh/mrdoob/three.js@r110/examples/js/controls/OrbitControls.js&quot;><\\/script> \\\n            ');\n</script>\n        \n<script>\n\n    var scene = new THREE.Scene();\n\n    var renderer = new THREE.WebGLRenderer( { antialias: true, preserveDrawingBuffer: true } );\n    renderer.setPixelRatio( window.devicePixelRatio );\n    renderer.setSize( window.innerWidth, window.innerHeight );\n    renderer.setClearColor( 0xffffff, 1 );\n    document.body.appendChild( renderer.domElement );\n\n    var options = {&quot;aspectRatio&quot;: [1.0, 1.0, 1.0], &quot;axes&quot;: true, &quot;axesLabels&quot;: [&quot;x&quot;, &quot;y&quot;, &quot;z&quot;], &quot;decimals&quot;: 2, &quot;frame&quot;: true, &quot;projection&quot;: &quot;perspective&quot;};\n\n    // When animations are supported by the viewer, the value 'false'\n    // will be replaced with an option set in Python by the user\n    var animate = false; // options.animate;\n\n    var b = [{&quot;x&quot;:0.0, &quot;y&quot;:0.0, &quot;z&quot;:0.0}, {&quot;x&quot;:3.0, &quot;y&quot;:4.0, &quot;z&quot;:5.0}]; // bounds\n\n    if ( b[0].x === b[1].x ) {\n        b[0].x -= 1;\n        b[1].x += 1;\n    }\n    if ( b[0].y === b[1].y ) {\n        b[0].y -= 1;\n        b[1].y += 1;\n    }\n    if ( b[0].z === b[1].z ) {\n        b[0].z -= 1;\n        b[1].z += 1;\n    }\n\n    var rRange = Math.sqrt( Math.pow( b[1].x - b[0].x, 2 )\n                            + Math.pow( b[1].y - b[0].y, 2 ) );\n    var xRange = b[1].x - b[0].x;\n    var yRange = b[1].y - b[0].y;\n    var zRange = b[1].z - b[0].z;\n\n    var ar = options.aspectRatio;\n    var a = [ ar[0], ar[1], ar[2] ]; // aspect multipliers\n    var autoAspect = 2.5;\n    if ( zRange > autoAspect * rRange && a[2] === 1 ) a[2] = autoAspect * rRange / zRange;\n\n    // Distance from (xMid,yMid,zMid) to any corner of the bounding box, after applying aspectRatio\n    var midToCorner = Math.sqrt( a[0]*a[0]*xRange*xRange + a[1]*a[1]*yRange*yRange + a[2]*a[2]*zRange*zRange ) / 2;\n\n    var xMid = ( b[0].x + b[1].x ) / 2;\n    var yMid = ( b[0].y + b[1].y ) / 2;\n    var zMid = ( b[0].z + b[1].z ) / 2;\n\n    var box = new THREE.Geometry();\n    box.vertices.push( new THREE.Vector3( a[0]*b[0].x, a[1]*b[0].y, a[2]*b[0].z ) );\n    box.vertices.push( new THREE.Vector3( a[0]*b[1].x, a[1]*b[1].y, a[2]*b[1].z ) );\n    var boxMesh = new THREE.Line( box );\n    if ( options.frame ) scene.add( new THREE.BoxHelper( boxMesh, 'black' ) );\n\n    if ( options.axesLabels ) {\n\n        var d = options.decimals; // decimals\n        var offsetRatio = 0.1;\n        var al = options.axesLabels;\n\n        var offset = offsetRatio * a[1]*( b[1].y - b[0].y );\n        var xm = xMid.toFixed(d);\n        if ( /^-0.?0*$/.test(xm) ) xm = xm.substr(1);\n        addLabel( al[0] + '=' + xm, a[0]*xMid, a[1]*b[1].y+offset, a[2]*b[0].z );\n        addLabel( ( b[0].x ).toFixed(d), a[0]*b[0].x, a[1]*b[1].y+offset, a[2]*b[0].z );\n        addLabel( ( b[1].x ).toFixed(d), a[0]*b[1].x, a[1]*b[1].y+offset, a[2]*b[0].z );\n\n        var offset = offsetRatio * a[0]*( b[1].x - b[0].x );\n        var ym = yMid.toFixed(d);\n        if ( /^-0.?0*$/.test(ym) ) ym = ym.substr(1);\n        addLabel( al[1] + '=' + ym, a[0]*b[1].x+offset, a[1]*yMid, a[2]*b[0].z );\n        addLabel( ( b[0].y ).toFixed(d), a[0]*b[1].x+offset, a[1]*b[0].y, a[2]*b[0].z );\n        addLabel( ( b[1].y ).toFixed(d), a[0]*b[1].x+offset, a[1]*b[1].y, a[2]*b[0].z );\n\n        var offset = offsetRatio * a[1]*( b[1].y - b[0].y );\n        var zm = zMid.toFixed(d);\n        if ( /^-0.?0*$/.test(zm) ) zm = zm.substr(1);\n        addLabel( al[2] + '=' + zm, a[0]*b[1].x, a[1]*b[0].y-offset, a[2]*zMid );\n        addLabel( ( b[0].z ).toFixed(d), a[0]*b[1].x, a[1]*b[0].y-offset, a[2]*b[0].z );\n        addLabel( ( b[1].z ).toFixed(d), a[0]*b[1].x, a[1]*b[0].y-offset, a[2]*b[1].z );\n\n    }\n\n    function addLabel( text, x, y, z, color='black', fontsize=14  ) {\n\n        var canvas = document.createElement( 'canvas' );\n        var pixelRatio = Math.round( window.devicePixelRatio );\n        canvas.width = 128 * pixelRatio;\n        canvas.height = 32 * pixelRatio; // powers of two\n        canvas.style.width = '128px';\n        canvas.style.height = '32px';\n\n        var context = canvas.getContext( '2d' );\n        context.scale( pixelRatio, pixelRatio );\n        context.fillStyle = color;\n        context.font = fontsize + 'px monospace';\n        context.textAlign = 'center';\n        context.textBaseline = 'middle';\n        context.fillText( text, canvas.width/2/pixelRatio, canvas.height/2/pixelRatio );\n\n        var texture = new THREE.Texture( canvas );\n        texture.needsUpdate = true;\n\n        var sprite = new THREE.Sprite( new THREE.SpriteMaterial( { map: texture } ) );\n        sprite.position.set( x, y, z );\n\n        // Set the initial scale based on plot size to accomodate orthographic projection.\n        // For other projections, the scale will get reset each frame based on camera distance.\n        var scale = midToCorner/2;\n        sprite.scale.set( scale, scale*.25, 1 ); // ratio of canvas width to height\n\n        scene.add( sprite );\n\n    }\n\n    if ( options.axes ) scene.add( new THREE.AxesHelper( Math.min( a[0]*b[1].x, a[1]*b[1].y, a[2]*b[1].z ) ) );\n\n    var camera = createCamera();\n    camera.up.set( 0, 0, 1 );\n    camera.position.set( a[0]*(xMid+xRange), a[1]*(yMid+yRange), a[2]*(zMid+zRange) );\n\n    function createCamera() {\n\n        var aspect = window.innerWidth / window.innerHeight;\n\n        if ( options.projection === 'orthographic' ) {\n            var camera = new THREE.OrthographicCamera( -1, 1, 1, -1, -1000, 1000 );\n            updateCameraAspect( camera, aspect );\n            return camera;\n        }\n\n        return new THREE.PerspectiveCamera( 45, aspect, 0.1, 1000 );\n\n    }\n\n    function updateCameraAspect( camera, aspect ) {\n\n        if ( camera.isPerspectiveCamera ) {\n            camera.aspect = aspect;\n        } else if ( camera.isOrthographicCamera ) {\n            // Fit the camera frustum to the bounding box's diagonal so that the entire plot fits\n            // within at the default zoom level and camera position.\n            if ( aspect > 1 ) { // Wide window\n                camera.top = midToCorner;\n                camera.right = midToCorner * aspect;\n            } else { // Tall or square window\n                camera.top = midToCorner / aspect;\n                camera.right = midToCorner;\n            }\n            camera.bottom = -camera.top;\n            camera.left = -camera.right;\n        }\n\n        camera.updateProjectionMatrix();\n\n    }\n\n    var lights = [{&quot;x&quot;:-5, &quot;y&quot;:3, &quot;z&quot;:0, &quot;color&quot;:&quot;#7f7f7f&quot;, &quot;parent&quot;:&quot;camera&quot;}];\n    for ( var i=0 ; i < lights.length ; i++ ) {\n        var light = new THREE.DirectionalLight( lights[i].color, 1 );\n        light.position.set( a[0]*lights[i].x, a[1]*lights[i].y, a[2]*lights[i].z );\n        if ( lights[i].parent === 'camera' ) {\n            light.target.position.set( a[0]*xMid, a[1]*yMid, a[2]*zMid );\n            scene.add( light.target );\n            camera.add( light );\n        } else scene.add( light );\n    }\n    scene.add( camera );\n\n    var ambient = {&quot;color&quot;:&quot;#7f7f7f&quot;};\n    scene.add( new THREE.AmbientLight( ambient.color, 1 ) );\n\n    var controls = new THREE.OrbitControls( camera, renderer.domElement );\n    controls.target.set( a[0]*xMid, a[1]*yMid, a[2]*zMid );\n    controls.addEventListener( 'change', function() { if ( !animate ) render(); } );\n\n    window.addEventListener( 'resize', function() {\n        \n        renderer.setSize( window.innerWidth, window.innerHeight );\n        updateCameraAspect( camera, window.innerWidth / window.innerHeight );\n        if ( !animate ) render();\n        \n    } );\n\n    var texts = [];\n    for ( var i=0 ; i < texts.length ; i++ )\n        addLabel( texts[i].text, a[0]*texts[i].x, a[1]*texts[i].y, a[2]*texts[i].z, texts[i].color );\n\n    var points = [];\n    for ( var i=0 ; i < points.length ; i++ ) addPoint( points[i] );\n\n    function addPoint( json ) {\n\n        var geometry = new THREE.Geometry();\n        var v = json.point;\n        geometry.vertices.push( new THREE.Vector3( a[0]*v[0], a[1]*v[1], a[2]*v[2] ) );\n\n        var canvas = document.createElement( 'canvas' );\n        canvas.width = 128;\n        canvas.height = 128;\n\n        var context = canvas.getContext( '2d' );\n        context.arc( 64, 64, 64, 0, 2 * Math.PI );\n        context.fillStyle = json.color;\n        context.fill();\n\n        var texture = new THREE.Texture( canvas );\n        texture.needsUpdate = true;\n\n        var transparent = json.opacity < 1 ? true : false;\n        var size = camera.isOrthographicCamera ? json.size : json.size/100;\n        var material = new THREE.PointsMaterial( { size: size, map: texture,\n                                                   transparent: transparent, opacity: json.opacity,\n                                                   alphaTest: .1 } );\n\n        var c = new THREE.Vector3();\n        geometry.computeBoundingBox();\n        geometry.boundingBox.getCenter( c );\n        geometry.translate( -c.x, -c.y, -c.z );\n\n        var mesh = new THREE.Points( geometry, material );\n        mesh.position.set( c.x, c.y, c.z );\n        scene.add( mesh );\n\n    }\n\n    var lines = [];\n    for ( var i=0 ; i < lines.length ; i++ ) addLine( lines[i] );\n\n    function addLine( json ) {\n\n        var geometry = new THREE.Geometry();\n        for ( var i=0 ; i < json.points.length ; i++ ) {\n            var v = json.points[i];\n            geometry.vertices.push( new THREE.Vector3( a[0]*v[0], a[1]*v[1], a[2]*v[2] ) );\n        }\n\n        var transparent = json.opacity < 1 ? true : false;\n        var material = new THREE.LineBasicMaterial( { color: json.color, linewidth: json.linewidth,\n                                                      transparent: transparent, opacity: json.opacity } );\n\n        var c = new THREE.Vector3();\n        geometry.computeBoundingBox();\n        geometry.boundingBox.getCenter( c );\n        geometry.translate( -c.x, -c.y, -c.z );\n\n        var mesh = new THREE.Line( geometry, material );\n        mesh.position.set( c.x, c.y, c.z );\n        scene.add( mesh );\n\n    }\n\n    var surfaces = [{&quot;vertices&quot;: [{&quot;x&quot;: 2.9618162338159264, &quot;y&quot;: 3.9490883117545694, &quot;z&quot;: 4.936360389693211}, {&quot;x&quot;: 2.9698895470489632, &quot;y&quot;: 3.9502621457917657, &quot;z&quot;: 4.9305773345236314}, {&quot;x&quot;: 2.960410346365622, &quot;y&quot;: 3.9572137951541633, &quot;z&quot;: 4.930703535443718}, {&quot;x&quot;: 2.9682117032460718, &quot;y&quot;: 3.941688297687114, &quot;z&quot;: 4.938443119289087}, {&quot;x&quot;: 2.9576955380647307, &quot;y&quot;: 3.9433410175064587, &quot;z&quot;: 4.943430642542417}, {&quot;x&quot;: 2.952874034354245, &quot;y&quot;: 3.9529363026333453, &quot;z&quot;: 4.938647316667199}, {&quot;x&quot;: 0.008073313233036653, &quot;y&quot;: 0.0011738340371962959, &quot;z&quot;: -0.005783055169579028}, {&quot;x&quot;: -0.001405887450304572, &quot;y&quot;: 0.008125483399593904, &quot;z&quot;: -0.005656854249492381}, {&quot;x&quot;: 0.006395469430145524, &quot;y&quot;: -0.007400014067455085, &quot;z&quot;: 0.002082729595876754}, {&quot;x&quot;: -0.004120695751195796, &quot;y&quot;: -0.005747294248110896, &quot;z&quot;: 0.007070252849206196}, {&quot;x&quot;: -0.008942199461681807, &quot;y&quot;: 0.0038479908787757786, &quot;z&quot;: 0.00228692697398846}, {&quot;x&quot;: 0.0, &quot;y&quot;: 0.0, &quot;z&quot;: 0.0}], &quot;faces&quot;: [[0, 1, 2], [0, 3, 1], [0, 4, 3], [0, 5, 4], [0, 2, 5], [2, 1, 6, 7], [1, 3, 8, 6], [3, 4, 9, 8], [4, 5, 10, 9], [5, 2, 7, 10], [7, 6, 11], [6, 8, 11], [8, 9, 11], [9, 10, 11], [10, 7, 11]], &quot;color&quot;: &quot;#6666ff&quot;, &quot;opacity&quot;: 1.0}, {&quot;vertices&quot;: [{&quot;x&quot;: 3.0, &quot;y&quot;: 4.000000000000001, &quot;z&quot;: 5.0}, {&quot;x&quot;: 2.9860361735150365, &quot;y&quot;: 3.9526098138661583, &quot;z&quot;: 4.919011224184474}, {&quot;x&quot;: 2.9575985714650126, &quot;y&quot;: 3.973464761953351, &quot;z&quot;: 4.919389826944734}, {&quot;x&quot;: 2.981002642106363, &quot;y&quot;: 3.926888269552204, &quot;z&quot;: 4.942608578480841}, {&quot;x&quot;: 2.949454146562339, &quot;y&quot;: 3.931846429010237, &quot;z&quot;: 4.957571148240829}, {&quot;x&quot;: 2.934989635430881, &quot;y&quot;: 3.9606322843908965, &quot;z&quot;: 4.943221170615176}, {&quot;x&quot;: 2.9618162338159264, &quot;y&quot;: 3.9490883117545694, &quot;z&quot;: 4.936360389693211}], &quot;faces&quot;: [[0, 1, 2], [0, 3, 1], [0, 4, 3], [0, 5, 4], [0, 2, 5], [2, 1, 6], [1, 3, 6], [3, 4, 6], [4, 5, 6], [5, 2, 6]], &quot;color&quot;: &quot;#6666ff&quot;, &quot;opacity&quot;: 1.0}];\n    for ( var i=0 ; i < surfaces.length ; i++ ) addSurface( surfaces[i] );\n\n    function addSurface( json ) {\n\n        var useFaceColors = 'faceColors' in json ? true : false;\n\n        var geometry = new THREE.Geometry();\n        for ( var i=0 ; i < json.vertices.length ; i++ ) {\n            var v = json.vertices[i];\n            geometry.vertices.push( new THREE.Vector3( a[0]*v.x, a[1]*v.y, a[2]*v.z ) );\n        }\n        for ( var i=0 ; i < json.faces.length ; i++ ) {\n            var f = json.faces[i];\n            for ( var j=0 ; j < f.length - 2 ; j++ ) {\n                var face = new THREE.Face3( f[0], f[j+1], f[j+2] );\n                if ( useFaceColors ) face.color.set( json.faceColors[i] );\n                geometry.faces.push( face );\n            }\n        }\n        geometry.computeVertexNormals();\n\n        var side = json.singleSide ? THREE.FrontSide : THREE.DoubleSide;\n        var transparent = json.opacity < 1 ? true : false;\n\n        var material = new THREE.MeshPhongMaterial( { side: side,\n                                     color: useFaceColors ? 'white' : json.color,\n                                     vertexColors: useFaceColors ? THREE.FaceColors : THREE.NoColors,\n                                     transparent: transparent, opacity: json.opacity,\n                                     shininess: 20, flatShading: json.useFlatShading } );\n\n        var c = new THREE.Vector3();\n        geometry.computeBoundingBox();\n        geometry.boundingBox.getCenter( c );\n        geometry.translate( -c.x, -c.y, -c.z );\n\n        var mesh = new THREE.Mesh( geometry, material );\n        mesh.position.set( c.x, c.y, c.z );\n        if ( transparent && json.renderOrder ) mesh.renderOrder = json.renderOrder;\n        scene.add( mesh );\n\n        if ( json.showMeshGrid ) {\n\n            var geometry = new THREE.Geometry();\n\n            for ( var i=0 ; i < json.faces.length ; i++ ) {\n                var f = json.faces[i];\n                for ( var j=0 ; j < f.length ; j++ ) {\n                    var k = j === f.length-1 ? 0 : j+1;\n                    var v1 = json.vertices[f[j]];\n                    var v2 = json.vertices[f[k]];\n                    // vertices in opposite directions on neighboring faces\n                    var nudge = f[j] < f[k] ? .0005*zRange : -.0005*zRange;\n                    geometry.vertices.push( new THREE.Vector3( a[0]*v1.x, a[1]*v1.y, a[2]*(v1.z+nudge) ) );\n                    geometry.vertices.push( new THREE.Vector3( a[0]*v2.x, a[1]*v2.y, a[2]*(v2.z+nudge) ) );\n                }\n            }\n\n            var material = new THREE.LineBasicMaterial( { color: 'black', linewidth: 1 } );\n\n            var c = new THREE.Vector3();\n            geometry.computeBoundingBox();\n            geometry.boundingBox.getCenter( c );\n            geometry.translate( -c.x, -c.y, -c.z );\n\n            var mesh = new THREE.LineSegments( geometry, material );\n            mesh.position.set( c.x, c.y, c.z );\n            scene.add( mesh );\n\n        }\n\n    }\n\n    var scratch = new THREE.Vector3();\n\n    function render() {\n\n        if ( animate ) requestAnimationFrame( render );\n        renderer.render( scene, camera );\n\n        // Resize text based on distance from camera.\n        // Not neccessary for orthographic due to the nature of the projection (preserves sizes).\n        if ( !camera.isOrthographicCamera ) {\n            for ( var i=0 ; i < scene.children.length ; i++ ) {\n                if ( scene.children[i].type === 'Sprite' ) {\n                    var sprite = scene.children[i];\n                    var adjust = scratch.addVectors( sprite.position, scene.position )\n                                    .sub( camera.position ).length() / 5;\n                    sprite.scale.set( adjust, .25*adjust, 1 ); // ratio of canvas width to height\n                }\n            }\n        }\n    }\n    \n    render();\n    controls.update();\n    if ( !animate ) render();\n\n\n    // menu functions\n\n    function toggleMenu() {\n\n        var m = document.getElementById( 'menu-content' );\n        if ( m.style.display === 'block' ) m.style.display = 'none'\n        else m.style.display = 'block';\n\n    }\n\n\n    function saveAsPNG() {\n\n        var a = document.body.appendChild( document.createElement( 'a' ) );\n        a.href = renderer.domElement.toDataURL( 'image/png' );\n        a.download = 'screenshot';\n        a.click();\n\n    }\n\n    function saveAsHTML() {\n\n        toggleMenu(); // otherwise visible in output\n        event.stopPropagation();\n\n        var blob = new Blob( [ '<!DOCTYPE html>\\n' + document.documentElement.outerHTML ] );\n        var a = document.body.appendChild( document.createElement( 'a' ) );\n        a.href = window.URL.createObjectURL( blob );\n        a.download = 'graphic.html';\n        a.click();\n\n    }\n\n    function getViewpoint() {\n\n        function roundTo( x, n ) { return +x.toFixed(n); }\n\n        var v = camera.quaternion.inverse();\n        var r = Math.sqrt( v.x*v.x + v.y*v.y + v.z*v.z );\n        var axis = [ roundTo( v.x / r, 4 ), roundTo( v.y / r, 4 ), roundTo( v.z / r, 4 ) ];\n        var angle = roundTo( 2 * Math.atan2( r, v.w ) * 180 / Math.PI, 2 );\n\n        var textArea = document.createElement( 'textarea' );\n        textArea.textContent = JSON.stringify( axis ) + ',' + angle;\n        textArea.style.csstext = 'position: absolute; top: -100%';\n        document.body.append( textArea );\n        textArea.select();\n        document.execCommand( 'copy' );\n\n        var m = document.getElementById( 'menu-message' );\n        m.innerHTML = 'Viewpoint copied to clipboard';\n        m.style.display = 'block';\n        setTimeout( function() { m.style.display = 'none'; }, 2000 );\n\n    }\n\n</script>\n\n<div id=&quot;menu-container&quot; onclick=&quot;toggleMenu()&quot;>&#x24d8;\n<div id=&quot;menu-message&quot;></div>\n<div id=&quot;menu-content&quot;>\n<div onclick=&quot;saveAsPNG()&quot;>Save as PNG</div>\n<div onclick=&quot;saveAsHTML()&quot;>Save as HTML</div>\n<div onclick=&quot;getViewpoint()&quot;>Get Viewpoint</div>\n<div>Close Menu</div>\n</div></div>\n\n</body>\n</html>\n\"\n        width=\"100%\"\n        height=\"400\"\n        style=\"border: 0;\">\n</iframe>\n",
      "text/plain": [
       "Graphics3d Object"
      ]
     },
     "execution_count": 14,
     "metadata": {
     },
     "output_type": "execute_result"
    }
   ],
   "source": [
    "u.plot(axes=True,viewer='threejs')"
   ]
  },
  {
   "cell_type": "code",
   "execution_count": 15,
   "metadata": {
    "collapsed": false,
    "scrolled": true
   },
   "outputs": [
    {
     "data": {
      "text/html": "\n<iframe srcdoc=\"<!DOCTYPE html>\n<html>\n<head>\n<title></title>\n<meta charset=&quot;utf-8&quot;>\n<meta name=viewport content=&quot;width=device-width, user-scalable=no, minimum-scale=1.0, maximum-scale=1.0&quot;>\n<style>\n\n    body { margin: 0px; overflow: hidden; }\n\n    #menu-container { position: absolute; bottom: 30px; right: 40px; cursor: default; }\n\n    #menu-message { position: absolute; bottom: 0px; right: 0px; white-space: nowrap;\n                    display: none; background-color: #F5F5F5; padding: 10px; }\n\n    #menu-content { position: absolute; bottom: 0px; right: 0px;\n                    display: none; background-color: #F5F5F5; border-bottom: 1px solid black;\n                    border-right: 1px solid black; border-left: 1px solid black; }\n\n    #menu-content div { border-top: 1px solid black; padding: 10px; white-space: nowrap; }\n\n    #menu-content div:hover { background-color: #FEFEFE;; }\n  \n</style>\n</head>\n\n<body>\n\n<script src=&quot;/nbextensions/threejs/build/three.min.js&quot;></script>\n<script src=&quot;/nbextensions/threejs/examples/js/controls/OrbitControls.js&quot;></script>\n<script>\n  if ( !window.THREE ) document.write(' \\\n<script src=&quot;https://cdn.jsdelivr.net/gh/mrdoob/three.js@r110/build/three.min.js&quot;><\\/script> \\\n<script src=&quot;https://cdn.jsdelivr.net/gh/mrdoob/three.js@r110/examples/js/controls/OrbitControls.js&quot;><\\/script> \\\n            ');\n</script>\n        \n<script>\n\n    var scene = new THREE.Scene();\n\n    var renderer = new THREE.WebGLRenderer( { antialias: true, preserveDrawingBuffer: true } );\n    renderer.setPixelRatio( window.devicePixelRatio );\n    renderer.setSize( window.innerWidth, window.innerHeight );\n    renderer.setClearColor( 0xffffff, 1 );\n    document.body.appendChild( renderer.domElement );\n\n    var options = {&quot;aspectRatio&quot;: [1.0, 1.0, 1.0], &quot;axes&quot;: false, &quot;axesLabels&quot;: [&quot;x&quot;, &quot;y&quot;, &quot;z&quot;], &quot;decimals&quot;: 2, &quot;frame&quot;: true, &quot;projection&quot;: &quot;perspective&quot;};\n\n    // When animations are supported by the viewer, the value 'false'\n    // will be replaced with an option set in Python by the user\n    var animate = false; // options.animate;\n\n    var b = [{&quot;x&quot;:-0.020702943725152287, &quot;y&quot;:-0.01906274169979695, &quot;z&quot;:-0.01979898987322333}, {&quot;x&quot;:3.0578708591210044, &quot;y&quot;:4.056775370922303, &quot;z&quot;:5.051668893765951}]; // bounds\n\n    if ( b[0].x === b[1].x ) {\n        b[0].x -= 1;\n        b[1].x += 1;\n    }\n    if ( b[0].y === b[1].y ) {\n        b[0].y -= 1;\n        b[1].y += 1;\n    }\n    if ( b[0].z === b[1].z ) {\n        b[0].z -= 1;\n        b[1].z += 1;\n    }\n\n    var rRange = Math.sqrt( Math.pow( b[1].x - b[0].x, 2 )\n                            + Math.pow( b[1].y - b[0].y, 2 ) );\n    var xRange = b[1].x - b[0].x;\n    var yRange = b[1].y - b[0].y;\n    var zRange = b[1].z - b[0].z;\n\n    var ar = options.aspectRatio;\n    var a = [ ar[0], ar[1], ar[2] ]; // aspect multipliers\n    var autoAspect = 2.5;\n    if ( zRange > autoAspect * rRange && a[2] === 1 ) a[2] = autoAspect * rRange / zRange;\n\n    // Distance from (xMid,yMid,zMid) to any corner of the bounding box, after applying aspectRatio\n    var midToCorner = Math.sqrt( a[0]*a[0]*xRange*xRange + a[1]*a[1]*yRange*yRange + a[2]*a[2]*zRange*zRange ) / 2;\n\n    var xMid = ( b[0].x + b[1].x ) / 2;\n    var yMid = ( b[0].y + b[1].y ) / 2;\n    var zMid = ( b[0].z + b[1].z ) / 2;\n\n    var box = new THREE.Geometry();\n    box.vertices.push( new THREE.Vector3( a[0]*b[0].x, a[1]*b[0].y, a[2]*b[0].z ) );\n    box.vertices.push( new THREE.Vector3( a[0]*b[1].x, a[1]*b[1].y, a[2]*b[1].z ) );\n    var boxMesh = new THREE.Line( box );\n    if ( options.frame ) scene.add( new THREE.BoxHelper( boxMesh, 'black' ) );\n\n    if ( options.axesLabels ) {\n\n        var d = options.decimals; // decimals\n        var offsetRatio = 0.1;\n        var al = options.axesLabels;\n\n        var offset = offsetRatio * a[1]*( b[1].y - b[0].y );\n        var xm = xMid.toFixed(d);\n        if ( /^-0.?0*$/.test(xm) ) xm = xm.substr(1);\n        addLabel( al[0] + '=' + xm, a[0]*xMid, a[1]*b[1].y+offset, a[2]*b[0].z );\n        addLabel( ( b[0].x ).toFixed(d), a[0]*b[0].x, a[1]*b[1].y+offset, a[2]*b[0].z );\n        addLabel( ( b[1].x ).toFixed(d), a[0]*b[1].x, a[1]*b[1].y+offset, a[2]*b[0].z );\n\n        var offset = offsetRatio * a[0]*( b[1].x - b[0].x );\n        var ym = yMid.toFixed(d);\n        if ( /^-0.?0*$/.test(ym) ) ym = ym.substr(1);\n        addLabel( al[1] + '=' + ym, a[0]*b[1].x+offset, a[1]*yMid, a[2]*b[0].z );\n        addLabel( ( b[0].y ).toFixed(d), a[0]*b[1].x+offset, a[1]*b[0].y, a[2]*b[0].z );\n        addLabel( ( b[1].y ).toFixed(d), a[0]*b[1].x+offset, a[1]*b[1].y, a[2]*b[0].z );\n\n        var offset = offsetRatio * a[1]*( b[1].y - b[0].y );\n        var zm = zMid.toFixed(d);\n        if ( /^-0.?0*$/.test(zm) ) zm = zm.substr(1);\n        addLabel( al[2] + '=' + zm, a[0]*b[1].x, a[1]*b[0].y-offset, a[2]*zMid );\n        addLabel( ( b[0].z ).toFixed(d), a[0]*b[1].x, a[1]*b[0].y-offset, a[2]*b[0].z );\n        addLabel( ( b[1].z ).toFixed(d), a[0]*b[1].x, a[1]*b[0].y-offset, a[2]*b[1].z );\n\n    }\n\n    function addLabel( text, x, y, z, color='black', fontsize=14  ) {\n\n        var canvas = document.createElement( 'canvas' );\n        var pixelRatio = Math.round( window.devicePixelRatio );\n        canvas.width = 128 * pixelRatio;\n        canvas.height = 32 * pixelRatio; // powers of two\n        canvas.style.width = '128px';\n        canvas.style.height = '32px';\n\n        var context = canvas.getContext( '2d' );\n        context.scale( pixelRatio, pixelRatio );\n        context.fillStyle = color;\n        context.font = fontsize + 'px monospace';\n        context.textAlign = 'center';\n        context.textBaseline = 'middle';\n        context.fillText( text, canvas.width/2/pixelRatio, canvas.height/2/pixelRatio );\n\n        var texture = new THREE.Texture( canvas );\n        texture.needsUpdate = true;\n\n        var sprite = new THREE.Sprite( new THREE.SpriteMaterial( { map: texture } ) );\n        sprite.position.set( x, y, z );\n\n        // Set the initial scale based on plot size to accomodate orthographic projection.\n        // For other projections, the scale will get reset each frame based on camera distance.\n        var scale = midToCorner/2;\n        sprite.scale.set( scale, scale*.25, 1 ); // ratio of canvas width to height\n\n        scene.add( sprite );\n\n    }\n\n    if ( options.axes ) scene.add( new THREE.AxesHelper( Math.min( a[0]*b[1].x, a[1]*b[1].y, a[2]*b[1].z ) ) );\n\n    var camera = createCamera();\n    camera.up.set( 0, 0, 1 );\n    camera.position.set( a[0]*(xMid+xRange), a[1]*(yMid+yRange), a[2]*(zMid+zRange) );\n\n    function createCamera() {\n\n        var aspect = window.innerWidth / window.innerHeight;\n\n        if ( options.projection === 'orthographic' ) {\n            var camera = new THREE.OrthographicCamera( -1, 1, 1, -1, -1000, 1000 );\n            updateCameraAspect( camera, aspect );\n            return camera;\n        }\n\n        return new THREE.PerspectiveCamera( 45, aspect, 0.1, 1000 );\n\n    }\n\n    function updateCameraAspect( camera, aspect ) {\n\n        if ( camera.isPerspectiveCamera ) {\n            camera.aspect = aspect;\n        } else if ( camera.isOrthographicCamera ) {\n            // Fit the camera frustum to the bounding box's diagonal so that the entire plot fits\n            // within at the default zoom level and camera position.\n            if ( aspect > 1 ) { // Wide window\n                camera.top = midToCorner;\n                camera.right = midToCorner * aspect;\n            } else { // Tall or square window\n                camera.top = midToCorner / aspect;\n                camera.right = midToCorner;\n            }\n            camera.bottom = -camera.top;\n            camera.left = -camera.right;\n        }\n\n        camera.updateProjectionMatrix();\n\n    }\n\n    var lights = [{&quot;x&quot;:-5, &quot;y&quot;:3, &quot;z&quot;:0, &quot;color&quot;:&quot;#7f7f7f&quot;, &quot;parent&quot;:&quot;camera&quot;}];\n    for ( var i=0 ; i < lights.length ; i++ ) {\n        var light = new THREE.DirectionalLight( lights[i].color, 1 );\n        light.position.set( a[0]*lights[i].x, a[1]*lights[i].y, a[2]*lights[i].z );\n        if ( lights[i].parent === 'camera' ) {\n            light.target.position.set( a[0]*xMid, a[1]*yMid, a[2]*zMid );\n            scene.add( light.target );\n            camera.add( light );\n        } else scene.add( light );\n    }\n    scene.add( camera );\n\n    var ambient = {&quot;color&quot;:&quot;#7f7f7f&quot;};\n    scene.add( new THREE.AmbientLight( ambient.color, 1 ) );\n\n    var controls = new THREE.OrbitControls( camera, renderer.domElement );\n    controls.target.set( a[0]*xMid, a[1]*yMid, a[2]*zMid );\n    controls.addEventListener( 'change', function() { if ( !animate ) render(); } );\n\n    window.addEventListener( 'resize', function() {\n        \n        renderer.setSize( window.innerWidth, window.innerHeight );\n        updateCameraAspect( camera, window.innerWidth / window.innerHeight );\n        if ( !animate ) render();\n        \n    } );\n\n    var texts = [];\n    for ( var i=0 ; i < texts.length ; i++ )\n        addLabel( texts[i].text, a[0]*texts[i].x, a[1]*texts[i].y, a[2]*texts[i].z, texts[i].color );\n\n    var points = [];\n    for ( var i=0 ; i < points.length ; i++ ) addPoint( points[i] );\n\n    function addPoint( json ) {\n\n        var geometry = new THREE.Geometry();\n        var v = json.point;\n        geometry.vertices.push( new THREE.Vector3( a[0]*v[0], a[1]*v[1], a[2]*v[2] ) );\n\n        var canvas = document.createElement( 'canvas' );\n        canvas.width = 128;\n        canvas.height = 128;\n\n        var context = canvas.getContext( '2d' );\n        context.arc( 64, 64, 64, 0, 2 * Math.PI );\n        context.fillStyle = json.color;\n        context.fill();\n\n        var texture = new THREE.Texture( canvas );\n        texture.needsUpdate = true;\n\n        var transparent = json.opacity < 1 ? true : false;\n        var size = camera.isOrthographicCamera ? json.size : json.size/100;\n        var material = new THREE.PointsMaterial( { size: size, map: texture,\n                                                   transparent: transparent, opacity: json.opacity,\n                                                   alphaTest: .1 } );\n\n        var c = new THREE.Vector3();\n        geometry.computeBoundingBox();\n        geometry.boundingBox.getCenter( c );\n        geometry.translate( -c.x, -c.y, -c.z );\n\n        var mesh = new THREE.Points( geometry, material );\n        mesh.position.set( c.x, c.y, c.z );\n        scene.add( mesh );\n\n    }\n\n    var lines = [];\n    for ( var i=0 ; i < lines.length ; i++ ) addLine( lines[i] );\n\n    function addLine( json ) {\n\n        var geometry = new THREE.Geometry();\n        for ( var i=0 ; i < json.points.length ; i++ ) {\n            var v = json.points[i];\n            geometry.vertices.push( new THREE.Vector3( a[0]*v[0], a[1]*v[1], a[2]*v[2] ) );\n        }\n\n        var transparent = json.opacity < 1 ? true : false;\n        var material = new THREE.LineBasicMaterial( { color: json.color, linewidth: json.linewidth,\n                                                      transparent: transparent, opacity: json.opacity } );\n\n        var c = new THREE.Vector3();\n        geometry.computeBoundingBox();\n        geometry.boundingBox.getCenter( c );\n        geometry.translate( -c.x, -c.y, -c.z );\n\n        var mesh = new THREE.Line( geometry, material );\n        mesh.position.set( c.x, c.y, c.z );\n        scene.add( mesh );\n\n    }\n\n    var surfaces = [{&quot;vertices&quot;: [{&quot;x&quot;: 2.9236324676318532, &quot;y&quot;: 3.8981766235091384, &quot;z&quot;: 4.872720779386421}, {&quot;x&quot;: 2.9397790940979265, &quot;y&quot;: 3.900524291583531, &quot;z&quot;: 4.861154669047263}, {&quot;x&quot;: 2.920820692731244, &quot;y&quot;: 3.914427590308326, &quot;z&quot;: 4.861407070887436}, {&quot;x&quot;: 2.9364234064921444, &quot;y&quot;: 3.8833765953742283, &quot;z&quot;: 4.876886238578175}, {&quot;x&quot;: 2.9153910761294615, &quot;y&quot;: 3.8866820350129165, &quot;z&quot;: 4.886861285084834}, {&quot;x&quot;: 2.9057480687084896, &quot;y&quot;: 3.90587260526669, &quot;z&quot;: 4.877294633334398}, {&quot;x&quot;: 0.016146626466073306, &quot;y&quot;: 0.0023476680743925917, &quot;z&quot;: -0.011566110339158057}, {&quot;x&quot;: -0.002811774900609144, &quot;y&quot;: 0.01625096679918781, &quot;z&quot;: -0.011313708498984762}, {&quot;x&quot;: 0.012790938860291048, &quot;y&quot;: -0.01480002813491017, &quot;z&quot;: 0.004165459191753508}, {&quot;x&quot;: -0.008241391502391593, &quot;y&quot;: -0.011494588496221793, &quot;z&quot;: 0.014140505698412392}, {&quot;x&quot;: -0.017884398923363614, &quot;y&quot;: 0.007695981757551557, &quot;z&quot;: 0.00457385394797692}, {&quot;x&quot;: 0.0, &quot;y&quot;: 0.0, &quot;z&quot;: 0.0}], &quot;faces&quot;: [[0, 1, 2], [0, 3, 1], [0, 4, 3], [0, 5, 4], [0, 2, 5], [2, 1, 6, 7], [1, 3, 8, 6], [3, 4, 9, 8], [4, 5, 10, 9], [5, 2, 7, 10], [7, 6, 11], [6, 8, 11], [8, 9, 11], [9, 10, 11], [10, 7, 11]], &quot;color&quot;: &quot;#6666ff&quot;, &quot;opacity&quot;: 1.0}, {&quot;vertices&quot;: [{&quot;x&quot;: 3.0000000000000004, &quot;y&quot;: 4.000000000000001, &quot;z&quot;: 5.0}, {&quot;x&quot;: 2.972072347030073, &quot;y&quot;: 3.905219627732316, &quot;z&quot;: 4.838022448368947}, {&quot;x&quot;: 2.9151971429300256, &quot;y&quot;: 3.946929523906702, &quot;z&quot;: 4.838779653889467}, {&quot;x&quot;: 2.9620052842127262, &quot;y&quot;: 3.853776539104408, &quot;z&quot;: 4.885217156961682}, {&quot;x&quot;: 2.8989082931246783, &quot;y&quot;: 3.8636928580204732, &quot;z&quot;: 4.915142296481658}, {&quot;x&quot;: 2.869979270861762, &quot;y&quot;: 3.921264568781793, &quot;z&quot;: 4.886442341230352}, {&quot;x&quot;: 2.9236324676318532, &quot;y&quot;: 3.8981766235091384, &quot;z&quot;: 4.872720779386421}], &quot;faces&quot;: [[0, 1, 2], [0, 3, 1], [0, 4, 3], [0, 5, 4], [0, 2, 5], [2, 1, 6], [1, 3, 6], [3, 4, 6], [4, 5, 6], [5, 2, 6]], &quot;color&quot;: &quot;#6666ff&quot;, &quot;opacity&quot;: 1.0}];\n    for ( var i=0 ; i < surfaces.length ; i++ ) addSurface( surfaces[i] );\n\n    function addSurface( json ) {\n\n        var useFaceColors = 'faceColors' in json ? true : false;\n\n        var geometry = new THREE.Geometry();\n        for ( var i=0 ; i < json.vertices.length ; i++ ) {\n            var v = json.vertices[i];\n            geometry.vertices.push( new THREE.Vector3( a[0]*v.x, a[1]*v.y, a[2]*v.z ) );\n        }\n        for ( var i=0 ; i < json.faces.length ; i++ ) {\n            var f = json.faces[i];\n            for ( var j=0 ; j < f.length - 2 ; j++ ) {\n                var face = new THREE.Face3( f[0], f[j+1], f[j+2] );\n                if ( useFaceColors ) face.color.set( json.faceColors[i] );\n                geometry.faces.push( face );\n            }\n        }\n        geometry.computeVertexNormals();\n\n        var side = json.singleSide ? THREE.FrontSide : THREE.DoubleSide;\n        var transparent = json.opacity < 1 ? true : false;\n\n        var material = new THREE.MeshPhongMaterial( { side: side,\n                                     color: useFaceColors ? 'white' : json.color,\n                                     vertexColors: useFaceColors ? THREE.FaceColors : THREE.NoColors,\n                                     transparent: transparent, opacity: json.opacity,\n                                     shininess: 20, flatShading: json.useFlatShading } );\n\n        var c = new THREE.Vector3();\n        geometry.computeBoundingBox();\n        geometry.boundingBox.getCenter( c );\n        geometry.translate( -c.x, -c.y, -c.z );\n\n        var mesh = new THREE.Mesh( geometry, material );\n        mesh.position.set( c.x, c.y, c.z );\n        if ( transparent && json.renderOrder ) mesh.renderOrder = json.renderOrder;\n        scene.add( mesh );\n\n        if ( json.showMeshGrid ) {\n\n            var geometry = new THREE.Geometry();\n\n            for ( var i=0 ; i < json.faces.length ; i++ ) {\n                var f = json.faces[i];\n                for ( var j=0 ; j < f.length ; j++ ) {\n                    var k = j === f.length-1 ? 0 : j+1;\n                    var v1 = json.vertices[f[j]];\n                    var v2 = json.vertices[f[k]];\n                    // vertices in opposite directions on neighboring faces\n                    var nudge = f[j] < f[k] ? .0005*zRange : -.0005*zRange;\n                    geometry.vertices.push( new THREE.Vector3( a[0]*v1.x, a[1]*v1.y, a[2]*(v1.z+nudge) ) );\n                    geometry.vertices.push( new THREE.Vector3( a[0]*v2.x, a[1]*v2.y, a[2]*(v2.z+nudge) ) );\n                }\n            }\n\n            var material = new THREE.LineBasicMaterial( { color: 'black', linewidth: 1 } );\n\n            var c = new THREE.Vector3();\n            geometry.computeBoundingBox();\n            geometry.boundingBox.getCenter( c );\n            geometry.translate( -c.x, -c.y, -c.z );\n\n            var mesh = new THREE.LineSegments( geometry, material );\n            mesh.position.set( c.x, c.y, c.z );\n            scene.add( mesh );\n\n        }\n\n    }\n\n    var scratch = new THREE.Vector3();\n\n    function render() {\n\n        if ( animate ) requestAnimationFrame( render );\n        renderer.render( scene, camera );\n\n        // Resize text based on distance from camera.\n        // Not neccessary for orthographic due to the nature of the projection (preserves sizes).\n        if ( !camera.isOrthographicCamera ) {\n            for ( var i=0 ; i < scene.children.length ; i++ ) {\n                if ( scene.children[i].type === 'Sprite' ) {\n                    var sprite = scene.children[i];\n                    var adjust = scratch.addVectors( sprite.position, scene.position )\n                                    .sub( camera.position ).length() / 5;\n                    sprite.scale.set( adjust, .25*adjust, 1 ); // ratio of canvas width to height\n                }\n            }\n        }\n    }\n    \n    render();\n    controls.update();\n    if ( !animate ) render();\n\n\n    // menu functions\n\n    function toggleMenu() {\n\n        var m = document.getElementById( 'menu-content' );\n        if ( m.style.display === 'block' ) m.style.display = 'none'\n        else m.style.display = 'block';\n\n    }\n\n\n    function saveAsPNG() {\n\n        var a = document.body.appendChild( document.createElement( 'a' ) );\n        a.href = renderer.domElement.toDataURL( 'image/png' );\n        a.download = 'screenshot';\n        a.click();\n\n    }\n\n    function saveAsHTML() {\n\n        toggleMenu(); // otherwise visible in output\n        event.stopPropagation();\n\n        var blob = new Blob( [ '<!DOCTYPE html>\\n' + document.documentElement.outerHTML ] );\n        var a = document.body.appendChild( document.createElement( 'a' ) );\n        a.href = window.URL.createObjectURL( blob );\n        a.download = 'graphic.html';\n        a.click();\n\n    }\n\n    function getViewpoint() {\n\n        function roundTo( x, n ) { return +x.toFixed(n); }\n\n        var v = camera.quaternion.inverse();\n        var r = Math.sqrt( v.x*v.x + v.y*v.y + v.z*v.z );\n        var axis = [ roundTo( v.x / r, 4 ), roundTo( v.y / r, 4 ), roundTo( v.z / r, 4 ) ];\n        var angle = roundTo( 2 * Math.atan2( r, v.w ) * 180 / Math.PI, 2 );\n\n        var textArea = document.createElement( 'textarea' );\n        textArea.textContent = JSON.stringify( axis ) + ',' + angle;\n        textArea.style.csstext = 'position: absolute; top: -100%';\n        document.body.append( textArea );\n        textArea.select();\n        document.execCommand( 'copy' );\n\n        var m = document.getElementById( 'menu-message' );\n        m.innerHTML = 'Viewpoint copied to clipboard';\n        m.style.display = 'block';\n        setTimeout( function() { m.style.display = 'none'; }, 2000 );\n\n    }\n\n</script>\n\n<div id=&quot;menu-container&quot; onclick=&quot;toggleMenu()&quot;>&#x24d8;\n<div id=&quot;menu-message&quot;></div>\n<div id=&quot;menu-content&quot;>\n<div onclick=&quot;saveAsPNG()&quot;>Save as PNG</div>\n<div onclick=&quot;saveAsHTML()&quot;>Save as HTML</div>\n<div onclick=&quot;getViewpoint()&quot;>Get Viewpoint</div>\n<div>Close Menu</div>\n</div></div>\n\n</body>\n</html>\n\"\n        width=\"100%\"\n        height=\"400\"\n        style=\"border: 0;\">\n</iframe>\n",
      "text/plain": [
       "Graphics3d Object"
      ]
     },
     "execution_count": 15,
     "metadata": {
     },
     "output_type": "execute_result"
    }
   ],
   "source": [
    "origin = (0,0,0)\n",
    "arrow(origin,u)"
   ]
  },
  {
   "cell_type": "code",
   "execution_count": 16,
   "metadata": {
    "collapsed": false
   },
   "outputs": [
    {
     "data": {
      "text/html": "\n<iframe srcdoc=\"<!DOCTYPE html>\n<html>\n<head>\n<title></title>\n<meta charset=&quot;utf-8&quot;>\n<meta name=viewport content=&quot;width=device-width, user-scalable=no, minimum-scale=1.0, maximum-scale=1.0&quot;>\n<style>\n\n    body { margin: 0px; overflow: hidden; }\n\n    #menu-container { position: absolute; bottom: 30px; right: 40px; cursor: default; }\n\n    #menu-message { position: absolute; bottom: 0px; right: 0px; white-space: nowrap;\n                    display: none; background-color: #F5F5F5; padding: 10px; }\n\n    #menu-content { position: absolute; bottom: 0px; right: 0px;\n                    display: none; background-color: #F5F5F5; border-bottom: 1px solid black;\n                    border-right: 1px solid black; border-left: 1px solid black; }\n\n    #menu-content div { border-top: 1px solid black; padding: 10px; white-space: nowrap; }\n\n    #menu-content div:hover { background-color: #FEFEFE;; }\n  \n</style>\n</head>\n\n<body>\n\n<script src=&quot;/nbextensions/threejs/build/three.min.js&quot;></script>\n<script src=&quot;/nbextensions/threejs/examples/js/controls/OrbitControls.js&quot;></script>\n<script>\n  if ( !window.THREE ) document.write(' \\\n<script src=&quot;https://cdn.jsdelivr.net/gh/mrdoob/three.js@r110/build/three.min.js&quot;><\\/script> \\\n<script src=&quot;https://cdn.jsdelivr.net/gh/mrdoob/three.js@r110/examples/js/controls/OrbitControls.js&quot;><\\/script> \\\n            ');\n</script>\n        \n<script>\n\n    var scene = new THREE.Scene();\n\n    var renderer = new THREE.WebGLRenderer( { antialias: true, preserveDrawingBuffer: true } );\n    renderer.setPixelRatio( window.devicePixelRatio );\n    renderer.setSize( window.innerWidth, window.innerHeight );\n    renderer.setClearColor( 0xffffff, 1 );\n    document.body.appendChild( renderer.domElement );\n\n    var options = {&quot;aspectRatio&quot;: [1.0, 1.0, 1.0], &quot;axes&quot;: false, &quot;axesLabels&quot;: [&quot;x&quot;, &quot;y&quot;, &quot;z&quot;], &quot;decimals&quot;: 2, &quot;frame&quot;: true, &quot;projection&quot;: &quot;perspective&quot;};\n\n    // When animations are supported by the viewer, the value 'false'\n    // will be replaced with an option set in Python by the user\n    var animate = false; // options.animate;\n\n    var b = [{&quot;x&quot;:-0.020702943725152287, &quot;y&quot;:-0.01906274169979695, &quot;z&quot;:-0.01979898987322333}, {&quot;x&quot;:3.0578708591210044, &quot;y&quot;:4.056775370922303, &quot;z&quot;:5.051668893765951}]; // bounds\n\n    if ( b[0].x === b[1].x ) {\n        b[0].x -= 1;\n        b[1].x += 1;\n    }\n    if ( b[0].y === b[1].y ) {\n        b[0].y -= 1;\n        b[1].y += 1;\n    }\n    if ( b[0].z === b[1].z ) {\n        b[0].z -= 1;\n        b[1].z += 1;\n    }\n\n    var rRange = Math.sqrt( Math.pow( b[1].x - b[0].x, 2 )\n                            + Math.pow( b[1].y - b[0].y, 2 ) );\n    var xRange = b[1].x - b[0].x;\n    var yRange = b[1].y - b[0].y;\n    var zRange = b[1].z - b[0].z;\n\n    var ar = options.aspectRatio;\n    var a = [ ar[0], ar[1], ar[2] ]; // aspect multipliers\n    var autoAspect = 2.5;\n    if ( zRange > autoAspect * rRange && a[2] === 1 ) a[2] = autoAspect * rRange / zRange;\n\n    // Distance from (xMid,yMid,zMid) to any corner of the bounding box, after applying aspectRatio\n    var midToCorner = Math.sqrt( a[0]*a[0]*xRange*xRange + a[1]*a[1]*yRange*yRange + a[2]*a[2]*zRange*zRange ) / 2;\n\n    var xMid = ( b[0].x + b[1].x ) / 2;\n    var yMid = ( b[0].y + b[1].y ) / 2;\n    var zMid = ( b[0].z + b[1].z ) / 2;\n\n    var box = new THREE.Geometry();\n    box.vertices.push( new THREE.Vector3( a[0]*b[0].x, a[1]*b[0].y, a[2]*b[0].z ) );\n    box.vertices.push( new THREE.Vector3( a[0]*b[1].x, a[1]*b[1].y, a[2]*b[1].z ) );\n    var boxMesh = new THREE.Line( box );\n    if ( options.frame ) scene.add( new THREE.BoxHelper( boxMesh, 'black' ) );\n\n    if ( options.axesLabels ) {\n\n        var d = options.decimals; // decimals\n        var offsetRatio = 0.1;\n        var al = options.axesLabels;\n\n        var offset = offsetRatio * a[1]*( b[1].y - b[0].y );\n        var xm = xMid.toFixed(d);\n        if ( /^-0.?0*$/.test(xm) ) xm = xm.substr(1);\n        addLabel( al[0] + '=' + xm, a[0]*xMid, a[1]*b[1].y+offset, a[2]*b[0].z );\n        addLabel( ( b[0].x ).toFixed(d), a[0]*b[0].x, a[1]*b[1].y+offset, a[2]*b[0].z );\n        addLabel( ( b[1].x ).toFixed(d), a[0]*b[1].x, a[1]*b[1].y+offset, a[2]*b[0].z );\n\n        var offset = offsetRatio * a[0]*( b[1].x - b[0].x );\n        var ym = yMid.toFixed(d);\n        if ( /^-0.?0*$/.test(ym) ) ym = ym.substr(1);\n        addLabel( al[1] + '=' + ym, a[0]*b[1].x+offset, a[1]*yMid, a[2]*b[0].z );\n        addLabel( ( b[0].y ).toFixed(d), a[0]*b[1].x+offset, a[1]*b[0].y, a[2]*b[0].z );\n        addLabel( ( b[1].y ).toFixed(d), a[0]*b[1].x+offset, a[1]*b[1].y, a[2]*b[0].z );\n\n        var offset = offsetRatio * a[1]*( b[1].y - b[0].y );\n        var zm = zMid.toFixed(d);\n        if ( /^-0.?0*$/.test(zm) ) zm = zm.substr(1);\n        addLabel( al[2] + '=' + zm, a[0]*b[1].x, a[1]*b[0].y-offset, a[2]*zMid );\n        addLabel( ( b[0].z ).toFixed(d), a[0]*b[1].x, a[1]*b[0].y-offset, a[2]*b[0].z );\n        addLabel( ( b[1].z ).toFixed(d), a[0]*b[1].x, a[1]*b[0].y-offset, a[2]*b[1].z );\n\n    }\n\n    function addLabel( text, x, y, z, color='black', fontsize=14  ) {\n\n        var canvas = document.createElement( 'canvas' );\n        var pixelRatio = Math.round( window.devicePixelRatio );\n        canvas.width = 128 * pixelRatio;\n        canvas.height = 32 * pixelRatio; // powers of two\n        canvas.style.width = '128px';\n        canvas.style.height = '32px';\n\n        var context = canvas.getContext( '2d' );\n        context.scale( pixelRatio, pixelRatio );\n        context.fillStyle = color;\n        context.font = fontsize + 'px monospace';\n        context.textAlign = 'center';\n        context.textBaseline = 'middle';\n        context.fillText( text, canvas.width/2/pixelRatio, canvas.height/2/pixelRatio );\n\n        var texture = new THREE.Texture( canvas );\n        texture.needsUpdate = true;\n\n        var sprite = new THREE.Sprite( new THREE.SpriteMaterial( { map: texture } ) );\n        sprite.position.set( x, y, z );\n\n        // Set the initial scale based on plot size to accomodate orthographic projection.\n        // For other projections, the scale will get reset each frame based on camera distance.\n        var scale = midToCorner/2;\n        sprite.scale.set( scale, scale*.25, 1 ); // ratio of canvas width to height\n\n        scene.add( sprite );\n\n    }\n\n    if ( options.axes ) scene.add( new THREE.AxesHelper( Math.min( a[0]*b[1].x, a[1]*b[1].y, a[2]*b[1].z ) ) );\n\n    var camera = createCamera();\n    camera.up.set( 0, 0, 1 );\n    camera.position.set( a[0]*(xMid+xRange), a[1]*(yMid+yRange), a[2]*(zMid+zRange) );\n\n    function createCamera() {\n\n        var aspect = window.innerWidth / window.innerHeight;\n\n        if ( options.projection === 'orthographic' ) {\n            var camera = new THREE.OrthographicCamera( -1, 1, 1, -1, -1000, 1000 );\n            updateCameraAspect( camera, aspect );\n            return camera;\n        }\n\n        return new THREE.PerspectiveCamera( 45, aspect, 0.1, 1000 );\n\n    }\n\n    function updateCameraAspect( camera, aspect ) {\n\n        if ( camera.isPerspectiveCamera ) {\n            camera.aspect = aspect;\n        } else if ( camera.isOrthographicCamera ) {\n            // Fit the camera frustum to the bounding box's diagonal so that the entire plot fits\n            // within at the default zoom level and camera position.\n            if ( aspect > 1 ) { // Wide window\n                camera.top = midToCorner;\n                camera.right = midToCorner * aspect;\n            } else { // Tall or square window\n                camera.top = midToCorner / aspect;\n                camera.right = midToCorner;\n            }\n            camera.bottom = -camera.top;\n            camera.left = -camera.right;\n        }\n\n        camera.updateProjectionMatrix();\n\n    }\n\n    var lights = [{&quot;x&quot;:-5, &quot;y&quot;:3, &quot;z&quot;:0, &quot;color&quot;:&quot;#7f7f7f&quot;, &quot;parent&quot;:&quot;camera&quot;}];\n    for ( var i=0 ; i < lights.length ; i++ ) {\n        var light = new THREE.DirectionalLight( lights[i].color, 1 );\n        light.position.set( a[0]*lights[i].x, a[1]*lights[i].y, a[2]*lights[i].z );\n        if ( lights[i].parent === 'camera' ) {\n            light.target.position.set( a[0]*xMid, a[1]*yMid, a[2]*zMid );\n            scene.add( light.target );\n            camera.add( light );\n        } else scene.add( light );\n    }\n    scene.add( camera );\n\n    var ambient = {&quot;color&quot;:&quot;#7f7f7f&quot;};\n    scene.add( new THREE.AmbientLight( ambient.color, 1 ) );\n\n    var controls = new THREE.OrbitControls( camera, renderer.domElement );\n    controls.target.set( a[0]*xMid, a[1]*yMid, a[2]*zMid );\n    controls.addEventListener( 'change', function() { if ( !animate ) render(); } );\n\n    window.addEventListener( 'resize', function() {\n        \n        renderer.setSize( window.innerWidth, window.innerHeight );\n        updateCameraAspect( camera, window.innerWidth / window.innerHeight );\n        if ( !animate ) render();\n        \n    } );\n\n    var texts = [];\n    for ( var i=0 ; i < texts.length ; i++ )\n        addLabel( texts[i].text, a[0]*texts[i].x, a[1]*texts[i].y, a[2]*texts[i].z, texts[i].color );\n\n    var points = [];\n    for ( var i=0 ; i < points.length ; i++ ) addPoint( points[i] );\n\n    function addPoint( json ) {\n\n        var geometry = new THREE.Geometry();\n        var v = json.point;\n        geometry.vertices.push( new THREE.Vector3( a[0]*v[0], a[1]*v[1], a[2]*v[2] ) );\n\n        var canvas = document.createElement( 'canvas' );\n        canvas.width = 128;\n        canvas.height = 128;\n\n        var context = canvas.getContext( '2d' );\n        context.arc( 64, 64, 64, 0, 2 * Math.PI );\n        context.fillStyle = json.color;\n        context.fill();\n\n        var texture = new THREE.Texture( canvas );\n        texture.needsUpdate = true;\n\n        var transparent = json.opacity < 1 ? true : false;\n        var size = camera.isOrthographicCamera ? json.size : json.size/100;\n        var material = new THREE.PointsMaterial( { size: size, map: texture,\n                                                   transparent: transparent, opacity: json.opacity,\n                                                   alphaTest: .1 } );\n\n        var c = new THREE.Vector3();\n        geometry.computeBoundingBox();\n        geometry.boundingBox.getCenter( c );\n        geometry.translate( -c.x, -c.y, -c.z );\n\n        var mesh = new THREE.Points( geometry, material );\n        mesh.position.set( c.x, c.y, c.z );\n        scene.add( mesh );\n\n    }\n\n    var lines = [];\n    for ( var i=0 ; i < lines.length ; i++ ) addLine( lines[i] );\n\n    function addLine( json ) {\n\n        var geometry = new THREE.Geometry();\n        for ( var i=0 ; i < json.points.length ; i++ ) {\n            var v = json.points[i];\n            geometry.vertices.push( new THREE.Vector3( a[0]*v[0], a[1]*v[1], a[2]*v[2] ) );\n        }\n\n        var transparent = json.opacity < 1 ? true : false;\n        var material = new THREE.LineBasicMaterial( { color: json.color, linewidth: json.linewidth,\n                                                      transparent: transparent, opacity: json.opacity } );\n\n        var c = new THREE.Vector3();\n        geometry.computeBoundingBox();\n        geometry.boundingBox.getCenter( c );\n        geometry.translate( -c.x, -c.y, -c.z );\n\n        var mesh = new THREE.Line( geometry, material );\n        mesh.position.set( c.x, c.y, c.z );\n        scene.add( mesh );\n\n    }\n\n    var surfaces = [{&quot;vertices&quot;: [{&quot;x&quot;: 2.9236324676318532, &quot;y&quot;: 3.8981766235091384, &quot;z&quot;: 4.872720779386421}, {&quot;x&quot;: 2.9397790940979265, &quot;y&quot;: 3.900524291583531, &quot;z&quot;: 4.861154669047263}, {&quot;x&quot;: 2.920820692731244, &quot;y&quot;: 3.914427590308326, &quot;z&quot;: 4.861407070887436}, {&quot;x&quot;: 2.9364234064921444, &quot;y&quot;: 3.8833765953742283, &quot;z&quot;: 4.876886238578175}, {&quot;x&quot;: 2.9153910761294615, &quot;y&quot;: 3.8866820350129165, &quot;z&quot;: 4.886861285084834}, {&quot;x&quot;: 2.9057480687084896, &quot;y&quot;: 3.90587260526669, &quot;z&quot;: 4.877294633334398}, {&quot;x&quot;: 0.016146626466073306, &quot;y&quot;: 0.0023476680743925917, &quot;z&quot;: -0.011566110339158057}, {&quot;x&quot;: -0.002811774900609144, &quot;y&quot;: 0.01625096679918781, &quot;z&quot;: -0.011313708498984762}, {&quot;x&quot;: 0.012790938860291048, &quot;y&quot;: -0.01480002813491017, &quot;z&quot;: 0.004165459191753508}, {&quot;x&quot;: -0.008241391502391593, &quot;y&quot;: -0.011494588496221793, &quot;z&quot;: 0.014140505698412392}, {&quot;x&quot;: -0.017884398923363614, &quot;y&quot;: 0.007695981757551557, &quot;z&quot;: 0.00457385394797692}, {&quot;x&quot;: 0.0, &quot;y&quot;: 0.0, &quot;z&quot;: 0.0}], &quot;faces&quot;: [[0, 1, 2], [0, 3, 1], [0, 4, 3], [0, 5, 4], [0, 2, 5], [2, 1, 6, 7], [1, 3, 8, 6], [3, 4, 9, 8], [4, 5, 10, 9], [5, 2, 7, 10], [7, 6, 11], [6, 8, 11], [8, 9, 11], [9, 10, 11], [10, 7, 11]], &quot;color&quot;: &quot;#6666ff&quot;, &quot;opacity&quot;: 1.0}, {&quot;vertices&quot;: [{&quot;x&quot;: 3.0000000000000004, &quot;y&quot;: 4.000000000000001, &quot;z&quot;: 5.0}, {&quot;x&quot;: 2.972072347030073, &quot;y&quot;: 3.905219627732316, &quot;z&quot;: 4.838022448368947}, {&quot;x&quot;: 2.9151971429300256, &quot;y&quot;: 3.946929523906702, &quot;z&quot;: 4.838779653889467}, {&quot;x&quot;: 2.9620052842127262, &quot;y&quot;: 3.853776539104408, &quot;z&quot;: 4.885217156961682}, {&quot;x&quot;: 2.8989082931246783, &quot;y&quot;: 3.8636928580204732, &quot;z&quot;: 4.915142296481658}, {&quot;x&quot;: 2.869979270861762, &quot;y&quot;: 3.921264568781793, &quot;z&quot;: 4.886442341230352}, {&quot;x&quot;: 2.9236324676318532, &quot;y&quot;: 3.8981766235091384, &quot;z&quot;: 4.872720779386421}], &quot;faces&quot;: [[0, 1, 2], [0, 3, 1], [0, 4, 3], [0, 5, 4], [0, 2, 5], [2, 1, 6], [1, 3, 6], [3, 4, 6], [4, 5, 6], [5, 2, 6]], &quot;color&quot;: &quot;#6666ff&quot;, &quot;opacity&quot;: 1.0}, {&quot;vertices&quot;: [{&quot;x&quot;: 0.34789653634378137, &quot;y&quot;: 0.4638620484583752, &quot;z&quot;: 0.579827560572969}, {&quot;x&quot;: 0.36404316280985466, &quot;y&quot;: 0.46620971653276777, &quot;z&quot;: 0.5682614502338109}, {&quot;x&quot;: 0.34508476144317224, &quot;y&quot;: 0.480113015257563, &quot;z&quot;: 0.5685138520739843}, {&quot;x&quot;: 0.3606874752040724, &quot;y&quot;: 0.44906202032346504, &quot;z&quot;: 0.5839930197647225}, {&quot;x&quot;: 0.33965514484138976, &quot;y&quot;: 0.4523674599621534, &quot;z&quot;: 0.5939680662713814}, {&quot;x&quot;: 0.33001213742041774, &quot;y&quot;: 0.47155803021592674, &quot;z&quot;: 0.584401414520946}, {&quot;x&quot;: 0.016146626466073306, &quot;y&quot;: 0.002347668074392594, &quot;z&quot;: -0.011566110339158057}, {&quot;x&quot;: -0.002811774900609143, &quot;y&quot;: 0.01625096679918781, &quot;z&quot;: -0.01131370849898476}, {&quot;x&quot;: 0.012790938860291048, &quot;y&quot;: -0.01480002813491017, &quot;z&quot;: 0.004165459191753507}, {&quot;x&quot;: -0.008241391502391594, &quot;y&quot;: -0.011494588496221795, &quot;z&quot;: 0.01414050569841239}, {&quot;x&quot;: -0.017884398923363614, &quot;y&quot;: 0.007695981757551557, &quot;z&quot;: 0.004573853947976921}, {&quot;x&quot;: 0.0, &quot;y&quot;: 0.0, &quot;z&quot;: 0.0}], &quot;faces&quot;: [[0, 1, 2], [0, 3, 1], [0, 4, 3], [0, 5, 4], [0, 2, 5], [2, 1, 6, 7], [1, 3, 8, 6], [3, 4, 9, 8], [4, 5, 10, 9], [5, 2, 7, 10], [7, 6, 11], [6, 8, 11], [8, 9, 11], [9, 10, 11], [10, 7, 11]], &quot;color&quot;: &quot;#008000&quot;, &quot;opacity&quot;: 1.0}, {&quot;vertices&quot;: [{&quot;x&quot;: 0.4242640687119285, &quot;y&quot;: 0.565685424949238, &quot;z&quot;: 0.7071067811865476}, {&quot;x&quot;: 0.3963364157420013, &quot;y&quot;: 0.47090505268155297, &quot;z&quot;: 0.5451292295554948}, {&quot;x&quot;: 0.3394612116419539, &quot;y&quot;: 0.5126149488559386, &quot;z&quot;: 0.5458864350760148}, {&quot;x&quot;: 0.38626935292465453, &quot;y&quot;: 0.41946196405364466, &quot;z&quot;: 0.5923239381482296}, {&quot;x&quot;: 0.3231723618366066, &quot;y&quot;: 0.4293782829697098, &quot;z&quot;: 0.6222490776682061}, {&quot;x&quot;: 0.29424333957369053, &quot;y&quot;: 0.4869499937310299, &quot;z&quot;: 0.5935491224168998}, {&quot;x&quot;: 0.34789653634378137, &quot;y&quot;: 0.4638620484583752, &quot;z&quot;: 0.579827560572969}], &quot;faces&quot;: [[0, 1, 2], [0, 3, 1], [0, 4, 3], [0, 5, 4], [0, 2, 5], [2, 1, 6], [1, 3, 6], [3, 4, 6], [4, 5, 6], [5, 2, 6]], &quot;color&quot;: &quot;#008000&quot;, &quot;opacity&quot;: 1.0}];\n    for ( var i=0 ; i < surfaces.length ; i++ ) addSurface( surfaces[i] );\n\n    function addSurface( json ) {\n\n        var useFaceColors = 'faceColors' in json ? true : false;\n\n        var geometry = new THREE.Geometry();\n        for ( var i=0 ; i < json.vertices.length ; i++ ) {\n            var v = json.vertices[i];\n            geometry.vertices.push( new THREE.Vector3( a[0]*v.x, a[1]*v.y, a[2]*v.z ) );\n        }\n        for ( var i=0 ; i < json.faces.length ; i++ ) {\n            var f = json.faces[i];\n            for ( var j=0 ; j < f.length - 2 ; j++ ) {\n                var face = new THREE.Face3( f[0], f[j+1], f[j+2] );\n                if ( useFaceColors ) face.color.set( json.faceColors[i] );\n                geometry.faces.push( face );\n            }\n        }\n        geometry.computeVertexNormals();\n\n        var side = json.singleSide ? THREE.FrontSide : THREE.DoubleSide;\n        var transparent = json.opacity < 1 ? true : false;\n\n        var material = new THREE.MeshPhongMaterial( { side: side,\n                                     color: useFaceColors ? 'white' : json.color,\n                                     vertexColors: useFaceColors ? THREE.FaceColors : THREE.NoColors,\n                                     transparent: transparent, opacity: json.opacity,\n                                     shininess: 20, flatShading: json.useFlatShading } );\n\n        var c = new THREE.Vector3();\n        geometry.computeBoundingBox();\n        geometry.boundingBox.getCenter( c );\n        geometry.translate( -c.x, -c.y, -c.z );\n\n        var mesh = new THREE.Mesh( geometry, material );\n        mesh.position.set( c.x, c.y, c.z );\n        if ( transparent && json.renderOrder ) mesh.renderOrder = json.renderOrder;\n        scene.add( mesh );\n\n        if ( json.showMeshGrid ) {\n\n            var geometry = new THREE.Geometry();\n\n            for ( var i=0 ; i < json.faces.length ; i++ ) {\n                var f = json.faces[i];\n                for ( var j=0 ; j < f.length ; j++ ) {\n                    var k = j === f.length-1 ? 0 : j+1;\n                    var v1 = json.vertices[f[j]];\n                    var v2 = json.vertices[f[k]];\n                    // vertices in opposite directions on neighboring faces\n                    var nudge = f[j] < f[k] ? .0005*zRange : -.0005*zRange;\n                    geometry.vertices.push( new THREE.Vector3( a[0]*v1.x, a[1]*v1.y, a[2]*(v1.z+nudge) ) );\n                    geometry.vertices.push( new THREE.Vector3( a[0]*v2.x, a[1]*v2.y, a[2]*(v2.z+nudge) ) );\n                }\n            }\n\n            var material = new THREE.LineBasicMaterial( { color: 'black', linewidth: 1 } );\n\n            var c = new THREE.Vector3();\n            geometry.computeBoundingBox();\n            geometry.boundingBox.getCenter( c );\n            geometry.translate( -c.x, -c.y, -c.z );\n\n            var mesh = new THREE.LineSegments( geometry, material );\n            mesh.position.set( c.x, c.y, c.z );\n            scene.add( mesh );\n\n        }\n\n    }\n\n    var scratch = new THREE.Vector3();\n\n    function render() {\n\n        if ( animate ) requestAnimationFrame( render );\n        renderer.render( scene, camera );\n\n        // Resize text based on distance from camera.\n        // Not neccessary for orthographic due to the nature of the projection (preserves sizes).\n        if ( !camera.isOrthographicCamera ) {\n            for ( var i=0 ; i < scene.children.length ; i++ ) {\n                if ( scene.children[i].type === 'Sprite' ) {\n                    var sprite = scene.children[i];\n                    var adjust = scratch.addVectors( sprite.position, scene.position )\n                                    .sub( camera.position ).length() / 5;\n                    sprite.scale.set( adjust, .25*adjust, 1 ); // ratio of canvas width to height\n                }\n            }\n        }\n    }\n    \n    render();\n    controls.update();\n    if ( !animate ) render();\n\n\n    // menu functions\n\n    function toggleMenu() {\n\n        var m = document.getElementById( 'menu-content' );\n        if ( m.style.display === 'block' ) m.style.display = 'none'\n        else m.style.display = 'block';\n\n    }\n\n\n    function saveAsPNG() {\n\n        var a = document.body.appendChild( document.createElement( 'a' ) );\n        a.href = renderer.domElement.toDataURL( 'image/png' );\n        a.download = 'screenshot';\n        a.click();\n\n    }\n\n    function saveAsHTML() {\n\n        toggleMenu(); // otherwise visible in output\n        event.stopPropagation();\n\n        var blob = new Blob( [ '<!DOCTYPE html>\\n' + document.documentElement.outerHTML ] );\n        var a = document.body.appendChild( document.createElement( 'a' ) );\n        a.href = window.URL.createObjectURL( blob );\n        a.download = 'graphic.html';\n        a.click();\n\n    }\n\n    function getViewpoint() {\n\n        function roundTo( x, n ) { return +x.toFixed(n); }\n\n        var v = camera.quaternion.inverse();\n        var r = Math.sqrt( v.x*v.x + v.y*v.y + v.z*v.z );\n        var axis = [ roundTo( v.x / r, 4 ), roundTo( v.y / r, 4 ), roundTo( v.z / r, 4 ) ];\n        var angle = roundTo( 2 * Math.atan2( r, v.w ) * 180 / Math.PI, 2 );\n\n        var textArea = document.createElement( 'textarea' );\n        textArea.textContent = JSON.stringify( axis ) + ',' + angle;\n        textArea.style.csstext = 'position: absolute; top: -100%';\n        document.body.append( textArea );\n        textArea.select();\n        document.execCommand( 'copy' );\n\n        var m = document.getElementById( 'menu-message' );\n        m.innerHTML = 'Viewpoint copied to clipboard';\n        m.style.display = 'block';\n        setTimeout( function() { m.style.display = 'none'; }, 2000 );\n\n    }\n\n</script>\n\n<div id=&quot;menu-container&quot; onclick=&quot;toggleMenu()&quot;>&#x24d8;\n<div id=&quot;menu-message&quot;></div>\n<div id=&quot;menu-content&quot;>\n<div onclick=&quot;saveAsPNG()&quot;>Save as PNG</div>\n<div onclick=&quot;saveAsHTML()&quot;>Save as HTML</div>\n<div onclick=&quot;getViewpoint()&quot;>Get Viewpoint</div>\n<div>Close Menu</div>\n</div></div>\n\n</body>\n</html>\n\"\n        width=\"100%\"\n        height=\"400\"\n        style=\"border: 0;\">\n</iframe>\n",
      "text/plain": [
       "Graphics3d Object"
      ]
     },
     "execution_count": 16,
     "metadata": {
     },
     "output_type": "execute_result"
    }
   ],
   "source": [
    "origin = (0,0,0)\n",
    "p = arrow(origin,u)\n",
    "p += arrow(origin,u.normalized(),color='green')\n",
    "p.show()"
   ]
  },
  {
   "cell_type": "code",
   "execution_count": 17,
   "metadata": {
    "collapsed": false
   },
   "outputs": [
    {
     "data": {
      "text/html": "\n<iframe srcdoc=\"<!DOCTYPE html>\n<html>\n<head>\n<title></title>\n<meta charset=&quot;utf-8&quot;>\n<meta name=viewport content=&quot;width=device-width, user-scalable=no, minimum-scale=1.0, maximum-scale=1.0&quot;>\n<style>\n\n    body { margin: 0px; overflow: hidden; }\n\n    #menu-container { position: absolute; bottom: 30px; right: 40px; cursor: default; }\n\n    #menu-message { position: absolute; bottom: 0px; right: 0px; white-space: nowrap;\n                    display: none; background-color: #F5F5F5; padding: 10px; }\n\n    #menu-content { position: absolute; bottom: 0px; right: 0px;\n                    display: none; background-color: #F5F5F5; border-bottom: 1px solid black;\n                    border-right: 1px solid black; border-left: 1px solid black; }\n\n    #menu-content div { border-top: 1px solid black; padding: 10px; white-space: nowrap; }\n\n    #menu-content div:hover { background-color: #FEFEFE;; }\n  \n</style>\n</head>\n\n<body>\n\n<script src=&quot;/nbextensions/threejs/build/three.min.js&quot;></script>\n<script src=&quot;/nbextensions/threejs/examples/js/controls/OrbitControls.js&quot;></script>\n<script>\n  if ( !window.THREE ) document.write(' \\\n<script src=&quot;https://cdn.jsdelivr.net/gh/mrdoob/three.js@r110/build/three.min.js&quot;><\\/script> \\\n<script src=&quot;https://cdn.jsdelivr.net/gh/mrdoob/three.js@r110/examples/js/controls/OrbitControls.js&quot;><\\/script> \\\n            ');\n</script>\n        \n<script>\n\n    var scene = new THREE.Scene();\n\n    var renderer = new THREE.WebGLRenderer( { antialias: true, preserveDrawingBuffer: true } );\n    renderer.setPixelRatio( window.devicePixelRatio );\n    renderer.setSize( window.innerWidth, window.innerHeight );\n    renderer.setClearColor( 0xffffff, 1 );\n    document.body.appendChild( renderer.domElement );\n\n    var options = {&quot;aspectRatio&quot;: [1.0, 1.0, 1.0], &quot;axes&quot;: false, &quot;axesLabels&quot;: [&quot;x&quot;, &quot;y&quot;, &quot;z&quot;], &quot;decimals&quot;: 2, &quot;frame&quot;: true, &quot;projection&quot;: &quot;perspective&quot;};\n\n    // When animations are supported by the viewer, the value 'false'\n    // will be replaced with an option set in Python by the user\n    var animate = false; // options.animate;\n\n    var b = [{&quot;x&quot;:-1.0, &quot;y&quot;:-0.9990989662046815, &quot;z&quot;:0.0}, {&quot;x&quot;:1.0, &quot;y&quot;:1.0, &quot;z&quot;:15.707963267948966}]; // bounds\n\n    if ( b[0].x === b[1].x ) {\n        b[0].x -= 1;\n        b[1].x += 1;\n    }\n    if ( b[0].y === b[1].y ) {\n        b[0].y -= 1;\n        b[1].y += 1;\n    }\n    if ( b[0].z === b[1].z ) {\n        b[0].z -= 1;\n        b[1].z += 1;\n    }\n\n    var rRange = Math.sqrt( Math.pow( b[1].x - b[0].x, 2 )\n                            + Math.pow( b[1].y - b[0].y, 2 ) );\n    var xRange = b[1].x - b[0].x;\n    var yRange = b[1].y - b[0].y;\n    var zRange = b[1].z - b[0].z;\n\n    var ar = options.aspectRatio;\n    var a = [ ar[0], ar[1], ar[2] ]; // aspect multipliers\n    var autoAspect = 2.5;\n    if ( zRange > autoAspect * rRange && a[2] === 1 ) a[2] = autoAspect * rRange / zRange;\n\n    // Distance from (xMid,yMid,zMid) to any corner of the bounding box, after applying aspectRatio\n    var midToCorner = Math.sqrt( a[0]*a[0]*xRange*xRange + a[1]*a[1]*yRange*yRange + a[2]*a[2]*zRange*zRange ) / 2;\n\n    var xMid = ( b[0].x + b[1].x ) / 2;\n    var yMid = ( b[0].y + b[1].y ) / 2;\n    var zMid = ( b[0].z + b[1].z ) / 2;\n\n    var box = new THREE.Geometry();\n    box.vertices.push( new THREE.Vector3( a[0]*b[0].x, a[1]*b[0].y, a[2]*b[0].z ) );\n    box.vertices.push( new THREE.Vector3( a[0]*b[1].x, a[1]*b[1].y, a[2]*b[1].z ) );\n    var boxMesh = new THREE.Line( box );\n    if ( options.frame ) scene.add( new THREE.BoxHelper( boxMesh, 'black' ) );\n\n    if ( options.axesLabels ) {\n\n        var d = options.decimals; // decimals\n        var offsetRatio = 0.1;\n        var al = options.axesLabels;\n\n        var offset = offsetRatio * a[1]*( b[1].y - b[0].y );\n        var xm = xMid.toFixed(d);\n        if ( /^-0.?0*$/.test(xm) ) xm = xm.substr(1);\n        addLabel( al[0] + '=' + xm, a[0]*xMid, a[1]*b[1].y+offset, a[2]*b[0].z );\n        addLabel( ( b[0].x ).toFixed(d), a[0]*b[0].x, a[1]*b[1].y+offset, a[2]*b[0].z );\n        addLabel( ( b[1].x ).toFixed(d), a[0]*b[1].x, a[1]*b[1].y+offset, a[2]*b[0].z );\n\n        var offset = offsetRatio * a[0]*( b[1].x - b[0].x );\n        var ym = yMid.toFixed(d);\n        if ( /^-0.?0*$/.test(ym) ) ym = ym.substr(1);\n        addLabel( al[1] + '=' + ym, a[0]*b[1].x+offset, a[1]*yMid, a[2]*b[0].z );\n        addLabel( ( b[0].y ).toFixed(d), a[0]*b[1].x+offset, a[1]*b[0].y, a[2]*b[0].z );\n        addLabel( ( b[1].y ).toFixed(d), a[0]*b[1].x+offset, a[1]*b[1].y, a[2]*b[0].z );\n\n        var offset = offsetRatio * a[1]*( b[1].y - b[0].y );\n        var zm = zMid.toFixed(d);\n        if ( /^-0.?0*$/.test(zm) ) zm = zm.substr(1);\n        addLabel( al[2] + '=' + zm, a[0]*b[1].x, a[1]*b[0].y-offset, a[2]*zMid );\n        addLabel( ( b[0].z ).toFixed(d), a[0]*b[1].x, a[1]*b[0].y-offset, a[2]*b[0].z );\n        addLabel( ( b[1].z ).toFixed(d), a[0]*b[1].x, a[1]*b[0].y-offset, a[2]*b[1].z );\n\n    }\n\n    function addLabel( text, x, y, z, color='black', fontsize=14  ) {\n\n        var canvas = document.createElement( 'canvas' );\n        var pixelRatio = Math.round( window.devicePixelRatio );\n        canvas.width = 128 * pixelRatio;\n        canvas.height = 32 * pixelRatio; // powers of two\n        canvas.style.width = '128px';\n        canvas.style.height = '32px';\n\n        var context = canvas.getContext( '2d' );\n        context.scale( pixelRatio, pixelRatio );\n        context.fillStyle = color;\n        context.font = fontsize + 'px monospace';\n        context.textAlign = 'center';\n        context.textBaseline = 'middle';\n        context.fillText( text, canvas.width/2/pixelRatio, canvas.height/2/pixelRatio );\n\n        var texture = new THREE.Texture( canvas );\n        texture.needsUpdate = true;\n\n        var sprite = new THREE.Sprite( new THREE.SpriteMaterial( { map: texture } ) );\n        sprite.position.set( x, y, z );\n\n        // Set the initial scale based on plot size to accomodate orthographic projection.\n        // For other projections, the scale will get reset each frame based on camera distance.\n        var scale = midToCorner/2;\n        sprite.scale.set( scale, scale*.25, 1 ); // ratio of canvas width to height\n\n        scene.add( sprite );\n\n    }\n\n    if ( options.axes ) scene.add( new THREE.AxesHelper( Math.min( a[0]*b[1].x, a[1]*b[1].y, a[2]*b[1].z ) ) );\n\n    var camera = createCamera();\n    camera.up.set( 0, 0, 1 );\n    camera.position.set( a[0]*(xMid+xRange), a[1]*(yMid+yRange), a[2]*(zMid+zRange) );\n\n    function createCamera() {\n\n        var aspect = window.innerWidth / window.innerHeight;\n\n        if ( options.projection === 'orthographic' ) {\n            var camera = new THREE.OrthographicCamera( -1, 1, 1, -1, -1000, 1000 );\n            updateCameraAspect( camera, aspect );\n            return camera;\n        }\n\n        return new THREE.PerspectiveCamera( 45, aspect, 0.1, 1000 );\n\n    }\n\n    function updateCameraAspect( camera, aspect ) {\n\n        if ( camera.isPerspectiveCamera ) {\n            camera.aspect = aspect;\n        } else if ( camera.isOrthographicCamera ) {\n            // Fit the camera frustum to the bounding box's diagonal so that the entire plot fits\n            // within at the default zoom level and camera position.\n            if ( aspect > 1 ) { // Wide window\n                camera.top = midToCorner;\n                camera.right = midToCorner * aspect;\n            } else { // Tall or square window\n                camera.top = midToCorner / aspect;\n                camera.right = midToCorner;\n            }\n            camera.bottom = -camera.top;\n            camera.left = -camera.right;\n        }\n\n        camera.updateProjectionMatrix();\n\n    }\n\n    var lights = [{&quot;x&quot;:-5, &quot;y&quot;:3, &quot;z&quot;:0, &quot;color&quot;:&quot;#7f7f7f&quot;, &quot;parent&quot;:&quot;camera&quot;}];\n    for ( var i=0 ; i < lights.length ; i++ ) {\n        var light = new THREE.DirectionalLight( lights[i].color, 1 );\n        light.position.set( a[0]*lights[i].x, a[1]*lights[i].y, a[2]*lights[i].z );\n        if ( lights[i].parent === 'camera' ) {\n            light.target.position.set( a[0]*xMid, a[1]*yMid, a[2]*zMid );\n            scene.add( light.target );\n            camera.add( light );\n        } else scene.add( light );\n    }\n    scene.add( camera );\n\n    var ambient = {&quot;color&quot;:&quot;#7f7f7f&quot;};\n    scene.add( new THREE.AmbientLight( ambient.color, 1 ) );\n\n    var controls = new THREE.OrbitControls( camera, renderer.domElement );\n    controls.target.set( a[0]*xMid, a[1]*yMid, a[2]*zMid );\n    controls.addEventListener( 'change', function() { if ( !animate ) render(); } );\n\n    window.addEventListener( 'resize', function() {\n        \n        renderer.setSize( window.innerWidth, window.innerHeight );\n        updateCameraAspect( camera, window.innerWidth / window.innerHeight );\n        if ( !animate ) render();\n        \n    } );\n\n    var texts = [];\n    for ( var i=0 ; i < texts.length ; i++ )\n        addLabel( texts[i].text, a[0]*texts[i].x, a[1]*texts[i].y, a[2]*texts[i].z, texts[i].color );\n\n    var points = [];\n    for ( var i=0 ; i < points.length ; i++ ) addPoint( points[i] );\n\n    function addPoint( json ) {\n\n        var geometry = new THREE.Geometry();\n        var v = json.point;\n        geometry.vertices.push( new THREE.Vector3( a[0]*v[0], a[1]*v[1], a[2]*v[2] ) );\n\n        var canvas = document.createElement( 'canvas' );\n        canvas.width = 128;\n        canvas.height = 128;\n\n        var context = canvas.getContext( '2d' );\n        context.arc( 64, 64, 64, 0, 2 * Math.PI );\n        context.fillStyle = json.color;\n        context.fill();\n\n        var texture = new THREE.Texture( canvas );\n        texture.needsUpdate = true;\n\n        var transparent = json.opacity < 1 ? true : false;\n        var size = camera.isOrthographicCamera ? json.size : json.size/100;\n        var material = new THREE.PointsMaterial( { size: size, map: texture,\n                                                   transparent: transparent, opacity: json.opacity,\n                                                   alphaTest: .1 } );\n\n        var c = new THREE.Vector3();\n        geometry.computeBoundingBox();\n        geometry.boundingBox.getCenter( c );\n        geometry.translate( -c.x, -c.y, -c.z );\n\n        var mesh = new THREE.Points( geometry, material );\n        mesh.position.set( c.x, c.y, c.z );\n        scene.add( mesh );\n\n    }\n\n    var lines = [{&quot;points&quot;: [[1.0, 0.0, 0.0], [0.9775552389476861, 0.2106792699957263, 0.21226977389120225], [0.9112284903881357, 0.41190124824399266, 0.4245395477824045], [0.8039971303669405, 0.5946331763042866, 0.6368093216736067], [0.6606747233900815, 0.7506723052527243, 0.849079095564809], [0.4876949438136346, 0.8730141131611882, 1.0613488694560111], [0.29282277127655043, 0.956166734739251, 1.2736186433472134], [0.08480592447550922, 0.9963974885425265, 1.4858884172384157], [-0.12701781974687876, 0.9919004352588768, 1.698158191129618], [-0.33313979474205757, 0.9428774454610842, 1.9104279650208202], [-0.5243072835572316, 0.8515291377333114, 2.1226977389120223], [-0.6919388689775461, 0.7219560939545245, 2.3349675128032246], [-0.8285096492438421, 0.5599747861375954, 2.547237286694427], [-0.9278890272965093, 0.37285647778030867, 2.759507060585629], [-0.9856159103477085, 0.16900082032184913, 2.9717768344768314], [-0.9990989662046815, -0.042441203196148275, 3.1840466083680337], [-0.9677329469334989, -0.2519780613851252, 3.396316382259236], [-0.8929258581495685, -0.45020374481767333, 3.608586156150438], [-0.7780357543184395, -0.6282199972956424, 3.8208559300416405], [-0.6282199972956423, -0.7780357543184395, 4.033125703932843], [-0.4502037448176736, -0.8929258581495684, 4.245395477824045], [-0.2519780613851259, -0.9677329469334987, 4.457665251715246], [-0.04244120319614947, -0.9990989662046814, 4.669935025606448], [0.16900082032184752, -0.9856159103477087, 4.88220479949765], [0.3728564777803068, -0.9278890272965101, 5.094474573388852], [0.5599747861375934, -0.8285096492438435, 5.306744347280054], [0.7219560939545225, -0.6919388689775482, 5.519014121171256], [0.8515291377333096, -0.5243072835572344, 5.731283895062457], [0.942877445461083, -0.333139794742061, 5.943553668953659], [0.9919004352588764, -0.12701781974688278, 6.155823442844861], [0.9963974885425269, 0.08480592447550471, 6.368093216736063], [0.9561667347392524, 0.29282277127654566, 6.580362990627265], [0.8730141131611907, 0.4876949438136299, 6.7926327645184665], [0.7506723052527281, 0.6606747233900772, 7.004902538409668], [0.5946331763042916, 0.8039971303669369, 7.21717231230087], [0.41190124824399865, 0.911228490388133, 7.429442086192072], [0.21067926999573316, 0.9775552389476847, 7.641711860083274], [7.41158905738784e-15, 1.0, 7.853981633974476], [-0.21067926999571954, 0.9775552389476877, 8.066251407865678], [-0.4119012482439868, 0.9112284903881384, 8.278521181756881], [-0.5946331763042818, 0.8039971303669441, 8.490790955648084], [-0.7506723052527207, 0.6606747233900856, 8.703060729539287], [-0.8730141131611857, 0.487694943813639, 8.91533050343049], [-0.9561667347392496, 0.29282277127655476, 9.127600277321692], [-0.9963974885425262, 0.08480592447551329, 9.339870051212895], [-0.9919004352588774, -0.12701781974687515, 9.552139825104097], [-0.9428774454610852, -0.3331397947420546, 9.7644095989953], [-0.8515291377333127, -0.5243072835572294, 9.976679372886503], [-0.721956093954526, -0.6919388689775446, 10.188949146777706], [-0.5599747861375969, -0.8285096492438412, 10.401218920668908], [-0.3728564777803098, -0.9278890272965089, 10.613488694560111], [-0.16900082032184988, -0.9856159103477083, 10.825758468451314], [0.04244120319614797, -0.9990989662046815, 11.038028242342516], [0.25197806138512535, -0.9677329469334988, 11.25029801623372], [0.45020374481767383, -0.8929258581495683, 11.462567790124922], [0.6282199972956432, -0.7780357543184389, 11.674837564016125], [0.7780357543184405, -0.6282199972956412, 11.887107337907327], [0.8929258581495694, -0.4502037448176715, 12.09937711179853], [0.9677329469334994, -0.2519780613851228, 12.311646885689733], [0.9990989662046816, -0.04244120319614534, 12.523916659580935], [0.9856159103477079, 0.16900082032185246, 12.736186433472138], [0.9278890272965079, 0.3728564777803122, 12.948456207363341], [0.8285096492438396, 0.559974786137599, 13.160725981254544], [0.6919388689775426, 0.7219560939545279, 13.372995755145746], [0.5243072835572271, 0.8515291377333141, 13.585265529036949], [0.3331397947420521, 0.9428774454610861, 13.797535302928152], [0.12701781974687254, 0.9919004352588777, 14.009805076819354], [-0.08480592447551591, 0.996397488542526, 14.222074850710557], [-0.29282277127655726, 0.9561667347392488, 14.43434462460176], [-0.48769494381364126, 0.8730141131611844, 14.646614398492963], [-0.6606747233900876, 0.750672305252719, 14.858884172384165], [-0.8039971303669456, 0.5946331763042797, 15.071153946275368], [-0.9112284903881395, 0.4119012482439844, 15.28342372016657], [-0.9775552389476883, 0.21067926999571696, 15.495693494057774], [-1.0, 6.123233995736766e-16, 15.707963267948966]], &quot;color&quot;: &quot;#000000&quot;, &quot;opacity&quot;: 1.0, &quot;linewidth&quot;: 1.0}];\n    for ( var i=0 ; i < lines.length ; i++ ) addLine( lines[i] );\n\n    function addLine( json ) {\n\n        var geometry = new THREE.Geometry();\n        for ( var i=0 ; i < json.points.length ; i++ ) {\n            var v = json.points[i];\n            geometry.vertices.push( new THREE.Vector3( a[0]*v[0], a[1]*v[1], a[2]*v[2] ) );\n        }\n\n        var transparent = json.opacity < 1 ? true : false;\n        var material = new THREE.LineBasicMaterial( { color: json.color, linewidth: json.linewidth,\n                                                      transparent: transparent, opacity: json.opacity } );\n\n        var c = new THREE.Vector3();\n        geometry.computeBoundingBox();\n        geometry.boundingBox.getCenter( c );\n        geometry.translate( -c.x, -c.y, -c.z );\n\n        var mesh = new THREE.Line( geometry, material );\n        mesh.position.set( c.x, c.y, c.z );\n        scene.add( mesh );\n\n    }\n\n    var surfaces = [];\n    for ( var i=0 ; i < surfaces.length ; i++ ) addSurface( surfaces[i] );\n\n    function addSurface( json ) {\n\n        var useFaceColors = 'faceColors' in json ? true : false;\n\n        var geometry = new THREE.Geometry();\n        for ( var i=0 ; i < json.vertices.length ; i++ ) {\n            var v = json.vertices[i];\n            geometry.vertices.push( new THREE.Vector3( a[0]*v.x, a[1]*v.y, a[2]*v.z ) );\n        }\n        for ( var i=0 ; i < json.faces.length ; i++ ) {\n            var f = json.faces[i];\n            for ( var j=0 ; j < f.length - 2 ; j++ ) {\n                var face = new THREE.Face3( f[0], f[j+1], f[j+2] );\n                if ( useFaceColors ) face.color.set( json.faceColors[i] );\n                geometry.faces.push( face );\n            }\n        }\n        geometry.computeVertexNormals();\n\n        var side = json.singleSide ? THREE.FrontSide : THREE.DoubleSide;\n        var transparent = json.opacity < 1 ? true : false;\n\n        var material = new THREE.MeshPhongMaterial( { side: side,\n                                     color: useFaceColors ? 'white' : json.color,\n                                     vertexColors: useFaceColors ? THREE.FaceColors : THREE.NoColors,\n                                     transparent: transparent, opacity: json.opacity,\n                                     shininess: 20, flatShading: json.useFlatShading } );\n\n        var c = new THREE.Vector3();\n        geometry.computeBoundingBox();\n        geometry.boundingBox.getCenter( c );\n        geometry.translate( -c.x, -c.y, -c.z );\n\n        var mesh = new THREE.Mesh( geometry, material );\n        mesh.position.set( c.x, c.y, c.z );\n        if ( transparent && json.renderOrder ) mesh.renderOrder = json.renderOrder;\n        scene.add( mesh );\n\n        if ( json.showMeshGrid ) {\n\n            var geometry = new THREE.Geometry();\n\n            for ( var i=0 ; i < json.faces.length ; i++ ) {\n                var f = json.faces[i];\n                for ( var j=0 ; j < f.length ; j++ ) {\n                    var k = j === f.length-1 ? 0 : j+1;\n                    var v1 = json.vertices[f[j]];\n                    var v2 = json.vertices[f[k]];\n                    // vertices in opposite directions on neighboring faces\n                    var nudge = f[j] < f[k] ? .0005*zRange : -.0005*zRange;\n                    geometry.vertices.push( new THREE.Vector3( a[0]*v1.x, a[1]*v1.y, a[2]*(v1.z+nudge) ) );\n                    geometry.vertices.push( new THREE.Vector3( a[0]*v2.x, a[1]*v2.y, a[2]*(v2.z+nudge) ) );\n                }\n            }\n\n            var material = new THREE.LineBasicMaterial( { color: 'black', linewidth: 1 } );\n\n            var c = new THREE.Vector3();\n            geometry.computeBoundingBox();\n            geometry.boundingBox.getCenter( c );\n            geometry.translate( -c.x, -c.y, -c.z );\n\n            var mesh = new THREE.LineSegments( geometry, material );\n            mesh.position.set( c.x, c.y, c.z );\n            scene.add( mesh );\n\n        }\n\n    }\n\n    var scratch = new THREE.Vector3();\n\n    function render() {\n\n        if ( animate ) requestAnimationFrame( render );\n        renderer.render( scene, camera );\n\n        // Resize text based on distance from camera.\n        // Not neccessary for orthographic due to the nature of the projection (preserves sizes).\n        if ( !camera.isOrthographicCamera ) {\n            for ( var i=0 ; i < scene.children.length ; i++ ) {\n                if ( scene.children[i].type === 'Sprite' ) {\n                    var sprite = scene.children[i];\n                    var adjust = scratch.addVectors( sprite.position, scene.position )\n                                    .sub( camera.position ).length() / 5;\n                    sprite.scale.set( adjust, .25*adjust, 1 ); // ratio of canvas width to height\n                }\n            }\n        }\n    }\n    \n    render();\n    controls.update();\n    if ( !animate ) render();\n\n\n    // menu functions\n\n    function toggleMenu() {\n\n        var m = document.getElementById( 'menu-content' );\n        if ( m.style.display === 'block' ) m.style.display = 'none'\n        else m.style.display = 'block';\n\n    }\n\n\n    function saveAsPNG() {\n\n        var a = document.body.appendChild( document.createElement( 'a' ) );\n        a.href = renderer.domElement.toDataURL( 'image/png' );\n        a.download = 'screenshot';\n        a.click();\n\n    }\n\n    function saveAsHTML() {\n\n        toggleMenu(); // otherwise visible in output\n        event.stopPropagation();\n\n        var blob = new Blob( [ '<!DOCTYPE html>\\n' + document.documentElement.outerHTML ] );\n        var a = document.body.appendChild( document.createElement( 'a' ) );\n        a.href = window.URL.createObjectURL( blob );\n        a.download = 'graphic.html';\n        a.click();\n\n    }\n\n    function getViewpoint() {\n\n        function roundTo( x, n ) { return +x.toFixed(n); }\n\n        var v = camera.quaternion.inverse();\n        var r = Math.sqrt( v.x*v.x + v.y*v.y + v.z*v.z );\n        var axis = [ roundTo( v.x / r, 4 ), roundTo( v.y / r, 4 ), roundTo( v.z / r, 4 ) ];\n        var angle = roundTo( 2 * Math.atan2( r, v.w ) * 180 / Math.PI, 2 );\n\n        var textArea = document.createElement( 'textarea' );\n        textArea.textContent = JSON.stringify( axis ) + ',' + angle;\n        textArea.style.csstext = 'position: absolute; top: -100%';\n        document.body.append( textArea );\n        textArea.select();\n        document.execCommand( 'copy' );\n\n        var m = document.getElementById( 'menu-message' );\n        m.innerHTML = 'Viewpoint copied to clipboard';\n        m.style.display = 'block';\n        setTimeout( function() { m.style.display = 'none'; }, 2000 );\n\n    }\n\n</script>\n\n<div id=&quot;menu-container&quot; onclick=&quot;toggleMenu()&quot;>&#x24d8;\n<div id=&quot;menu-message&quot;></div>\n<div id=&quot;menu-content&quot;>\n<div onclick=&quot;saveAsPNG()&quot;>Save as PNG</div>\n<div onclick=&quot;saveAsHTML()&quot;>Save as HTML</div>\n<div onclick=&quot;getViewpoint()&quot;>Get Viewpoint</div>\n<div>Close Menu</div>\n</div></div>\n\n</body>\n</html>\n\"\n        width=\"100%\"\n        height=\"400\"\n        style=\"border: 0;\">\n</iframe>\n",
      "text/plain": [
       "Graphics3d Object"
      ]
     },
     "execution_count": 17,
     "metadata": {
     },
     "output_type": "execute_result"
    }
   ],
   "source": [
    "r(t) = (cos(t),sin(t),t)\n",
    "p = parametric_plot3d(r,(t,0,5*pi),color='black')\n",
    "p.show()"
   ]
  },
  {
   "cell_type": "code",
   "execution_count": 18,
   "metadata": {
    "collapsed": false
   },
   "outputs": [
    {
     "data": {
      "text/html": "\n<iframe srcdoc=\"<!DOCTYPE html>\n<html>\n<head>\n<title></title>\n<meta charset=&quot;utf-8&quot;>\n<meta name=viewport content=&quot;width=device-width, user-scalable=no, minimum-scale=1.0, maximum-scale=1.0&quot;>\n<style>\n\n    body { margin: 0px; overflow: hidden; }\n\n    #menu-container { position: absolute; bottom: 30px; right: 40px; cursor: default; }\n\n    #menu-message { position: absolute; bottom: 0px; right: 0px; white-space: nowrap;\n                    display: none; background-color: #F5F5F5; padding: 10px; }\n\n    #menu-content { position: absolute; bottom: 0px; right: 0px;\n                    display: none; background-color: #F5F5F5; border-bottom: 1px solid black;\n                    border-right: 1px solid black; border-left: 1px solid black; }\n\n    #menu-content div { border-top: 1px solid black; padding: 10px; white-space: nowrap; }\n\n    #menu-content div:hover { background-color: #FEFEFE;; }\n  \n</style>\n</head>\n\n<body>\n\n<script src=&quot;/nbextensions/threejs/build/three.min.js&quot;></script>\n<script src=&quot;/nbextensions/threejs/examples/js/controls/OrbitControls.js&quot;></script>\n<script>\n  if ( !window.THREE ) document.write(' \\\n<script src=&quot;https://cdn.jsdelivr.net/gh/mrdoob/three.js@r110/build/three.min.js&quot;><\\/script> \\\n<script src=&quot;https://cdn.jsdelivr.net/gh/mrdoob/three.js@r110/examples/js/controls/OrbitControls.js&quot;><\\/script> \\\n            ');\n</script>\n        \n<script>\n\n    var scene = new THREE.Scene();\n\n    var renderer = new THREE.WebGLRenderer( { antialias: true, preserveDrawingBuffer: true } );\n    renderer.setPixelRatio( window.devicePixelRatio );\n    renderer.setSize( window.innerWidth, window.innerHeight );\n    renderer.setClearColor( 0xffffff, 1 );\n    document.body.appendChild( renderer.domElement );\n\n    var options = {&quot;aspectRatio&quot;: [1.0, 1.0, 1.0], &quot;axes&quot;: true, &quot;axesLabels&quot;: false, &quot;decimals&quot;: 2, &quot;frame&quot;: false, &quot;projection&quot;: &quot;perspective&quot;};\n\n    // When animations are supported by the viewer, the value 'false'\n    // will be replaced with an option set in Python by the user\n    var animate = false; // options.animate;\n\n    var b = [{&quot;x&quot;:-1.0543751639586871, &quot;y&quot;:-0.9990989662046815, &quot;z&quot;:-0.0060662894210670604}, {&quot;x&quot;:1.0, &quot;y&quot;:1.0, &quot;z&quot;:15.707963267948966}]; // bounds\n\n    if ( b[0].x === b[1].x ) {\n        b[0].x -= 1;\n        b[1].x += 1;\n    }\n    if ( b[0].y === b[1].y ) {\n        b[0].y -= 1;\n        b[1].y += 1;\n    }\n    if ( b[0].z === b[1].z ) {\n        b[0].z -= 1;\n        b[1].z += 1;\n    }\n\n    var rRange = Math.sqrt( Math.pow( b[1].x - b[0].x, 2 )\n                            + Math.pow( b[1].y - b[0].y, 2 ) );\n    var xRange = b[1].x - b[0].x;\n    var yRange = b[1].y - b[0].y;\n    var zRange = b[1].z - b[0].z;\n\n    var ar = options.aspectRatio;\n    var a = [ ar[0], ar[1], ar[2] ]; // aspect multipliers\n    var autoAspect = 2.5;\n    if ( zRange > autoAspect * rRange && a[2] === 1 ) a[2] = autoAspect * rRange / zRange;\n\n    // Distance from (xMid,yMid,zMid) to any corner of the bounding box, after applying aspectRatio\n    var midToCorner = Math.sqrt( a[0]*a[0]*xRange*xRange + a[1]*a[1]*yRange*yRange + a[2]*a[2]*zRange*zRange ) / 2;\n\n    var xMid = ( b[0].x + b[1].x ) / 2;\n    var yMid = ( b[0].y + b[1].y ) / 2;\n    var zMid = ( b[0].z + b[1].z ) / 2;\n\n    var box = new THREE.Geometry();\n    box.vertices.push( new THREE.Vector3( a[0]*b[0].x, a[1]*b[0].y, a[2]*b[0].z ) );\n    box.vertices.push( new THREE.Vector3( a[0]*b[1].x, a[1]*b[1].y, a[2]*b[1].z ) );\n    var boxMesh = new THREE.Line( box );\n    if ( options.frame ) scene.add( new THREE.BoxHelper( boxMesh, 'black' ) );\n\n    if ( options.axesLabels ) {\n\n        var d = options.decimals; // decimals\n        var offsetRatio = 0.1;\n        var al = options.axesLabels;\n\n        var offset = offsetRatio * a[1]*( b[1].y - b[0].y );\n        var xm = xMid.toFixed(d);\n        if ( /^-0.?0*$/.test(xm) ) xm = xm.substr(1);\n        addLabel( al[0] + '=' + xm, a[0]*xMid, a[1]*b[1].y+offset, a[2]*b[0].z );\n        addLabel( ( b[0].x ).toFixed(d), a[0]*b[0].x, a[1]*b[1].y+offset, a[2]*b[0].z );\n        addLabel( ( b[1].x ).toFixed(d), a[0]*b[1].x, a[1]*b[1].y+offset, a[2]*b[0].z );\n\n        var offset = offsetRatio * a[0]*( b[1].x - b[0].x );\n        var ym = yMid.toFixed(d);\n        if ( /^-0.?0*$/.test(ym) ) ym = ym.substr(1);\n        addLabel( al[1] + '=' + ym, a[0]*b[1].x+offset, a[1]*yMid, a[2]*b[0].z );\n        addLabel( ( b[0].y ).toFixed(d), a[0]*b[1].x+offset, a[1]*b[0].y, a[2]*b[0].z );\n        addLabel( ( b[1].y ).toFixed(d), a[0]*b[1].x+offset, a[1]*b[1].y, a[2]*b[0].z );\n\n        var offset = offsetRatio * a[1]*( b[1].y - b[0].y );\n        var zm = zMid.toFixed(d);\n        if ( /^-0.?0*$/.test(zm) ) zm = zm.substr(1);\n        addLabel( al[2] + '=' + zm, a[0]*b[1].x, a[1]*b[0].y-offset, a[2]*zMid );\n        addLabel( ( b[0].z ).toFixed(d), a[0]*b[1].x, a[1]*b[0].y-offset, a[2]*b[0].z );\n        addLabel( ( b[1].z ).toFixed(d), a[0]*b[1].x, a[1]*b[0].y-offset, a[2]*b[1].z );\n\n    }\n\n    function addLabel( text, x, y, z, color='black', fontsize=14  ) {\n\n        var canvas = document.createElement( 'canvas' );\n        var pixelRatio = Math.round( window.devicePixelRatio );\n        canvas.width = 128 * pixelRatio;\n        canvas.height = 32 * pixelRatio; // powers of two\n        canvas.style.width = '128px';\n        canvas.style.height = '32px';\n\n        var context = canvas.getContext( '2d' );\n        context.scale( pixelRatio, pixelRatio );\n        context.fillStyle = color;\n        context.font = fontsize + 'px monospace';\n        context.textAlign = 'center';\n        context.textBaseline = 'middle';\n        context.fillText( text, canvas.width/2/pixelRatio, canvas.height/2/pixelRatio );\n\n        var texture = new THREE.Texture( canvas );\n        texture.needsUpdate = true;\n\n        var sprite = new THREE.Sprite( new THREE.SpriteMaterial( { map: texture } ) );\n        sprite.position.set( x, y, z );\n\n        // Set the initial scale based on plot size to accomodate orthographic projection.\n        // For other projections, the scale will get reset each frame based on camera distance.\n        var scale = midToCorner/2;\n        sprite.scale.set( scale, scale*.25, 1 ); // ratio of canvas width to height\n\n        scene.add( sprite );\n\n    }\n\n    if ( options.axes ) scene.add( new THREE.AxesHelper( Math.min( a[0]*b[1].x, a[1]*b[1].y, a[2]*b[1].z ) ) );\n\n    var camera = createCamera();\n    camera.up.set( 0, 0, 1 );\n    camera.position.set( a[0]*(xMid+xRange), a[1]*(yMid+yRange), a[2]*(zMid+zRange) );\n\n    function createCamera() {\n\n        var aspect = window.innerWidth / window.innerHeight;\n\n        if ( options.projection === 'orthographic' ) {\n            var camera = new THREE.OrthographicCamera( -1, 1, 1, -1, -1000, 1000 );\n            updateCameraAspect( camera, aspect );\n            return camera;\n        }\n\n        return new THREE.PerspectiveCamera( 45, aspect, 0.1, 1000 );\n\n    }\n\n    function updateCameraAspect( camera, aspect ) {\n\n        if ( camera.isPerspectiveCamera ) {\n            camera.aspect = aspect;\n        } else if ( camera.isOrthographicCamera ) {\n            // Fit the camera frustum to the bounding box's diagonal so that the entire plot fits\n            // within at the default zoom level and camera position.\n            if ( aspect > 1 ) { // Wide window\n                camera.top = midToCorner;\n                camera.right = midToCorner * aspect;\n            } else { // Tall or square window\n                camera.top = midToCorner / aspect;\n                camera.right = midToCorner;\n            }\n            camera.bottom = -camera.top;\n            camera.left = -camera.right;\n        }\n\n        camera.updateProjectionMatrix();\n\n    }\n\n    var lights = [{&quot;x&quot;:-5, &quot;y&quot;:3, &quot;z&quot;:0, &quot;color&quot;:&quot;#7f7f7f&quot;, &quot;parent&quot;:&quot;camera&quot;}];\n    for ( var i=0 ; i < lights.length ; i++ ) {\n        var light = new THREE.DirectionalLight( lights[i].color, 1 );\n        light.position.set( a[0]*lights[i].x, a[1]*lights[i].y, a[2]*lights[i].z );\n        if ( lights[i].parent === 'camera' ) {\n            light.target.position.set( a[0]*xMid, a[1]*yMid, a[2]*zMid );\n            scene.add( light.target );\n            camera.add( light );\n        } else scene.add( light );\n    }\n    scene.add( camera );\n\n    var ambient = {&quot;color&quot;:&quot;#7f7f7f&quot;};\n    scene.add( new THREE.AmbientLight( ambient.color, 1 ) );\n\n    var controls = new THREE.OrbitControls( camera, renderer.domElement );\n    controls.target.set( a[0]*xMid, a[1]*yMid, a[2]*zMid );\n    controls.addEventListener( 'change', function() { if ( !animate ) render(); } );\n\n    window.addEventListener( 'resize', function() {\n        \n        renderer.setSize( window.innerWidth, window.innerHeight );\n        updateCameraAspect( camera, window.innerWidth / window.innerHeight );\n        if ( !animate ) render();\n        \n    } );\n\n    var texts = [];\n    for ( var i=0 ; i < texts.length ; i++ )\n        addLabel( texts[i].text, a[0]*texts[i].x, a[1]*texts[i].y, a[2]*texts[i].z, texts[i].color );\n\n    var points = [];\n    for ( var i=0 ; i < points.length ; i++ ) addPoint( points[i] );\n\n    function addPoint( json ) {\n\n        var geometry = new THREE.Geometry();\n        var v = json.point;\n        geometry.vertices.push( new THREE.Vector3( a[0]*v[0], a[1]*v[1], a[2]*v[2] ) );\n\n        var canvas = document.createElement( 'canvas' );\n        canvas.width = 128;\n        canvas.height = 128;\n\n        var context = canvas.getContext( '2d' );\n        context.arc( 64, 64, 64, 0, 2 * Math.PI );\n        context.fillStyle = json.color;\n        context.fill();\n\n        var texture = new THREE.Texture( canvas );\n        texture.needsUpdate = true;\n\n        var transparent = json.opacity < 1 ? true : false;\n        var size = camera.isOrthographicCamera ? json.size : json.size/100;\n        var material = new THREE.PointsMaterial( { size: size, map: texture,\n                                                   transparent: transparent, opacity: json.opacity,\n                                                   alphaTest: .1 } );\n\n        var c = new THREE.Vector3();\n        geometry.computeBoundingBox();\n        geometry.boundingBox.getCenter( c );\n        geometry.translate( -c.x, -c.y, -c.z );\n\n        var mesh = new THREE.Points( geometry, material );\n        mesh.position.set( c.x, c.y, c.z );\n        scene.add( mesh );\n\n    }\n\n    var lines = [{&quot;points&quot;: [[1.0, 0.0, 0.0], [0.9775552389476861, 0.2106792699957263, 0.21226977389120225], [0.9112284903881357, 0.41190124824399266, 0.4245395477824045], [0.8039971303669405, 0.5946331763042866, 0.6368093216736067], [0.6606747233900815, 0.7506723052527243, 0.849079095564809], [0.4876949438136346, 0.8730141131611882, 1.0613488694560111], [0.29282277127655043, 0.956166734739251, 1.2736186433472134], [0.08480592447550922, 0.9963974885425265, 1.4858884172384157], [-0.12701781974687876, 0.9919004352588768, 1.698158191129618], [-0.33313979474205757, 0.9428774454610842, 1.9104279650208202], [-0.5243072835572316, 0.8515291377333114, 2.1226977389120223], [-0.6919388689775461, 0.7219560939545245, 2.3349675128032246], [-0.8285096492438421, 0.5599747861375954, 2.547237286694427], [-0.9278890272965093, 0.37285647778030867, 2.759507060585629], [-0.9856159103477085, 0.16900082032184913, 2.9717768344768314], [-0.9990989662046815, -0.042441203196148275, 3.1840466083680337], [-0.9677329469334989, -0.2519780613851252, 3.396316382259236], [-0.8929258581495685, -0.45020374481767333, 3.608586156150438], [-0.7780357543184395, -0.6282199972956424, 3.8208559300416405], [-0.6282199972956423, -0.7780357543184395, 4.033125703932843], [-0.4502037448176736, -0.8929258581495684, 4.245395477824045], [-0.2519780613851259, -0.9677329469334987, 4.457665251715246], [-0.04244120319614947, -0.9990989662046814, 4.669935025606448], [0.16900082032184752, -0.9856159103477087, 4.88220479949765], [0.3728564777803068, -0.9278890272965101, 5.094474573388852], [0.5599747861375934, -0.8285096492438435, 5.306744347280054], [0.7219560939545225, -0.6919388689775482, 5.519014121171256], [0.8515291377333096, -0.5243072835572344, 5.731283895062457], [0.942877445461083, -0.333139794742061, 5.943553668953659], [0.9919004352588764, -0.12701781974688278, 6.155823442844861], [0.9963974885425269, 0.08480592447550471, 6.368093216736063], [0.9561667347392524, 0.29282277127654566, 6.580362990627265], [0.8730141131611907, 0.4876949438136299, 6.7926327645184665], [0.7506723052527281, 0.6606747233900772, 7.004902538409668], [0.5946331763042916, 0.8039971303669369, 7.21717231230087], [0.41190124824399865, 0.911228490388133, 7.429442086192072], [0.21067926999573316, 0.9775552389476847, 7.641711860083274], [7.41158905738784e-15, 1.0, 7.853981633974476], [-0.21067926999571954, 0.9775552389476877, 8.066251407865678], [-0.4119012482439868, 0.9112284903881384, 8.278521181756881], [-0.5946331763042818, 0.8039971303669441, 8.490790955648084], [-0.7506723052527207, 0.6606747233900856, 8.703060729539287], [-0.8730141131611857, 0.487694943813639, 8.91533050343049], [-0.9561667347392496, 0.29282277127655476, 9.127600277321692], [-0.9963974885425262, 0.08480592447551329, 9.339870051212895], [-0.9919004352588774, -0.12701781974687515, 9.552139825104097], [-0.9428774454610852, -0.3331397947420546, 9.7644095989953], [-0.8515291377333127, -0.5243072835572294, 9.976679372886503], [-0.721956093954526, -0.6919388689775446, 10.188949146777706], [-0.5599747861375969, -0.8285096492438412, 10.401218920668908], [-0.3728564777803098, -0.9278890272965089, 10.613488694560111], [-0.16900082032184988, -0.9856159103477083, 10.825758468451314], [0.04244120319614797, -0.9990989662046815, 11.038028242342516], [0.25197806138512535, -0.9677329469334988, 11.25029801623372], [0.45020374481767383, -0.8929258581495683, 11.462567790124922], [0.6282199972956432, -0.7780357543184389, 11.674837564016125], [0.7780357543184405, -0.6282199972956412, 11.887107337907327], [0.8929258581495694, -0.4502037448176715, 12.09937711179853], [0.9677329469334994, -0.2519780613851228, 12.311646885689733], [0.9990989662046816, -0.04244120319614534, 12.523916659580935], [0.9856159103477079, 0.16900082032185246, 12.736186433472138], [0.9278890272965079, 0.3728564777803122, 12.948456207363341], [0.8285096492438396, 0.559974786137599, 13.160725981254544], [0.6919388689775426, 0.7219560939545279, 13.372995755145746], [0.5243072835572271, 0.8515291377333141, 13.585265529036949], [0.3331397947420521, 0.9428774454610861, 13.797535302928152], [0.12701781974687254, 0.9919004352588777, 14.009805076819354], [-0.08480592447551591, 0.996397488542526, 14.222074850710557], [-0.29282277127655726, 0.9561667347392488, 14.43434462460176], [-0.48769494381364126, 0.8730141131611844, 14.646614398492963], [-0.6606747233900876, 0.750672305252719, 14.858884172384165], [-0.8039971303669456, 0.5946331763042797, 15.071153946275368], [-0.9112284903881395, 0.4119012482439844, 15.28342372016657], [-0.9775552389476883, 0.21067926999571696, 15.495693494057774], [-1.0, 6.123233995736766e-16, 15.707963267948966]], &quot;color&quot;: &quot;#000000&quot;, &quot;opacity&quot;: 1.0, &quot;linewidth&quot;: 1.0}];\n    for ( var i=0 ; i < lines.length ; i++ ) addLine( lines[i] );\n\n    function addLine( json ) {\n\n        var geometry = new THREE.Geometry();\n        for ( var i=0 ; i < json.points.length ; i++ ) {\n            var v = json.points[i];\n            geometry.vertices.push( new THREE.Vector3( a[0]*v[0], a[1]*v[1], a[2]*v[2] ) );\n        }\n\n        var transparent = json.opacity < 1 ? true : false;\n        var material = new THREE.LineBasicMaterial( { color: json.color, linewidth: json.linewidth,\n                                                      transparent: transparent, opacity: json.opacity } );\n\n        var c = new THREE.Vector3();\n        geometry.computeBoundingBox();\n        geometry.boundingBox.getCenter( c );\n        geometry.translate( -c.x, -c.y, -c.z );\n\n        var mesh = new THREE.Line( geometry, material );\n        mesh.position.set( c.x, c.y, c.z );\n        scene.add( mesh );\n\n    }\n\n    var surfaces = [{&quot;vertices&quot;: [{&quot;x&quot;: -0.9454033952103968, &quot;y&quot;: 0.0, &quot;z&quot;: 2.970072361071829}, {&quot;x&quot;: -0.9272783405575012, &quot;y&quot;: 0.006180339887498949, &quot;z&quot;: 2.975841745155467}, {&quot;x&quot;: -0.9454033952103968, &quot;y&quot;: 0.02, &quot;z&quot;: 2.970072361071829}, {&quot;x&quot;: -0.934201495386958, &quot;y&quot;: -0.016180339887498948, &quot;z&quot;: 2.97363803652967}, {&quot;x&quot;: -0.9566052950338357, &quot;y&quot;: -0.01618033988749895, &quot;z&quot;: 2.9665066856139877}, {&quot;x&quot;: -0.9635284498632924, &quot;y&quot;: 0.006180339887498945, &quot;z&quot;: 2.964302976988191}, {&quot;x&quot;: 0.018125054652895586, &quot;y&quot;: 0.006180339887498949, &quot;z&quot;: 0.005769384083638183}, {&quot;x&quot;: 0.0, &quot;y&quot;: 0.02, &quot;z&quot;: 0.0}, {&quot;x&quot;: 0.011201899823438902, &quot;y&quot;: -0.016180339887498948, &quot;z&quot;: 0.0035656754578410636}, {&quot;x&quot;: -0.011201899823438898, &quot;y&quot;: -0.01618033988749895, &quot;z&quot;: -0.0035656754578410623}, {&quot;x&quot;: -0.018125054652895586, &quot;y&quot;: 0.006180339887498945, &quot;z&quot;: -0.005769384083638183}, {&quot;x&quot;: 0.0, &quot;y&quot;: 0.0, &quot;z&quot;: 0.0}], &quot;faces&quot;: [[0, 1, 2], [0, 3, 1], [0, 4, 3], [0, 5, 4], [0, 2, 5], [2, 1, 6, 7], [1, 3, 8, 6], [3, 4, 9, 8], [4, 5, 10, 9], [5, 2, 7, 10], [7, 6, 11], [6, 8, 11], [8, 9, 11], [9, 10, 11], [10, 7, 11]], &quot;color&quot;: &quot;#6666ff&quot;, &quot;opacity&quot;: 1.0}, {&quot;vertices&quot;: [{&quot;x&quot;: -1.0000000000000004, &quot;y&quot;: 0.0, &quot;z&quot;: 3.1415926535897927}, {&quot;x&quot;: -0.89102823125171, &quot;y&quot;: 0.018541019662496848, &quot;z&quot;: 2.9873805133227433}, {&quot;x&quot;: -0.9454033952103968, &quot;y&quot;: 0.06, &quot;z&quot;: 2.970072361071829}, {&quot;x&quot;: -0.9117976957400802, &quot;y&quot;: -0.04854101966249684, &quot;z&quot;: 2.9807693874453522}, {&quot;x&quot;: -0.9790090946807135, &quot;y&quot;: -0.048541019662496854, &quot;z&quot;: 2.9593753346983056}, {&quot;x&quot;: -0.9997785591690836, &quot;y&quot;: 0.018541019662496834, &quot;z&quot;: 2.9527642088209145}, {&quot;x&quot;: -0.9454033952103968, &quot;y&quot;: 0.0, &quot;z&quot;: 2.970072361071829}], &quot;faces&quot;: [[0, 1, 2], [0, 3, 1], [0, 4, 3], [0, 5, 4], [0, 2, 5], [2, 1, 6], [1, 3, 6], [3, 4, 6], [4, 5, 6], [5, 2, 6]], &quot;color&quot;: &quot;#6666ff&quot;, &quot;opacity&quot;: 1.0}];\n    for ( var i=0 ; i < surfaces.length ; i++ ) addSurface( surfaces[i] );\n\n    function addSurface( json ) {\n\n        var useFaceColors = 'faceColors' in json ? true : false;\n\n        var geometry = new THREE.Geometry();\n        for ( var i=0 ; i < json.vertices.length ; i++ ) {\n            var v = json.vertices[i];\n            geometry.vertices.push( new THREE.Vector3( a[0]*v.x, a[1]*v.y, a[2]*v.z ) );\n        }\n        for ( var i=0 ; i < json.faces.length ; i++ ) {\n            var f = json.faces[i];\n            for ( var j=0 ; j < f.length - 2 ; j++ ) {\n                var face = new THREE.Face3( f[0], f[j+1], f[j+2] );\n                if ( useFaceColors ) face.color.set( json.faceColors[i] );\n                geometry.faces.push( face );\n            }\n        }\n        geometry.computeVertexNormals();\n\n        var side = json.singleSide ? THREE.FrontSide : THREE.DoubleSide;\n        var transparent = json.opacity < 1 ? true : false;\n\n        var material = new THREE.MeshPhongMaterial( { side: side,\n                                     color: useFaceColors ? 'white' : json.color,\n                                     vertexColors: useFaceColors ? THREE.FaceColors : THREE.NoColors,\n                                     transparent: transparent, opacity: json.opacity,\n                                     shininess: 20, flatShading: json.useFlatShading } );\n\n        var c = new THREE.Vector3();\n        geometry.computeBoundingBox();\n        geometry.boundingBox.getCenter( c );\n        geometry.translate( -c.x, -c.y, -c.z );\n\n        var mesh = new THREE.Mesh( geometry, material );\n        mesh.position.set( c.x, c.y, c.z );\n        if ( transparent && json.renderOrder ) mesh.renderOrder = json.renderOrder;\n        scene.add( mesh );\n\n        if ( json.showMeshGrid ) {\n\n            var geometry = new THREE.Geometry();\n\n            for ( var i=0 ; i < json.faces.length ; i++ ) {\n                var f = json.faces[i];\n                for ( var j=0 ; j < f.length ; j++ ) {\n                    var k = j === f.length-1 ? 0 : j+1;\n                    var v1 = json.vertices[f[j]];\n                    var v2 = json.vertices[f[k]];\n                    // vertices in opposite directions on neighboring faces\n                    var nudge = f[j] < f[k] ? .0005*zRange : -.0005*zRange;\n                    geometry.vertices.push( new THREE.Vector3( a[0]*v1.x, a[1]*v1.y, a[2]*(v1.z+nudge) ) );\n                    geometry.vertices.push( new THREE.Vector3( a[0]*v2.x, a[1]*v2.y, a[2]*(v2.z+nudge) ) );\n                }\n            }\n\n            var material = new THREE.LineBasicMaterial( { color: 'black', linewidth: 1 } );\n\n            var c = new THREE.Vector3();\n            geometry.computeBoundingBox();\n            geometry.boundingBox.getCenter( c );\n            geometry.translate( -c.x, -c.y, -c.z );\n\n            var mesh = new THREE.LineSegments( geometry, material );\n            mesh.position.set( c.x, c.y, c.z );\n            scene.add( mesh );\n\n        }\n\n    }\n\n    var scratch = new THREE.Vector3();\n\n    function render() {\n\n        if ( animate ) requestAnimationFrame( render );\n        renderer.render( scene, camera );\n\n        // Resize text based on distance from camera.\n        // Not neccessary for orthographic due to the nature of the projection (preserves sizes).\n        if ( !camera.isOrthographicCamera ) {\n            for ( var i=0 ; i < scene.children.length ; i++ ) {\n                if ( scene.children[i].type === 'Sprite' ) {\n                    var sprite = scene.children[i];\n                    var adjust = scratch.addVectors( sprite.position, scene.position )\n                                    .sub( camera.position ).length() / 5;\n                    sprite.scale.set( adjust, .25*adjust, 1 ); // ratio of canvas width to height\n                }\n            }\n        }\n    }\n    \n    render();\n    controls.update();\n    if ( !animate ) render();\n\n\n    // menu functions\n\n    function toggleMenu() {\n\n        var m = document.getElementById( 'menu-content' );\n        if ( m.style.display === 'block' ) m.style.display = 'none'\n        else m.style.display = 'block';\n\n    }\n\n\n    function saveAsPNG() {\n\n        var a = document.body.appendChild( document.createElement( 'a' ) );\n        a.href = renderer.domElement.toDataURL( 'image/png' );\n        a.download = 'screenshot';\n        a.click();\n\n    }\n\n    function saveAsHTML() {\n\n        toggleMenu(); // otherwise visible in output\n        event.stopPropagation();\n\n        var blob = new Blob( [ '<!DOCTYPE html>\\n' + document.documentElement.outerHTML ] );\n        var a = document.body.appendChild( document.createElement( 'a' ) );\n        a.href = window.URL.createObjectURL( blob );\n        a.download = 'graphic.html';\n        a.click();\n\n    }\n\n    function getViewpoint() {\n\n        function roundTo( x, n ) { return +x.toFixed(n); }\n\n        var v = camera.quaternion.inverse();\n        var r = Math.sqrt( v.x*v.x + v.y*v.y + v.z*v.z );\n        var axis = [ roundTo( v.x / r, 4 ), roundTo( v.y / r, 4 ), roundTo( v.z / r, 4 ) ];\n        var angle = roundTo( 2 * Math.atan2( r, v.w ) * 180 / Math.PI, 2 );\n\n        var textArea = document.createElement( 'textarea' );\n        textArea.textContent = JSON.stringify( axis ) + ',' + angle;\n        textArea.style.csstext = 'position: absolute; top: -100%';\n        document.body.append( textArea );\n        textArea.select();\n        document.execCommand( 'copy' );\n\n        var m = document.getElementById( 'menu-message' );\n        m.innerHTML = 'Viewpoint copied to clipboard';\n        m.style.display = 'block';\n        setTimeout( function() { m.style.display = 'none'; }, 2000 );\n\n    }\n\n</script>\n\n<div id=&quot;menu-container&quot; onclick=&quot;toggleMenu()&quot;>&#x24d8;\n<div id=&quot;menu-message&quot;></div>\n<div id=&quot;menu-content&quot;>\n<div onclick=&quot;saveAsPNG()&quot;>Save as PNG</div>\n<div onclick=&quot;saveAsHTML()&quot;>Save as HTML</div>\n<div onclick=&quot;getViewpoint()&quot;>Get Viewpoint</div>\n<div>Close Menu</div>\n</div></div>\n\n</body>\n</html>\n\"\n        width=\"100%\"\n        height=\"400\"\n        style=\"border: 0;\">\n</iframe>\n",
      "text/plain": [
       "Graphics3d Object"
      ]
     },
     "execution_count": 18,
     "metadata": {
     },
     "output_type": "execute_result"
    }
   ],
   "source": [
    "r(t) = (cos(t),sin(t),t)\n",
    "p = parametric_plot3d(r,(t,0,5*pi),color='black')\n",
    "p += arrow(origin,r.subs(t=pi))\n",
    "p.show(axes=True,frame=False)"
   ]
  },
  {
   "cell_type": "code",
   "execution_count": 20,
   "metadata": {
    "collapsed": false
   },
   "outputs": [
    {
     "name": "stdout",
     "output_type": "stream",
     "text": [
      "(-sin(t), cos(t), 1)\n"
     ]
    },
    {
     "data": {
      "text/html": "\n<iframe srcdoc=\"<!DOCTYPE html>\n<html>\n<head>\n<title></title>\n<meta charset=&quot;utf-8&quot;>\n<meta name=viewport content=&quot;width=device-width, user-scalable=no, minimum-scale=1.0, maximum-scale=1.0&quot;>\n<style>\n\n    body { margin: 0px; overflow: hidden; }\n\n    #menu-container { position: absolute; bottom: 30px; right: 40px; cursor: default; }\n\n    #menu-message { position: absolute; bottom: 0px; right: 0px; white-space: nowrap;\n                    display: none; background-color: #F5F5F5; padding: 10px; }\n\n    #menu-content { position: absolute; bottom: 0px; right: 0px;\n                    display: none; background-color: #F5F5F5; border-bottom: 1px solid black;\n                    border-right: 1px solid black; border-left: 1px solid black; }\n\n    #menu-content div { border-top: 1px solid black; padding: 10px; white-space: nowrap; }\n\n    #menu-content div:hover { background-color: #FEFEFE;; }\n  \n</style>\n</head>\n\n<body>\n\n<script src=&quot;/nbextensions/threejs/build/three.min.js&quot;></script>\n<script src=&quot;/nbextensions/threejs/examples/js/controls/OrbitControls.js&quot;></script>\n<script>\n  if ( !window.THREE ) document.write(' \\\n<script src=&quot;https://cdn.jsdelivr.net/gh/mrdoob/three.js@r110/build/three.min.js&quot;><\\/script> \\\n<script src=&quot;https://cdn.jsdelivr.net/gh/mrdoob/three.js@r110/examples/js/controls/OrbitControls.js&quot;><\\/script> \\\n            ');\n</script>\n        \n<script>\n\n    var scene = new THREE.Scene();\n\n    var renderer = new THREE.WebGLRenderer( { antialias: true, preserveDrawingBuffer: true } );\n    renderer.setPixelRatio( window.devicePixelRatio );\n    renderer.setSize( window.innerWidth, window.innerHeight );\n    renderer.setClearColor( 0xffffff, 1 );\n    document.body.appendChild( renderer.domElement );\n\n    var options = {&quot;aspectRatio&quot;: [1.0, 1.0, 1.0], &quot;axes&quot;: true, &quot;axesLabels&quot;: [&quot;x&quot;, &quot;y&quot;, &quot;z&quot;], &quot;decimals&quot;: 2, &quot;frame&quot;: true, &quot;projection&quot;: &quot;perspective&quot;};\n\n    // When animations are supported by the viewer, the value 'false'\n    // will be replaced with an option set in Python by the user\n    var animate = false; // options.animate;\n\n    var b = [{&quot;x&quot;:-1.0403499107178376, &quot;y&quot;:-0.9990989662046816, &quot;z&quot;:-0.014142135623730952}, {&quot;x&quot;:1.0, &quot;y&quot;:0.9990989662046815, &quot;z&quot;:6.283185307179586}]; // bounds\n\n    if ( b[0].x === b[1].x ) {\n        b[0].x -= 1;\n        b[1].x += 1;\n    }\n    if ( b[0].y === b[1].y ) {\n        b[0].y -= 1;\n        b[1].y += 1;\n    }\n    if ( b[0].z === b[1].z ) {\n        b[0].z -= 1;\n        b[1].z += 1;\n    }\n\n    var rRange = Math.sqrt( Math.pow( b[1].x - b[0].x, 2 )\n                            + Math.pow( b[1].y - b[0].y, 2 ) );\n    var xRange = b[1].x - b[0].x;\n    var yRange = b[1].y - b[0].y;\n    var zRange = b[1].z - b[0].z;\n\n    var ar = options.aspectRatio;\n    var a = [ ar[0], ar[1], ar[2] ]; // aspect multipliers\n    var autoAspect = 2.5;\n    if ( zRange > autoAspect * rRange && a[2] === 1 ) a[2] = autoAspect * rRange / zRange;\n\n    // Distance from (xMid,yMid,zMid) to any corner of the bounding box, after applying aspectRatio\n    var midToCorner = Math.sqrt( a[0]*a[0]*xRange*xRange + a[1]*a[1]*yRange*yRange + a[2]*a[2]*zRange*zRange ) / 2;\n\n    var xMid = ( b[0].x + b[1].x ) / 2;\n    var yMid = ( b[0].y + b[1].y ) / 2;\n    var zMid = ( b[0].z + b[1].z ) / 2;\n\n    var box = new THREE.Geometry();\n    box.vertices.push( new THREE.Vector3( a[0]*b[0].x, a[1]*b[0].y, a[2]*b[0].z ) );\n    box.vertices.push( new THREE.Vector3( a[0]*b[1].x, a[1]*b[1].y, a[2]*b[1].z ) );\n    var boxMesh = new THREE.Line( box );\n    if ( options.frame ) scene.add( new THREE.BoxHelper( boxMesh, 'black' ) );\n\n    if ( options.axesLabels ) {\n\n        var d = options.decimals; // decimals\n        var offsetRatio = 0.1;\n        var al = options.axesLabels;\n\n        var offset = offsetRatio * a[1]*( b[1].y - b[0].y );\n        var xm = xMid.toFixed(d);\n        if ( /^-0.?0*$/.test(xm) ) xm = xm.substr(1);\n        addLabel( al[0] + '=' + xm, a[0]*xMid, a[1]*b[1].y+offset, a[2]*b[0].z );\n        addLabel( ( b[0].x ).toFixed(d), a[0]*b[0].x, a[1]*b[1].y+offset, a[2]*b[0].z );\n        addLabel( ( b[1].x ).toFixed(d), a[0]*b[1].x, a[1]*b[1].y+offset, a[2]*b[0].z );\n\n        var offset = offsetRatio * a[0]*( b[1].x - b[0].x );\n        var ym = yMid.toFixed(d);\n        if ( /^-0.?0*$/.test(ym) ) ym = ym.substr(1);\n        addLabel( al[1] + '=' + ym, a[0]*b[1].x+offset, a[1]*yMid, a[2]*b[0].z );\n        addLabel( ( b[0].y ).toFixed(d), a[0]*b[1].x+offset, a[1]*b[0].y, a[2]*b[0].z );\n        addLabel( ( b[1].y ).toFixed(d), a[0]*b[1].x+offset, a[1]*b[1].y, a[2]*b[0].z );\n\n        var offset = offsetRatio * a[1]*( b[1].y - b[0].y );\n        var zm = zMid.toFixed(d);\n        if ( /^-0.?0*$/.test(zm) ) zm = zm.substr(1);\n        addLabel( al[2] + '=' + zm, a[0]*b[1].x, a[1]*b[0].y-offset, a[2]*zMid );\n        addLabel( ( b[0].z ).toFixed(d), a[0]*b[1].x, a[1]*b[0].y-offset, a[2]*b[0].z );\n        addLabel( ( b[1].z ).toFixed(d), a[0]*b[1].x, a[1]*b[0].y-offset, a[2]*b[1].z );\n\n    }\n\n    function addLabel( text, x, y, z, color='black', fontsize=14  ) {\n\n        var canvas = document.createElement( 'canvas' );\n        var pixelRatio = Math.round( window.devicePixelRatio );\n        canvas.width = 128 * pixelRatio;\n        canvas.height = 32 * pixelRatio; // powers of two\n        canvas.style.width = '128px';\n        canvas.style.height = '32px';\n\n        var context = canvas.getContext( '2d' );\n        context.scale( pixelRatio, pixelRatio );\n        context.fillStyle = color;\n        context.font = fontsize + 'px monospace';\n        context.textAlign = 'center';\n        context.textBaseline = 'middle';\n        context.fillText( text, canvas.width/2/pixelRatio, canvas.height/2/pixelRatio );\n\n        var texture = new THREE.Texture( canvas );\n        texture.needsUpdate = true;\n\n        var sprite = new THREE.Sprite( new THREE.SpriteMaterial( { map: texture } ) );\n        sprite.position.set( x, y, z );\n\n        // Set the initial scale based on plot size to accomodate orthographic projection.\n        // For other projections, the scale will get reset each frame based on camera distance.\n        var scale = midToCorner/2;\n        sprite.scale.set( scale, scale*.25, 1 ); // ratio of canvas width to height\n\n        scene.add( sprite );\n\n    }\n\n    if ( options.axes ) scene.add( new THREE.AxesHelper( Math.min( a[0]*b[1].x, a[1]*b[1].y, a[2]*b[1].z ) ) );\n\n    var camera = createCamera();\n    camera.up.set( 0, 0, 1 );\n    camera.position.set( a[0]*(xMid+xRange), a[1]*(yMid+yRange), a[2]*(zMid+zRange) );\n\n    function createCamera() {\n\n        var aspect = window.innerWidth / window.innerHeight;\n\n        if ( options.projection === 'orthographic' ) {\n            var camera = new THREE.OrthographicCamera( -1, 1, 1, -1, -1000, 1000 );\n            updateCameraAspect( camera, aspect );\n            return camera;\n        }\n\n        return new THREE.PerspectiveCamera( 45, aspect, 0.1, 1000 );\n\n    }\n\n    function updateCameraAspect( camera, aspect ) {\n\n        if ( camera.isPerspectiveCamera ) {\n            camera.aspect = aspect;\n        } else if ( camera.isOrthographicCamera ) {\n            // Fit the camera frustum to the bounding box's diagonal so that the entire plot fits\n            // within at the default zoom level and camera position.\n            if ( aspect > 1 ) { // Wide window\n                camera.top = midToCorner;\n                camera.right = midToCorner * aspect;\n            } else { // Tall or square window\n                camera.top = midToCorner / aspect;\n                camera.right = midToCorner;\n            }\n            camera.bottom = -camera.top;\n            camera.left = -camera.right;\n        }\n\n        camera.updateProjectionMatrix();\n\n    }\n\n    var lights = [{&quot;x&quot;:-5, &quot;y&quot;:3, &quot;z&quot;:0, &quot;color&quot;:&quot;#7f7f7f&quot;, &quot;parent&quot;:&quot;camera&quot;}];\n    for ( var i=0 ; i < lights.length ; i++ ) {\n        var light = new THREE.DirectionalLight( lights[i].color, 1 );\n        light.position.set( a[0]*lights[i].x, a[1]*lights[i].y, a[2]*lights[i].z );\n        if ( lights[i].parent === 'camera' ) {\n            light.target.position.set( a[0]*xMid, a[1]*yMid, a[2]*zMid );\n            scene.add( light.target );\n            camera.add( light );\n        } else scene.add( light );\n    }\n    scene.add( camera );\n\n    var ambient = {&quot;color&quot;:&quot;#7f7f7f&quot;};\n    scene.add( new THREE.AmbientLight( ambient.color, 1 ) );\n\n    var controls = new THREE.OrbitControls( camera, renderer.domElement );\n    controls.target.set( a[0]*xMid, a[1]*yMid, a[2]*zMid );\n    controls.addEventListener( 'change', function() { if ( !animate ) render(); } );\n\n    window.addEventListener( 'resize', function() {\n        \n        renderer.setSize( window.innerWidth, window.innerHeight );\n        updateCameraAspect( camera, window.innerWidth / window.innerHeight );\n        if ( !animate ) render();\n        \n    } );\n\n    var texts = [];\n    for ( var i=0 ; i < texts.length ; i++ )\n        addLabel( texts[i].text, a[0]*texts[i].x, a[1]*texts[i].y, a[2]*texts[i].z, texts[i].color );\n\n    var points = [];\n    for ( var i=0 ; i < points.length ; i++ ) addPoint( points[i] );\n\n    function addPoint( json ) {\n\n        var geometry = new THREE.Geometry();\n        var v = json.point;\n        geometry.vertices.push( new THREE.Vector3( a[0]*v[0], a[1]*v[1], a[2]*v[2] ) );\n\n        var canvas = document.createElement( 'canvas' );\n        canvas.width = 128;\n        canvas.height = 128;\n\n        var context = canvas.getContext( '2d' );\n        context.arc( 64, 64, 64, 0, 2 * Math.PI );\n        context.fillStyle = json.color;\n        context.fill();\n\n        var texture = new THREE.Texture( canvas );\n        texture.needsUpdate = true;\n\n        var transparent = json.opacity < 1 ? true : false;\n        var size = camera.isOrthographicCamera ? json.size : json.size/100;\n        var material = new THREE.PointsMaterial( { size: size, map: texture,\n                                                   transparent: transparent, opacity: json.opacity,\n                                                   alphaTest: .1 } );\n\n        var c = new THREE.Vector3();\n        geometry.computeBoundingBox();\n        geometry.boundingBox.getCenter( c );\n        geometry.translate( -c.x, -c.y, -c.z );\n\n        var mesh = new THREE.Points( geometry, material );\n        mesh.position.set( c.x, c.y, c.z );\n        scene.add( mesh );\n\n    }\n\n    var lines = [{&quot;points&quot;: [[1.0, 0.0, 0.0], [0.9963974885425265, 0.08480592447550919, 0.08490790955648089], [0.9856159103477085, 0.16900082032184907, 0.16981581911296179], [0.9677329469334989, 0.2519780613851252, 0.2547237286694427], [0.9428774454610842, 0.33313979474205757, 0.33963163822592357], [0.9112284903881357, 0.4119012482439926, 0.42453954778240444], [0.8730141131611882, 0.4876949438136345, 0.5094474573388853], [0.8285096492438422, 0.5599747861375953, 0.5943553668953662], [0.7780357543184396, 0.6282199972956422, 0.679263276451847], [0.7219560939545246, 0.6919388689775461, 0.7641711860083279], [0.6606747233900816, 0.7506723052527242, 0.8490790955648088], [0.5946331763042868, 0.8039971303669404, 0.9339870051212896], [0.5243072835572319, 0.8515291377333112, 1.0188949146777706], [0.4502037448176735, 0.8929258581495684, 1.1038028242342515], [0.37285647778030884, 0.9278890272965092, 1.1887107337907323], [0.29282277127655065, 0.9561667347392508, 1.2736186433472132], [0.21067926999572661, 0.9775552389476861, 1.358526552903694], [0.1270178197468791, 0.9919004352588768, 1.443434462460175], [0.042441203196148684, 0.9990989662046814, 1.5283423720166558], [-0.04244120319614789, 0.9990989662046815, 1.6132502815731367], [-0.1270178197468783, 0.991900435258877, 1.6981581911296175], [-0.21067926999572587, 0.9775552389476863, 1.7830661006860984], [-0.2928227712765499, 0.9561667347392511, 1.8679740102425793], [-0.3728564777803081, 0.9278890272965096, 1.9528819197990601], [-0.450203744817673, 0.8929258581495686, 2.037789829355541], [-0.5243072835572316, 0.8515291377333114, 2.1226977389120223], [-0.5946331763042866, 0.8039971303669405, 2.2076056484685034], [-0.6606747233900816, 0.7506723052527242, 2.2925135580249845], [-0.7219560939545248, 0.6919388689775459, 2.3774214675814656], [-0.7780357543184399, 0.6282199972956418, 2.4623293771379466], [-0.8285096492438425, 0.5599747861375948, 2.5472372866944277], [-0.8730141131611886, 0.4876949438136337, 2.632145196250909], [-0.9112284903881361, 0.4119012482439916, 2.71705310580739], [-0.9428774454610847, 0.3331397947420563, 2.801961015363871], [-0.9677329469334992, 0.2519780613851237, 2.886868924920352], [-0.9856159103477088, 0.16900082032184738, 2.971776834476833], [-0.9963974885425266, 0.08480592447550729, 3.0566847440333142], [-1.0, -2.097981369335578e-15, 3.1415926535897953], [-0.9963974885425263, -0.08480592447551147, 3.2265005631462764], [-0.985615910347708, -0.1690008203218515, 3.3114084727027575], [-0.9677329469334982, -0.2519780613851278, 3.3963163822592386], [-0.9428774454610832, -0.33313979474206024, 3.4812242918157197], [-0.9112284903881345, -0.41190124824399543, 3.5661322013722008], [-0.8730141131611866, -0.48769494381363737, 3.651040110928682], [-0.8285096492438402, -0.5599747861375982, 3.735948020485163], [-0.7780357543184372, -0.6282199972956451, 3.820855930041644], [-0.7219560939545219, -0.691938868977549, 3.905763839598125], [-0.6606747233900785, -0.750672305252727, 3.990671749154606], [-0.5946331763042836, -0.8039971303669428, 4.075579658711087], [-0.5243072835572283, -0.8515291377333134, 4.160487568267568], [-0.4502037448176696, -0.8929258581495704, 4.245395477824049], [-0.3728564777803046, -0.9278890272965109, 4.33030338738053], [-0.2928227712765461, -0.9561667347392523, 4.415211296937011], [-0.21067926999572176, -0.9775552389476871, 4.500119206493492], [-0.12701781974687393, -0.9919004352588775, 4.585027116049973], [-0.04244120319614326, -0.9990989662046816, 4.6699350256064545], [0.04244120319615354, -0.9990989662046813, 4.7548429351629355], [0.12701781974688414, -0.9919004352588762, 4.839750844719417], [0.2106792699957318, -0.977555238947685, 4.924658754275898], [0.2928227712765559, -0.9561667347392492, 5.009566663832379], [0.37285647778031417, -0.9278890272965071, 5.09447457338886], [0.45020374481767883, -0.8929258581495657, 5.179382482945341], [0.5243072835572371, -0.851529137733308, 5.264290392501822], [0.5946331763042919, -0.8039971303669367, 5.349198302058303], [0.6606747233900865, -0.7506723052527199, 5.434106211614784], [0.7219560939545293, -0.6919388689775412, 5.519014121171265], [0.778035754318444, -0.6282199972956368, 5.603922030727746], [0.8285096492438462, -0.5599747861375893, 5.6888299402842275], [0.8730141131611918, -0.487694943813628, 5.773737849840709], [0.9112284903881389, -0.41190124824398566, 5.85864575939719], [0.9428774454610868, -0.33313979474205013, 5.943553668953671], [0.9677329469335009, -0.25197806138511736, 6.028461578510152], [0.9856159103477099, -0.16900082032184094, 6.113369488066633], [0.9963974885425272, -0.08480592447550077, 6.198277397623114], [1.0, -2.4492935982947064e-16, 6.283185307179586]], &quot;color&quot;: &quot;#000000&quot;, &quot;opacity&quot;: 1.0, &quot;linewidth&quot;: 1.0}];\n    for ( var i=0 ; i < lines.length ; i++ ) addLine( lines[i] );\n\n    function addLine( json ) {\n\n        var geometry = new THREE.Geometry();\n        for ( var i=0 ; i < json.points.length ; i++ ) {\n            var v = json.points[i];\n            geometry.vertices.push( new THREE.Vector3( a[0]*v[0], a[1]*v[1], a[2]*v[2] ) );\n        }\n\n        var transparent = json.opacity < 1 ? true : false;\n        var material = new THREE.LineBasicMaterial( { color: json.color, linewidth: json.linewidth,\n                                                      transparent: transparent, opacity: json.opacity } );\n\n        var c = new THREE.Vector3();\n        geometry.computeBoundingBox();\n        geometry.boundingBox.getCenter( c );\n        geometry.translate( -c.x, -c.y, -c.z );\n\n        var mesh = new THREE.Line( geometry, material );\n        mesh.position.set( c.x, c.y, c.z );\n        scene.add( mesh );\n\n    }\n\n    var surfaces = [{&quot;vertices&quot;: [{&quot;x&quot;: -0.8727207793864216, &quot;y&quot;: 0.0, &quot;z&quot;: 0.8727207793864215}, {&quot;x&quot;: -0.8592708091471424, &quot;y&quot;: 0.006180339887498949, &quot;z&quot;: 0.8861707496257006}, {&quot;x&quot;: -0.8727207793864216, &quot;y&quot;: 0.02, &quot;z&quot;: 0.8727207793864215}, {&quot;x&quot;: -0.8644082406308725, &quot;y&quot;: -0.016180339887498948, &quot;z&quot;: 0.8810333181419705}, {&quot;x&quot;: -0.8810333181419706, &quot;y&quot;: -0.01618033988749895, &quot;z&quot;: 0.8644082406308724}, {&quot;x&quot;: -0.8861707496257007, &quot;y&quot;: 0.006180339887498945, &quot;z&quot;: 0.8592708091471423}, {&quot;x&quot;: 0.013449970239279145, &quot;y&quot;: 0.006180339887498949, &quot;z&quot;: 0.013449970239279149}, {&quot;x&quot;: 0.0, &quot;y&quot;: 0.02, &quot;z&quot;: 0.0}, {&quot;x&quot;: 0.008312538755549069, &quot;y&quot;: -0.016180339887498948, &quot;z&quot;: 0.00831253875554907}, {&quot;x&quot;: -0.008312538755549067, &quot;y&quot;: -0.01618033988749895, &quot;z&quot;: -0.008312538755549069}, {&quot;x&quot;: -0.013449970239279145, &quot;y&quot;: 0.006180339887498945, &quot;z&quot;: -0.013449970239279149}, {&quot;x&quot;: 0.0, &quot;y&quot;: 0.0, &quot;z&quot;: 0.0}], &quot;faces&quot;: [[0, 1, 2], [0, 3, 1], [0, 4, 3], [0, 5, 4], [0, 2, 5], [2, 1, 6, 7], [1, 3, 8, 6], [3, 4, 9, 8], [4, 5, 10, 9], [5, 2, 7, 10], [7, 6, 11], [6, 8, 11], [8, 9, 11], [9, 10, 11], [10, 7, 11]], &quot;color&quot;: &quot;#6666ff&quot;, &quot;opacity&quot;: 1.0}, {&quot;vertices&quot;: [{&quot;x&quot;: -1.0, &quot;y&quot;: 0.0, &quot;z&quot;: 1.0}, {&quot;x&quot;: -0.8323708686685841, &quot;y&quot;: 0.018541019662496848, &quot;z&quot;: 0.9130706901042589}, {&quot;x&quot;: -0.8727207793864216, &quot;y&quot;: 0.06, &quot;z&quot;: 0.8727207793864215}, {&quot;x&quot;: -0.8477831631197743, &quot;y&quot;: -0.04854101966249684, &quot;z&quot;: 0.8976583956530687}, {&quot;x&quot;: -0.8976583956530687, &quot;y&quot;: -0.048541019662496854, &quot;z&quot;: 0.8477831631197743}, {&quot;x&quot;: -0.913070690104259, &quot;y&quot;: 0.018541019662496834, &quot;z&quot;: 0.832370868668584}, {&quot;x&quot;: -0.8727207793864216, &quot;y&quot;: 0.0, &quot;z&quot;: 0.8727207793864215}], &quot;faces&quot;: [[0, 1, 2], [0, 3, 1], [0, 4, 3], [0, 5, 4], [0, 2, 5], [2, 1, 6], [1, 3, 6], [3, 4, 6], [4, 5, 6], [5, 2, 6]], &quot;color&quot;: &quot;#6666ff&quot;, &quot;opacity&quot;: 1.0}];\n    for ( var i=0 ; i < surfaces.length ; i++ ) addSurface( surfaces[i] );\n\n    function addSurface( json ) {\n\n        var useFaceColors = 'faceColors' in json ? true : false;\n\n        var geometry = new THREE.Geometry();\n        for ( var i=0 ; i < json.vertices.length ; i++ ) {\n            var v = json.vertices[i];\n            geometry.vertices.push( new THREE.Vector3( a[0]*v.x, a[1]*v.y, a[2]*v.z ) );\n        }\n        for ( var i=0 ; i < json.faces.length ; i++ ) {\n            var f = json.faces[i];\n            for ( var j=0 ; j < f.length - 2 ; j++ ) {\n                var face = new THREE.Face3( f[0], f[j+1], f[j+2] );\n                if ( useFaceColors ) face.color.set( json.faceColors[i] );\n                geometry.faces.push( face );\n            }\n        }\n        geometry.computeVertexNormals();\n\n        var side = json.singleSide ? THREE.FrontSide : THREE.DoubleSide;\n        var transparent = json.opacity < 1 ? true : false;\n\n        var material = new THREE.MeshPhongMaterial( { side: side,\n                                     color: useFaceColors ? 'white' : json.color,\n                                     vertexColors: useFaceColors ? THREE.FaceColors : THREE.NoColors,\n                                     transparent: transparent, opacity: json.opacity,\n                                     shininess: 20, flatShading: json.useFlatShading } );\n\n        var c = new THREE.Vector3();\n        geometry.computeBoundingBox();\n        geometry.boundingBox.getCenter( c );\n        geometry.translate( -c.x, -c.y, -c.z );\n\n        var mesh = new THREE.Mesh( geometry, material );\n        mesh.position.set( c.x, c.y, c.z );\n        if ( transparent && json.renderOrder ) mesh.renderOrder = json.renderOrder;\n        scene.add( mesh );\n\n        if ( json.showMeshGrid ) {\n\n            var geometry = new THREE.Geometry();\n\n            for ( var i=0 ; i < json.faces.length ; i++ ) {\n                var f = json.faces[i];\n                for ( var j=0 ; j < f.length ; j++ ) {\n                    var k = j === f.length-1 ? 0 : j+1;\n                    var v1 = json.vertices[f[j]];\n                    var v2 = json.vertices[f[k]];\n                    // vertices in opposite directions on neighboring faces\n                    var nudge = f[j] < f[k] ? .0005*zRange : -.0005*zRange;\n                    geometry.vertices.push( new THREE.Vector3( a[0]*v1.x, a[1]*v1.y, a[2]*(v1.z+nudge) ) );\n                    geometry.vertices.push( new THREE.Vector3( a[0]*v2.x, a[1]*v2.y, a[2]*(v2.z+nudge) ) );\n                }\n            }\n\n            var material = new THREE.LineBasicMaterial( { color: 'black', linewidth: 1 } );\n\n            var c = new THREE.Vector3();\n            geometry.computeBoundingBox();\n            geometry.boundingBox.getCenter( c );\n            geometry.translate( -c.x, -c.y, -c.z );\n\n            var mesh = new THREE.LineSegments( geometry, material );\n            mesh.position.set( c.x, c.y, c.z );\n            scene.add( mesh );\n\n        }\n\n    }\n\n    var scratch = new THREE.Vector3();\n\n    function render() {\n\n        if ( animate ) requestAnimationFrame( render );\n        renderer.render( scene, camera );\n\n        // Resize text based on distance from camera.\n        // Not neccessary for orthographic due to the nature of the projection (preserves sizes).\n        if ( !camera.isOrthographicCamera ) {\n            for ( var i=0 ; i < scene.children.length ; i++ ) {\n                if ( scene.children[i].type === 'Sprite' ) {\n                    var sprite = scene.children[i];\n                    var adjust = scratch.addVectors( sprite.position, scene.position )\n                                    .sub( camera.position ).length() / 5;\n                    sprite.scale.set( adjust, .25*adjust, 1 ); // ratio of canvas width to height\n                }\n            }\n        }\n    }\n    \n    render();\n    controls.update();\n    if ( !animate ) render();\n\n\n    // menu functions\n\n    function toggleMenu() {\n\n        var m = document.getElementById( 'menu-content' );\n        if ( m.style.display === 'block' ) m.style.display = 'none'\n        else m.style.display = 'block';\n\n    }\n\n\n    function saveAsPNG() {\n\n        var a = document.body.appendChild( document.createElement( 'a' ) );\n        a.href = renderer.domElement.toDataURL( 'image/png' );\n        a.download = 'screenshot';\n        a.click();\n\n    }\n\n    function saveAsHTML() {\n\n        toggleMenu(); // otherwise visible in output\n        event.stopPropagation();\n\n        var blob = new Blob( [ '<!DOCTYPE html>\\n' + document.documentElement.outerHTML ] );\n        var a = document.body.appendChild( document.createElement( 'a' ) );\n        a.href = window.URL.createObjectURL( blob );\n        a.download = 'graphic.html';\n        a.click();\n\n    }\n\n    function getViewpoint() {\n\n        function roundTo( x, n ) { return +x.toFixed(n); }\n\n        var v = camera.quaternion.inverse();\n        var r = Math.sqrt( v.x*v.x + v.y*v.y + v.z*v.z );\n        var axis = [ roundTo( v.x / r, 4 ), roundTo( v.y / r, 4 ), roundTo( v.z / r, 4 ) ];\n        var angle = roundTo( 2 * Math.atan2( r, v.w ) * 180 / Math.PI, 2 );\n\n        var textArea = document.createElement( 'textarea' );\n        textArea.textContent = JSON.stringify( axis ) + ',' + angle;\n        textArea.style.csstext = 'position: absolute; top: -100%';\n        document.body.append( textArea );\n        textArea.select();\n        document.execCommand( 'copy' );\n\n        var m = document.getElementById( 'menu-message' );\n        m.innerHTML = 'Viewpoint copied to clipboard';\n        m.style.display = 'block';\n        setTimeout( function() { m.style.display = 'none'; }, 2000 );\n\n    }\n\n</script>\n\n<div id=&quot;menu-container&quot; onclick=&quot;toggleMenu()&quot;>&#x24d8;\n<div id=&quot;menu-message&quot;></div>\n<div id=&quot;menu-content&quot;>\n<div onclick=&quot;saveAsPNG()&quot;>Save as PNG</div>\n<div onclick=&quot;saveAsHTML()&quot;>Save as HTML</div>\n<div onclick=&quot;getViewpoint()&quot;>Get Viewpoint</div>\n<div>Close Menu</div>\n</div></div>\n\n</body>\n</html>\n\"\n        width=\"100%\"\n        height=\"400\"\n        style=\"border: 0;\">\n</iframe>\n",
      "text/plain": [
       "Graphics3d Object"
      ]
     },
     "execution_count": 20,
     "metadata": {
     },
     "output_type": "execute_result"
    }
   ],
   "source": [
    "r(t) = (cos(t),sin(t),t)\n",
    "t0 = pi/2\n",
    "p = parametric_plot3d(r,(t,0,2*pi),color='black')\n",
    "\n",
    "r1 = diff(vector(r(t)),t)\n",
    "print(r1)\n",
    "p += arrow(origin,r1.subs(t=t0))\n",
    "p.show(axes=True,frame=True)"
   ]
  },
  {
   "cell_type": "code",
   "execution_count": 21,
   "metadata": {
    "collapsed": false
   },
   "outputs": [
    {
     "name": "stdout",
     "output_type": "stream",
     "text": [
      "(-sin(t), cos(t), 1)\n"
     ]
    },
    {
     "data": {
      "text/html": "\n<iframe srcdoc=\"<!DOCTYPE html>\n<html>\n<head>\n<title></title>\n<meta charset=&quot;utf-8&quot;>\n<meta name=viewport content=&quot;width=device-width, user-scalable=no, minimum-scale=1.0, maximum-scale=1.0&quot;>\n<style>\n\n    body { margin: 0px; overflow: hidden; }\n\n    #menu-container { position: absolute; bottom: 30px; right: 40px; cursor: default; }\n\n    #menu-message { position: absolute; bottom: 0px; right: 0px; white-space: nowrap;\n                    display: none; background-color: #F5F5F5; padding: 10px; }\n\n    #menu-content { position: absolute; bottom: 0px; right: 0px;\n                    display: none; background-color: #F5F5F5; border-bottom: 1px solid black;\n                    border-right: 1px solid black; border-left: 1px solid black; }\n\n    #menu-content div { border-top: 1px solid black; padding: 10px; white-space: nowrap; }\n\n    #menu-content div:hover { background-color: #FEFEFE;; }\n  \n</style>\n</head>\n\n<body>\n\n<script src=&quot;/nbextensions/threejs/build/three.min.js&quot;></script>\n<script src=&quot;/nbextensions/threejs/examples/js/controls/OrbitControls.js&quot;></script>\n<script>\n  if ( !window.THREE ) document.write(' \\\n<script src=&quot;https://cdn.jsdelivr.net/gh/mrdoob/three.js@r110/build/three.min.js&quot;><\\/script> \\\n<script src=&quot;https://cdn.jsdelivr.net/gh/mrdoob/three.js@r110/examples/js/controls/OrbitControls.js&quot;><\\/script> \\\n            ');\n</script>\n        \n<script>\n\n    var scene = new THREE.Scene();\n\n    var renderer = new THREE.WebGLRenderer( { antialias: true, preserveDrawingBuffer: true } );\n    renderer.setPixelRatio( window.devicePixelRatio );\n    renderer.setSize( window.innerWidth, window.innerHeight );\n    renderer.setClearColor( 0xffffff, 1 );\n    document.body.appendChild( renderer.domElement );\n\n    var options = {&quot;aspectRatio&quot;: [1.0, 1.0, 1.0], &quot;axes&quot;: true, &quot;axesLabels&quot;: [&quot;x&quot;, &quot;y&quot;, &quot;z&quot;], &quot;decimals&quot;: 2, &quot;frame&quot;: true, &quot;projection&quot;: &quot;perspective&quot;};\n\n    // When animations are supported by the viewer, the value 'false'\n    // will be replaced with an option set in Python by the user\n    var animate = false; // options.animate;\n\n    var b = [{&quot;x&quot;:-1.0403499107178376, &quot;y&quot;:-0.9990989662046816, &quot;z&quot;:-0.014142135623730952}, {&quot;x&quot;:1.0, &quot;y&quot;:1.050613816484126, &quot;z&quot;:6.283185307179586}]; // bounds\n\n    if ( b[0].x === b[1].x ) {\n        b[0].x -= 1;\n        b[1].x += 1;\n    }\n    if ( b[0].y === b[1].y ) {\n        b[0].y -= 1;\n        b[1].y += 1;\n    }\n    if ( b[0].z === b[1].z ) {\n        b[0].z -= 1;\n        b[1].z += 1;\n    }\n\n    var rRange = Math.sqrt( Math.pow( b[1].x - b[0].x, 2 )\n                            + Math.pow( b[1].y - b[0].y, 2 ) );\n    var xRange = b[1].x - b[0].x;\n    var yRange = b[1].y - b[0].y;\n    var zRange = b[1].z - b[0].z;\n\n    var ar = options.aspectRatio;\n    var a = [ ar[0], ar[1], ar[2] ]; // aspect multipliers\n    var autoAspect = 2.5;\n    if ( zRange > autoAspect * rRange && a[2] === 1 ) a[2] = autoAspect * rRange / zRange;\n\n    // Distance from (xMid,yMid,zMid) to any corner of the bounding box, after applying aspectRatio\n    var midToCorner = Math.sqrt( a[0]*a[0]*xRange*xRange + a[1]*a[1]*yRange*yRange + a[2]*a[2]*zRange*zRange ) / 2;\n\n    var xMid = ( b[0].x + b[1].x ) / 2;\n    var yMid = ( b[0].y + b[1].y ) / 2;\n    var zMid = ( b[0].z + b[1].z ) / 2;\n\n    var box = new THREE.Geometry();\n    box.vertices.push( new THREE.Vector3( a[0]*b[0].x, a[1]*b[0].y, a[2]*b[0].z ) );\n    box.vertices.push( new THREE.Vector3( a[0]*b[1].x, a[1]*b[1].y, a[2]*b[1].z ) );\n    var boxMesh = new THREE.Line( box );\n    if ( options.frame ) scene.add( new THREE.BoxHelper( boxMesh, 'black' ) );\n\n    if ( options.axesLabels ) {\n\n        var d = options.decimals; // decimals\n        var offsetRatio = 0.1;\n        var al = options.axesLabels;\n\n        var offset = offsetRatio * a[1]*( b[1].y - b[0].y );\n        var xm = xMid.toFixed(d);\n        if ( /^-0.?0*$/.test(xm) ) xm = xm.substr(1);\n        addLabel( al[0] + '=' + xm, a[0]*xMid, a[1]*b[1].y+offset, a[2]*b[0].z );\n        addLabel( ( b[0].x ).toFixed(d), a[0]*b[0].x, a[1]*b[1].y+offset, a[2]*b[0].z );\n        addLabel( ( b[1].x ).toFixed(d), a[0]*b[1].x, a[1]*b[1].y+offset, a[2]*b[0].z );\n\n        var offset = offsetRatio * a[0]*( b[1].x - b[0].x );\n        var ym = yMid.toFixed(d);\n        if ( /^-0.?0*$/.test(ym) ) ym = ym.substr(1);\n        addLabel( al[1] + '=' + ym, a[0]*b[1].x+offset, a[1]*yMid, a[2]*b[0].z );\n        addLabel( ( b[0].y ).toFixed(d), a[0]*b[1].x+offset, a[1]*b[0].y, a[2]*b[0].z );\n        addLabel( ( b[1].y ).toFixed(d), a[0]*b[1].x+offset, a[1]*b[1].y, a[2]*b[0].z );\n\n        var offset = offsetRatio * a[1]*( b[1].y - b[0].y );\n        var zm = zMid.toFixed(d);\n        if ( /^-0.?0*$/.test(zm) ) zm = zm.substr(1);\n        addLabel( al[2] + '=' + zm, a[0]*b[1].x, a[1]*b[0].y-offset, a[2]*zMid );\n        addLabel( ( b[0].z ).toFixed(d), a[0]*b[1].x, a[1]*b[0].y-offset, a[2]*b[0].z );\n        addLabel( ( b[1].z ).toFixed(d), a[0]*b[1].x, a[1]*b[0].y-offset, a[2]*b[1].z );\n\n    }\n\n    function addLabel( text, x, y, z, color='black', fontsize=14  ) {\n\n        var canvas = document.createElement( 'canvas' );\n        var pixelRatio = Math.round( window.devicePixelRatio );\n        canvas.width = 128 * pixelRatio;\n        canvas.height = 32 * pixelRatio; // powers of two\n        canvas.style.width = '128px';\n        canvas.style.height = '32px';\n\n        var context = canvas.getContext( '2d' );\n        context.scale( pixelRatio, pixelRatio );\n        context.fillStyle = color;\n        context.font = fontsize + 'px monospace';\n        context.textAlign = 'center';\n        context.textBaseline = 'middle';\n        context.fillText( text, canvas.width/2/pixelRatio, canvas.height/2/pixelRatio );\n\n        var texture = new THREE.Texture( canvas );\n        texture.needsUpdate = true;\n\n        var sprite = new THREE.Sprite( new THREE.SpriteMaterial( { map: texture } ) );\n        sprite.position.set( x, y, z );\n\n        // Set the initial scale based on plot size to accomodate orthographic projection.\n        // For other projections, the scale will get reset each frame based on camera distance.\n        var scale = midToCorner/2;\n        sprite.scale.set( scale, scale*.25, 1 ); // ratio of canvas width to height\n\n        scene.add( sprite );\n\n    }\n\n    if ( options.axes ) scene.add( new THREE.AxesHelper( Math.min( a[0]*b[1].x, a[1]*b[1].y, a[2]*b[1].z ) ) );\n\n    var camera = createCamera();\n    camera.up.set( 0, 0, 1 );\n    camera.position.set( a[0]*(xMid+xRange), a[1]*(yMid+yRange), a[2]*(zMid+zRange) );\n\n    function createCamera() {\n\n        var aspect = window.innerWidth / window.innerHeight;\n\n        if ( options.projection === 'orthographic' ) {\n            var camera = new THREE.OrthographicCamera( -1, 1, 1, -1, -1000, 1000 );\n            updateCameraAspect( camera, aspect );\n            return camera;\n        }\n\n        return new THREE.PerspectiveCamera( 45, aspect, 0.1, 1000 );\n\n    }\n\n    function updateCameraAspect( camera, aspect ) {\n\n        if ( camera.isPerspectiveCamera ) {\n            camera.aspect = aspect;\n        } else if ( camera.isOrthographicCamera ) {\n            // Fit the camera frustum to the bounding box's diagonal so that the entire plot fits\n            // within at the default zoom level and camera position.\n            if ( aspect > 1 ) { // Wide window\n                camera.top = midToCorner;\n                camera.right = midToCorner * aspect;\n            } else { // Tall or square window\n                camera.top = midToCorner / aspect;\n                camera.right = midToCorner;\n            }\n            camera.bottom = -camera.top;\n            camera.left = -camera.right;\n        }\n\n        camera.updateProjectionMatrix();\n\n    }\n\n    var lights = [{&quot;x&quot;:-5, &quot;y&quot;:3, &quot;z&quot;:0, &quot;color&quot;:&quot;#7f7f7f&quot;, &quot;parent&quot;:&quot;camera&quot;}];\n    for ( var i=0 ; i < lights.length ; i++ ) {\n        var light = new THREE.DirectionalLight( lights[i].color, 1 );\n        light.position.set( a[0]*lights[i].x, a[1]*lights[i].y, a[2]*lights[i].z );\n        if ( lights[i].parent === 'camera' ) {\n            light.target.position.set( a[0]*xMid, a[1]*yMid, a[2]*zMid );\n            scene.add( light.target );\n            camera.add( light );\n        } else scene.add( light );\n    }\n    scene.add( camera );\n\n    var ambient = {&quot;color&quot;:&quot;#7f7f7f&quot;};\n    scene.add( new THREE.AmbientLight( ambient.color, 1 ) );\n\n    var controls = new THREE.OrbitControls( camera, renderer.domElement );\n    controls.target.set( a[0]*xMid, a[1]*yMid, a[2]*zMid );\n    controls.addEventListener( 'change', function() { if ( !animate ) render(); } );\n\n    window.addEventListener( 'resize', function() {\n        \n        renderer.setSize( window.innerWidth, window.innerHeight );\n        updateCameraAspect( camera, window.innerWidth / window.innerHeight );\n        if ( !animate ) render();\n        \n    } );\n\n    var texts = [];\n    for ( var i=0 ; i < texts.length ; i++ )\n        addLabel( texts[i].text, a[0]*texts[i].x, a[1]*texts[i].y, a[2]*texts[i].z, texts[i].color );\n\n    var points = [];\n    for ( var i=0 ; i < points.length ; i++ ) addPoint( points[i] );\n\n    function addPoint( json ) {\n\n        var geometry = new THREE.Geometry();\n        var v = json.point;\n        geometry.vertices.push( new THREE.Vector3( a[0]*v[0], a[1]*v[1], a[2]*v[2] ) );\n\n        var canvas = document.createElement( 'canvas' );\n        canvas.width = 128;\n        canvas.height = 128;\n\n        var context = canvas.getContext( '2d' );\n        context.arc( 64, 64, 64, 0, 2 * Math.PI );\n        context.fillStyle = json.color;\n        context.fill();\n\n        var texture = new THREE.Texture( canvas );\n        texture.needsUpdate = true;\n\n        var transparent = json.opacity < 1 ? true : false;\n        var size = camera.isOrthographicCamera ? json.size : json.size/100;\n        var material = new THREE.PointsMaterial( { size: size, map: texture,\n                                                   transparent: transparent, opacity: json.opacity,\n                                                   alphaTest: .1 } );\n\n        var c = new THREE.Vector3();\n        geometry.computeBoundingBox();\n        geometry.boundingBox.getCenter( c );\n        geometry.translate( -c.x, -c.y, -c.z );\n\n        var mesh = new THREE.Points( geometry, material );\n        mesh.position.set( c.x, c.y, c.z );\n        scene.add( mesh );\n\n    }\n\n    var lines = [{&quot;points&quot;: [[1.0, 0.0, 0.0], [0.9963974885425265, 0.08480592447550919, 0.08490790955648089], [0.9856159103477085, 0.16900082032184907, 0.16981581911296179], [0.9677329469334989, 0.2519780613851252, 0.2547237286694427], [0.9428774454610842, 0.33313979474205757, 0.33963163822592357], [0.9112284903881357, 0.4119012482439926, 0.42453954778240444], [0.8730141131611882, 0.4876949438136345, 0.5094474573388853], [0.8285096492438422, 0.5599747861375953, 0.5943553668953662], [0.7780357543184396, 0.6282199972956422, 0.679263276451847], [0.7219560939545246, 0.6919388689775461, 0.7641711860083279], [0.6606747233900816, 0.7506723052527242, 0.8490790955648088], [0.5946331763042868, 0.8039971303669404, 0.9339870051212896], [0.5243072835572319, 0.8515291377333112, 1.0188949146777706], [0.4502037448176735, 0.8929258581495684, 1.1038028242342515], [0.37285647778030884, 0.9278890272965092, 1.1887107337907323], [0.29282277127655065, 0.9561667347392508, 1.2736186433472132], [0.21067926999572661, 0.9775552389476861, 1.358526552903694], [0.1270178197468791, 0.9919004352588768, 1.443434462460175], [0.042441203196148684, 0.9990989662046814, 1.5283423720166558], [-0.04244120319614789, 0.9990989662046815, 1.6132502815731367], [-0.1270178197468783, 0.991900435258877, 1.6981581911296175], [-0.21067926999572587, 0.9775552389476863, 1.7830661006860984], [-0.2928227712765499, 0.9561667347392511, 1.8679740102425793], [-0.3728564777803081, 0.9278890272965096, 1.9528819197990601], [-0.450203744817673, 0.8929258581495686, 2.037789829355541], [-0.5243072835572316, 0.8515291377333114, 2.1226977389120223], [-0.5946331763042866, 0.8039971303669405, 2.2076056484685034], [-0.6606747233900816, 0.7506723052527242, 2.2925135580249845], [-0.7219560939545248, 0.6919388689775459, 2.3774214675814656], [-0.7780357543184399, 0.6282199972956418, 2.4623293771379466], [-0.8285096492438425, 0.5599747861375948, 2.5472372866944277], [-0.8730141131611886, 0.4876949438136337, 2.632145196250909], [-0.9112284903881361, 0.4119012482439916, 2.71705310580739], [-0.9428774454610847, 0.3331397947420563, 2.801961015363871], [-0.9677329469334992, 0.2519780613851237, 2.886868924920352], [-0.9856159103477088, 0.16900082032184738, 2.971776834476833], [-0.9963974885425266, 0.08480592447550729, 3.0566847440333142], [-1.0, -2.097981369335578e-15, 3.1415926535897953], [-0.9963974885425263, -0.08480592447551147, 3.2265005631462764], [-0.985615910347708, -0.1690008203218515, 3.3114084727027575], [-0.9677329469334982, -0.2519780613851278, 3.3963163822592386], [-0.9428774454610832, -0.33313979474206024, 3.4812242918157197], [-0.9112284903881345, -0.41190124824399543, 3.5661322013722008], [-0.8730141131611866, -0.48769494381363737, 3.651040110928682], [-0.8285096492438402, -0.5599747861375982, 3.735948020485163], [-0.7780357543184372, -0.6282199972956451, 3.820855930041644], [-0.7219560939545219, -0.691938868977549, 3.905763839598125], [-0.6606747233900785, -0.750672305252727, 3.990671749154606], [-0.5946331763042836, -0.8039971303669428, 4.075579658711087], [-0.5243072835572283, -0.8515291377333134, 4.160487568267568], [-0.4502037448176696, -0.8929258581495704, 4.245395477824049], [-0.3728564777803046, -0.9278890272965109, 4.33030338738053], [-0.2928227712765461, -0.9561667347392523, 4.415211296937011], [-0.21067926999572176, -0.9775552389476871, 4.500119206493492], [-0.12701781974687393, -0.9919004352588775, 4.585027116049973], [-0.04244120319614326, -0.9990989662046816, 4.6699350256064545], [0.04244120319615354, -0.9990989662046813, 4.7548429351629355], [0.12701781974688414, -0.9919004352588762, 4.839750844719417], [0.2106792699957318, -0.977555238947685, 4.924658754275898], [0.2928227712765559, -0.9561667347392492, 5.009566663832379], [0.37285647778031417, -0.9278890272965071, 5.09447457338886], [0.45020374481767883, -0.8929258581495657, 5.179382482945341], [0.5243072835572371, -0.851529137733308, 5.264290392501822], [0.5946331763042919, -0.8039971303669367, 5.349198302058303], [0.6606747233900865, -0.7506723052527199, 5.434106211614784], [0.7219560939545293, -0.6919388689775412, 5.519014121171265], [0.778035754318444, -0.6282199972956368, 5.603922030727746], [0.8285096492438462, -0.5599747861375893, 5.6888299402842275], [0.8730141131611918, -0.487694943813628, 5.773737849840709], [0.9112284903881389, -0.41190124824398566, 5.85864575939719], [0.9428774454610868, -0.33313979474205013, 5.943553668953671], [0.9677329469335009, -0.25197806138511736, 6.028461578510152], [0.9856159103477099, -0.16900082032184094, 6.113369488066633], [0.9963974885425272, -0.08480592447550077, 6.198277397623114], [1.0, -2.4492935982947064e-16, 6.283185307179586]], &quot;color&quot;: &quot;#000000&quot;, &quot;opacity&quot;: 1.0, &quot;linewidth&quot;: 1.0}];\n    for ( var i=0 ; i < lines.length ; i++ ) addLine( lines[i] );\n\n    function addLine( json ) {\n\n        var geometry = new THREE.Geometry();\n        for ( var i=0 ; i < json.points.length ; i++ ) {\n            var v = json.points[i];\n            geometry.vertices.push( new THREE.Vector3( a[0]*v[0], a[1]*v[1], a[2]*v[2] ) );\n        }\n\n        var transparent = json.opacity < 1 ? true : false;\n        var material = new THREE.LineBasicMaterial( { color: json.color, linewidth: json.linewidth,\n                                                      transparent: transparent, opacity: json.opacity } );\n\n        var c = new THREE.Vector3();\n        geometry.computeBoundingBox();\n        geometry.boundingBox.getCenter( c );\n        geometry.translate( -c.x, -c.y, -c.z );\n\n        var mesh = new THREE.Line( geometry, material );\n        mesh.position.set( c.x, c.y, c.z );\n        scene.add( mesh );\n\n    }\n\n    var surfaces = [{&quot;vertices&quot;: [{&quot;x&quot;: 0.0, &quot;y&quot;: 0.9033347310136632, &quot;z&quot;: 1.4189548773425182}, {&quot;x&quot;: 0.019021130325903073, &quot;y&quot;: 0.9085482408282531, &quot;z&quot;: 1.4156358539111178}, {&quot;x&quot;: 0.0, &quot;y&quot;: 0.9202060031750386, &quot;z&quot;: 1.408214291899592}, {&quot;x&quot;: 0.011755705045849465, &quot;y&quot;: 0.8896855851183856, &quot;z&quot;: 1.4276441934953819}, {&quot;x&quot;: -0.011755705045849461, &quot;y&quot;: 0.8896855851183856, &quot;z&quot;: 1.4276441934953819}, {&quot;x&quot;: -0.019021130325903073, &quot;y&quot;: 0.9085482408282531, &quot;z&quot;: 1.4156358539111178}, {&quot;x&quot;: 0.019021130325903073, &quot;y&quot;: 0.005213509814589941, &quot;z&quot;: -0.0033190234314003993}, {&quot;x&quot;: 0.0, &quot;y&quot;: 0.016871272161375375, &quot;z&quot;: -0.0107405854429263}, {&quot;x&quot;: 0.011755705045849465, &quot;y&quot;: -0.013649145895277626, &quot;z&quot;: 0.008689316152863549}, {&quot;x&quot;: -0.011755705045849461, &quot;y&quot;: -0.01364914589527763, &quot;z&quot;: 0.00868931615286355}, {&quot;x&quot;: -0.019021130325903073, &quot;y&quot;: 0.005213509814589938, &quot;z&quot;: -0.0033190234314003967}, {&quot;x&quot;: 0.0, &quot;y&quot;: 0.0, &quot;z&quot;: 0.0}], &quot;faces&quot;: [[0, 1, 2], [0, 3, 1], [0, 4, 3], [0, 5, 4], [0, 2, 5], [2, 1, 6, 7], [1, 3, 8, 6], [3, 4, 9, 8], [4, 5, 10, 9], [5, 2, 7, 10], [7, 6, 11], [6, 8, 11], [8, 9, 11], [9, 10, 11], [10, 7, 11]], &quot;color&quot;: &quot;#008000&quot;, &quot;opacity&quot;: 1.0}, {&quot;vertices&quot;: [{&quot;x&quot;: 0.0, &quot;y&quot;: 1.0, &quot;z&quot;: 1.5707963267948966}, {&quot;x&quot;: 0.05706339097770921, &quot;y&quot;: 0.918975260457433, &quot;z&quot;: 1.4089978070483171}, {&quot;x&quot;: 0.0, &quot;y&quot;: 0.9539485474977893, &quot;z&quot;: 1.3867331210137392}, {&quot;x&quot;: 0.03526711513754839, &quot;y&quot;: 0.8623872933278304, &quot;z&quot;: 1.4450228258011089}, {&quot;x&quot;: -0.03526711513754838, &quot;y&quot;: 0.8623872933278304, &quot;z&quot;: 1.4450228258011089}, {&quot;x&quot;: -0.05706339097770922, &quot;y&quot;: 0.918975260457433, &quot;z&quot;: 1.4089978070483171}, {&quot;x&quot;: 0.0, &quot;y&quot;: 0.9033347310136632, &quot;z&quot;: 1.4189548773425182}], &quot;faces&quot;: [[0, 1, 2], [0, 3, 1], [0, 4, 3], [0, 5, 4], [0, 2, 5], [2, 1, 6], [1, 3, 6], [3, 4, 6], [4, 5, 6], [5, 2, 6]], &quot;color&quot;: &quot;#008000&quot;, &quot;opacity&quot;: 1.0}, {&quot;vertices&quot;: [{&quot;x&quot;: -0.8727207793864216, &quot;y&quot;: 0.0, &quot;z&quot;: 0.8727207793864215}, {&quot;x&quot;: -0.8592708091471424, &quot;y&quot;: 0.006180339887498949, &quot;z&quot;: 0.8861707496257006}, {&quot;x&quot;: -0.8727207793864216, &quot;y&quot;: 0.02, &quot;z&quot;: 0.8727207793864215}, {&quot;x&quot;: -0.8644082406308725, &quot;y&quot;: -0.016180339887498948, &quot;z&quot;: 0.8810333181419705}, {&quot;x&quot;: -0.8810333181419706, &quot;y&quot;: -0.01618033988749895, &quot;z&quot;: 0.8644082406308724}, {&quot;x&quot;: -0.8861707496257007, &quot;y&quot;: 0.006180339887498945, &quot;z&quot;: 0.8592708091471423}, {&quot;x&quot;: 0.013449970239279145, &quot;y&quot;: 0.006180339887498949, &quot;z&quot;: 0.013449970239279149}, {&quot;x&quot;: 0.0, &quot;y&quot;: 0.02, &quot;z&quot;: 0.0}, {&quot;x&quot;: 0.008312538755549069, &quot;y&quot;: -0.016180339887498948, &quot;z&quot;: 0.00831253875554907}, {&quot;x&quot;: -0.008312538755549067, &quot;y&quot;: -0.01618033988749895, &quot;z&quot;: -0.008312538755549069}, {&quot;x&quot;: -0.013449970239279145, &quot;y&quot;: 0.006180339887498945, &quot;z&quot;: -0.013449970239279149}, {&quot;x&quot;: 0.0, &quot;y&quot;: 0.0, &quot;z&quot;: 0.0}], &quot;faces&quot;: [[0, 1, 2], [0, 3, 1], [0, 4, 3], [0, 5, 4], [0, 2, 5], [2, 1, 6, 7], [1, 3, 8, 6], [3, 4, 9, 8], [4, 5, 10, 9], [5, 2, 7, 10], [7, 6, 11], [6, 8, 11], [8, 9, 11], [9, 10, 11], [10, 7, 11]], &quot;color&quot;: &quot;#ff0000&quot;, &quot;opacity&quot;: 1.0}, {&quot;vertices&quot;: [{&quot;x&quot;: -1.0, &quot;y&quot;: 0.0, &quot;z&quot;: 1.0}, {&quot;x&quot;: -0.8323708686685841, &quot;y&quot;: 0.018541019662496848, &quot;z&quot;: 0.9130706901042589}, {&quot;x&quot;: -0.8727207793864216, &quot;y&quot;: 0.06, &quot;z&quot;: 0.8727207793864215}, {&quot;x&quot;: -0.8477831631197743, &quot;y&quot;: -0.04854101966249684, &quot;z&quot;: 0.8976583956530687}, {&quot;x&quot;: -0.8976583956530687, &quot;y&quot;: -0.048541019662496854, &quot;z&quot;: 0.8477831631197743}, {&quot;x&quot;: -0.913070690104259, &quot;y&quot;: 0.018541019662496834, &quot;z&quot;: 0.832370868668584}, {&quot;x&quot;: -0.8727207793864216, &quot;y&quot;: 0.0, &quot;z&quot;: 0.8727207793864215}], &quot;faces&quot;: [[0, 1, 2], [0, 3, 1], [0, 4, 3], [0, 5, 4], [0, 2, 5], [2, 1, 6], [1, 3, 6], [3, 4, 6], [4, 5, 6], [5, 2, 6]], &quot;color&quot;: &quot;#ff0000&quot;, &quot;opacity&quot;: 1.0}];\n    for ( var i=0 ; i < surfaces.length ; i++ ) addSurface( surfaces[i] );\n\n    function addSurface( json ) {\n\n        var useFaceColors = 'faceColors' in json ? true : false;\n\n        var geometry = new THREE.Geometry();\n        for ( var i=0 ; i < json.vertices.length ; i++ ) {\n            var v = json.vertices[i];\n            geometry.vertices.push( new THREE.Vector3( a[0]*v.x, a[1]*v.y, a[2]*v.z ) );\n        }\n        for ( var i=0 ; i < json.faces.length ; i++ ) {\n            var f = json.faces[i];\n            for ( var j=0 ; j < f.length - 2 ; j++ ) {\n                var face = new THREE.Face3( f[0], f[j+1], f[j+2] );\n                if ( useFaceColors ) face.color.set( json.faceColors[i] );\n                geometry.faces.push( face );\n            }\n        }\n        geometry.computeVertexNormals();\n\n        var side = json.singleSide ? THREE.FrontSide : THREE.DoubleSide;\n        var transparent = json.opacity < 1 ? true : false;\n\n        var material = new THREE.MeshPhongMaterial( { side: side,\n                                     color: useFaceColors ? 'white' : json.color,\n                                     vertexColors: useFaceColors ? THREE.FaceColors : THREE.NoColors,\n                                     transparent: transparent, opacity: json.opacity,\n                                     shininess: 20, flatShading: json.useFlatShading } );\n\n        var c = new THREE.Vector3();\n        geometry.computeBoundingBox();\n        geometry.boundingBox.getCenter( c );\n        geometry.translate( -c.x, -c.y, -c.z );\n\n        var mesh = new THREE.Mesh( geometry, material );\n        mesh.position.set( c.x, c.y, c.z );\n        if ( transparent && json.renderOrder ) mesh.renderOrder = json.renderOrder;\n        scene.add( mesh );\n\n        if ( json.showMeshGrid ) {\n\n            var geometry = new THREE.Geometry();\n\n            for ( var i=0 ; i < json.faces.length ; i++ ) {\n                var f = json.faces[i];\n                for ( var j=0 ; j < f.length ; j++ ) {\n                    var k = j === f.length-1 ? 0 : j+1;\n                    var v1 = json.vertices[f[j]];\n                    var v2 = json.vertices[f[k]];\n                    // vertices in opposite directions on neighboring faces\n                    var nudge = f[j] < f[k] ? .0005*zRange : -.0005*zRange;\n                    geometry.vertices.push( new THREE.Vector3( a[0]*v1.x, a[1]*v1.y, a[2]*(v1.z+nudge) ) );\n                    geometry.vertices.push( new THREE.Vector3( a[0]*v2.x, a[1]*v2.y, a[2]*(v2.z+nudge) ) );\n                }\n            }\n\n            var material = new THREE.LineBasicMaterial( { color: 'black', linewidth: 1 } );\n\n            var c = new THREE.Vector3();\n            geometry.computeBoundingBox();\n            geometry.boundingBox.getCenter( c );\n            geometry.translate( -c.x, -c.y, -c.z );\n\n            var mesh = new THREE.LineSegments( geometry, material );\n            mesh.position.set( c.x, c.y, c.z );\n            scene.add( mesh );\n\n        }\n\n    }\n\n    var scratch = new THREE.Vector3();\n\n    function render() {\n\n        if ( animate ) requestAnimationFrame( render );\n        renderer.render( scene, camera );\n\n        // Resize text based on distance from camera.\n        // Not neccessary for orthographic due to the nature of the projection (preserves sizes).\n        if ( !camera.isOrthographicCamera ) {\n            for ( var i=0 ; i < scene.children.length ; i++ ) {\n                if ( scene.children[i].type === 'Sprite' ) {\n                    var sprite = scene.children[i];\n                    var adjust = scratch.addVectors( sprite.position, scene.position )\n                                    .sub( camera.position ).length() / 5;\n                    sprite.scale.set( adjust, .25*adjust, 1 ); // ratio of canvas width to height\n                }\n            }\n        }\n    }\n    \n    render();\n    controls.update();\n    if ( !animate ) render();\n\n\n    // menu functions\n\n    function toggleMenu() {\n\n        var m = document.getElementById( 'menu-content' );\n        if ( m.style.display === 'block' ) m.style.display = 'none'\n        else m.style.display = 'block';\n\n    }\n\n\n    function saveAsPNG() {\n\n        var a = document.body.appendChild( document.createElement( 'a' ) );\n        a.href = renderer.domElement.toDataURL( 'image/png' );\n        a.download = 'screenshot';\n        a.click();\n\n    }\n\n    function saveAsHTML() {\n\n        toggleMenu(); // otherwise visible in output\n        event.stopPropagation();\n\n        var blob = new Blob( [ '<!DOCTYPE html>\\n' + document.documentElement.outerHTML ] );\n        var a = document.body.appendChild( document.createElement( 'a' ) );\n        a.href = window.URL.createObjectURL( blob );\n        a.download = 'graphic.html';\n        a.click();\n\n    }\n\n    function getViewpoint() {\n\n        function roundTo( x, n ) { return +x.toFixed(n); }\n\n        var v = camera.quaternion.inverse();\n        var r = Math.sqrt( v.x*v.x + v.y*v.y + v.z*v.z );\n        var axis = [ roundTo( v.x / r, 4 ), roundTo( v.y / r, 4 ), roundTo( v.z / r, 4 ) ];\n        var angle = roundTo( 2 * Math.atan2( r, v.w ) * 180 / Math.PI, 2 );\n\n        var textArea = document.createElement( 'textarea' );\n        textArea.textContent = JSON.stringify( axis ) + ',' + angle;\n        textArea.style.csstext = 'position: absolute; top: -100%';\n        document.body.append( textArea );\n        textArea.select();\n        document.execCommand( 'copy' );\n\n        var m = document.getElementById( 'menu-message' );\n        m.innerHTML = 'Viewpoint copied to clipboard';\n        m.style.display = 'block';\n        setTimeout( function() { m.style.display = 'none'; }, 2000 );\n\n    }\n\n</script>\n\n<div id=&quot;menu-container&quot; onclick=&quot;toggleMenu()&quot;>&#x24d8;\n<div id=&quot;menu-message&quot;></div>\n<div id=&quot;menu-content&quot;>\n<div onclick=&quot;saveAsPNG()&quot;>Save as PNG</div>\n<div onclick=&quot;saveAsHTML()&quot;>Save as HTML</div>\n<div onclick=&quot;getViewpoint()&quot;>Get Viewpoint</div>\n<div>Close Menu</div>\n</div></div>\n\n</body>\n</html>\n\"\n        width=\"100%\"\n        height=\"400\"\n        style=\"border: 0;\">\n</iframe>\n",
      "text/plain": [
       "Graphics3d Object"
      ]
     },
     "execution_count": 21,
     "metadata": {
     },
     "output_type": "execute_result"
    }
   ],
   "source": [
    "r(t) = (cos(t),sin(t),t)\n",
    "t0 = pi/2\n",
    "p = parametric_plot3d(r,(t,0,2*pi),color='black')\n",
    "p += arrow(origin,r.subs(t=t0),color='green')\n",
    "\n",
    "r1 = diff(vector(r(t)),t)\n",
    "print(r1)\n",
    "p += arrow(origin,r1.subs(t=t0),color='red')\n",
    "p.show(axes=True,frame=True)"
   ]
  },
  {
   "cell_type": "markdown",
   "metadata": {
    "collapsed": false
   },
   "source": [
    "## Linear Algebra"
   ]
  },
  {
   "cell_type": "code",
   "execution_count": 1,
   "metadata": {
    "collapsed": false,
    "jupyter": {
     "outputs_hidden": false
    },
    "scrolled": true
   },
   "outputs": [
    {
     "name": "stdout",
     "output_type": "stream",
     "text": [
      "[1 2 3]\n",
      "[4 5 6]\n",
      "[7 8 9]\n"
     ]
    },
    {
     "data": {
      "text/html": [
       "<html><script type=\"math/tex; mode=display\">\\newcommand{\\Bold}[1]{\\mathbf{#1}}\\left(\\begin{array}{rrr}\n",
       "1 & 2 & 3 \\\\\n",
       "4 & 5 & 6 \\\\\n",
       "7 & 8 & 9\n",
       "\\end{array}\\right)</script></html>"
      ],
      "text/plain": [
       "[1 2 3]\n",
       "[4 5 6]\n",
       "[7 8 9]"
      ]
     },
     "execution_count": 1,
     "metadata": {
     },
     "output_type": "execute_result"
    },
    {
     "data": {
      "text/plain": [
       "\\left(\\begin{array}{rrr}\n",
       "1 & 2 & 3 \\\\\n",
       "4 & 5 & 6 \\\\\n",
       "7 & 8 & 9\n",
       "\\end{array}\\right)"
      ]
     },
     "execution_count": 1,
     "metadata": {
     },
     "output_type": "execute_result"
    }
   ],
   "source": [
    "A = matrix([[1,2,3],[4,5,6],[7,8,9]])\n",
    "print(A)\n",
    "show(A)\n",
    "latex(A)"
   ]
  },
  {
   "cell_type": "code",
   "execution_count": 3,
   "metadata": {
    "collapsed": false,
    "jupyter": {
     "outputs_hidden": false
    }
   },
   "outputs": [
    {
     "name": "stdout",
     "output_type": "stream",
     "text": [
      "[1 2 3]\n",
      "[4 5 6]\n",
      "[7 8 9]\n"
     ]
    }
   ],
   "source": [
    "B = matrix(3,3,[1,2,3, 4,5,6, 7,8,9])\n",
    "print(B)"
   ]
  },
  {
   "cell_type": "code",
   "execution_count": 4,
   "metadata": {
    "collapsed": false,
    "jupyter": {
     "outputs_hidden": false
    }
   },
   "outputs": [
    {
     "name": "stdout",
     "output_type": "stream",
     "text": [
      "True\n"
     ]
    }
   ],
   "source": [
    "print(A==B)"
   ]
  },
  {
   "cell_type": "code",
   "execution_count": 5,
   "metadata": {
    "collapsed": false,
    "jupyter": {
     "outputs_hidden": false
    }
   },
   "outputs": [
    {
     "name": "stdout",
     "output_type": "stream",
     "text": [
      "[1 0 0]\n",
      "[0 1 0]\n",
      "[0 0 1]\n"
     ]
    }
   ],
   "source": [
    "I3 = matrix.identity(3)\n",
    "print(I3)"
   ]
  },
  {
   "cell_type": "code",
   "execution_count": 6,
   "metadata": {
    "collapsed": false,
    "jupyter": {
     "outputs_hidden": false
    }
   },
   "outputs": [
    {
     "name": "stdout",
     "output_type": "stream",
     "text": [
      "[2 0 0]\n",
      "[0 2 0]\n",
      "[0 0 2]\n"
     ]
    }
   ],
   "source": [
    "print(2*I3)"
   ]
  },
  {
   "cell_type": "code",
   "execution_count": 7,
   "metadata": {
    "collapsed": false,
    "jupyter": {
     "outputs_hidden": false
    }
   },
   "outputs": [
    {
     "name": "stdout",
     "output_type": "stream",
     "text": [
      "[ 3  2  3]\n",
      "[ 4  7  6]\n",
      "[ 7  8 11]\n"
     ]
    }
   ],
   "source": [
    "print(A+2*I3)"
   ]
  },
  {
   "cell_type": "code",
   "execution_count": 8,
   "metadata": {
    "collapsed": false,
    "jupyter": {
     "outputs_hidden": false
    }
   },
   "outputs": [
    {
     "data": {
      "text/plain": [
       "0"
      ]
     },
     "execution_count": 8,
     "metadata": {
     },
     "output_type": "execute_result"
    }
   ],
   "source": [
    "det(A)"
   ]
  },
  {
   "cell_type": "code",
   "execution_count": 9,
   "metadata": {
    "collapsed": false,
    "jupyter": {
     "outputs_hidden": false
    }
   },
   "outputs": [
    {
     "name": "stdout",
     "output_type": "stream",
     "text": [
      "A is not invertible\n"
     ]
    }
   ],
   "source": [
    "if(det(A)!=0):\n",
    "    print('Inverse of A exist and is\\n',A.inverse())\n",
    "else:\n",
    "    print('A is not invertible')"
   ]
  },
  {
   "cell_type": "code",
   "execution_count": 10,
   "metadata": {
    "collapsed": false,
    "jupyter": {
     "outputs_hidden": false
    }
   },
   "outputs": [
    {
     "name": "stdout",
     "output_type": "stream",
     "text": [
      "Inverse of I3 exist and is [2 0 0]\n",
      "[0 2 0]\n",
      "[0 0 2]\n"
     ]
    }
   ],
   "source": [
    "if(det(I3)!=0):\n",
    "    print('Inverse of I3 exist and is',2*I3.inverse())\n",
    "else:\n",
    "    print('A is not invertible')"
   ]
  },
  {
   "cell_type": "code",
   "execution_count": 13,
   "metadata": {
    "collapsed": false,
    "jupyter": {
     "outputs_hidden": false
    }
   },
   "outputs": [
    {
     "name": "stdout",
     "output_type": "stream",
     "text": [
      "[1/9   0   0]\n",
      "[  0 1/9   0]\n",
      "[  0   0 1/9]\n"
     ]
    }
   ],
   "source": [
    "B = 3*I3\n",
    "print(B^(-2))"
   ]
  },
  {
   "cell_type": "code",
   "execution_count": 14,
   "metadata": {
    "collapsed": false,
    "jupyter": {
     "outputs_hidden": false
    }
   },
   "outputs": [
    {
     "name": "stdout",
     "output_type": "stream",
     "text": [
      "[9 0 0]\n",
      "[0 9 0]\n",
      "[0 0 9]\n"
     ]
    }
   ],
   "source": [
    "print(B^2)"
   ]
  },
  {
   "cell_type": "code",
   "execution_count": 16,
   "metadata": {
    "collapsed": false,
    "jupyter": {
     "outputs_hidden": false
    }
   },
   "outputs": [
    {
     "name": "stdout",
     "output_type": "stream",
     "text": [
      "[  x 2*x 3*x]\n",
      "[4*x 5*x 6*x]\n",
      "[7*x 8*x 9*x]\n"
     ]
    }
   ],
   "source": [
    "var('x')\n",
    "A = matrix([[1,2,3],[4,5,6],[7,8,9]])\n",
    "print(x*A)"
   ]
  },
  {
   "cell_type": "code",
   "execution_count": 19,
   "metadata": {
    "collapsed": false,
    "jupyter": {
     "outputs_hidden": false
    }
   },
   "outputs": [
    {
     "name": "stdout",
     "output_type": "stream",
     "text": [
      "-((x - 5)*(x - 9) - 48)*(x - 1) + 29*x + 3\n"
     ]
    },
    {
     "data": {
      "text/html": [
       "<html><script type=\"math/tex; mode=display\">\\newcommand{\\Bold}[1]{\\mathbf{#1}}-{\\left({\\left(x - 5\\right)} {\\left(x - 9\\right)} - 48\\right)} {\\left(x - 1\\right)} + 29 \\, x + 3</script></html>"
      ],
      "text/plain": [
       "-((x - 5)*(x - 9) - 48)*(x - 1) + 29*x + 3"
      ]
     },
     "execution_count": 19,
     "metadata": {
     },
     "output_type": "execute_result"
    }
   ],
   "source": [
    "ch_poly = det(A-x*I3)\n",
    "print(ch_poly)\n",
    "show(ch_poly)"
   ]
  },
  {
   "cell_type": "code",
   "execution_count": 24,
   "metadata": {
    "collapsed": false,
    "jupyter": {
     "outputs_hidden": false
    }
   },
   "outputs": [
    {
     "name": "stdout",
     "output_type": "stream",
     "text": [
      "[\n",
      "x == -3/2*sqrt(33) + 15/2,\n",
      "x == 3/2*sqrt(33) + 15/2,\n",
      "x == 0\n",
      "]\n"
     ]
    },
    {
     "data": {
      "text/html": [
       "<html><script type=\"math/tex; mode=display\">\\newcommand{\\Bold}[1]{\\mathbf{#1}}\\left[x = -\\frac{3}{2} \\, \\sqrt{33} + \\frac{15}{2}, x = \\frac{3}{2} \\, \\sqrt{33} + \\frac{15}{2}, x = 0\\right]</script></html>"
      ],
      "text/plain": [
       "[x == -3/2*sqrt(33) + 15/2, x == 3/2*sqrt(33) + 15/2, x == 0]"
      ]
     },
     "execution_count": 24,
     "metadata": {
     },
     "output_type": "execute_result"
    }
   ],
   "source": [
    "print(solve(ch_poly,x))\n",
    "show(solve(ch_poly,x))"
   ]
  },
  {
   "cell_type": "code",
   "execution_count": 25,
   "metadata": {
    "collapsed": false,
    "jupyter": {
     "outputs_hidden": false
    }
   },
   "outputs": [
    {
     "data": {
      "text/plain": [
       "x^3 - 15*x^2 - 18*x"
      ]
     },
     "execution_count": 25,
     "metadata": {
     },
     "output_type": "execute_result"
    }
   ],
   "source": [
    "A.charpoly()"
   ]
  },
  {
   "cell_type": "code",
   "execution_count": 26,
   "metadata": {
    "collapsed": false,
    "jupyter": {
     "outputs_hidden": false
    }
   },
   "outputs": [
    {
     "data": {
      "text/plain": [
       "[0, -1.116843969807043?, 16.11684396980705?]"
      ]
     },
     "execution_count": 26,
     "metadata": {
     },
     "output_type": "execute_result"
    }
   ],
   "source": [
    "A.eigenvalues()"
   ]
  },
  {
   "cell_type": "code",
   "execution_count": 27,
   "metadata": {
    "collapsed": false,
    "jupyter": {
     "outputs_hidden": false
    }
   },
   "outputs": [
    {
     "name": "stdout",
     "output_type": "stream",
     "text": [
      "[1 2 3]\n",
      "[4 5 6]\n",
      "[7 8 9] \n",
      " Transpose\n",
      " [1 4 7]\n",
      "[2 5 8]\n",
      "[3 6 9]\n"
     ]
    }
   ],
   "source": [
    "print(A,'\\n Transpose\\n',A.transpose())"
   ]
  },
  {
   "cell_type": "code",
   "execution_count": 28,
   "metadata": {
    "collapsed": false,
    "jupyter": {
     "outputs_hidden": false
    }
   },
   "outputs": [
    {
     "name": "stdout",
     "output_type": "stream",
     "text": [
      "[10]\n",
      "[10]\n",
      "[10]\n"
     ]
    }
   ],
   "source": [
    "b = matrix(3,1,[10,10,10])\n",
    "print(b)"
   ]
  },
  {
   "cell_type": "code",
   "execution_count": 29,
   "metadata": {
    "collapsed": false,
    "jupyter": {
     "outputs_hidden": false
    }
   },
   "outputs": [
    {
     "name": "stdout",
     "output_type": "stream",
     "text": [
      "[ 1  2  3 10]\n",
      "[ 4  5  6 10]\n",
      "[ 7  8  9 10]\n"
     ]
    }
   ],
   "source": [
    "C = A.augment(b)\n",
    "print(C)"
   ]
  },
  {
   "cell_type": "code",
   "execution_count": 30,
   "metadata": {
    "collapsed": false,
    "jupyter": {
     "outputs_hidden": false
    }
   },
   "outputs": [
    {
     "data": {
      "text/plain": [
       "2"
      ]
     },
     "execution_count": 30,
     "metadata": {
     },
     "output_type": "execute_result"
    }
   ],
   "source": [
    "A.rank()"
   ]
  },
  {
   "cell_type": "code",
   "execution_count": 31,
   "metadata": {
    "collapsed": false,
    "jupyter": {
     "outputs_hidden": false
    }
   },
   "outputs": [
    {
     "data": {
      "text/plain": [
       "2"
      ]
     },
     "execution_count": 31,
     "metadata": {
     },
     "output_type": "execute_result"
    }
   ],
   "source": [
    "C.rank()"
   ]
  },
  {
   "cell_type": "code",
   "execution_count": 33,
   "metadata": {
    "collapsed": false,
    "jupyter": {
     "outputs_hidden": false
    }
   },
   "outputs": [
    {
     "name": "stdout",
     "output_type": "stream",
     "text": [
      "[  a + 2*b + 3*c]\n",
      "[3*a + 6*b + 8*c]\n",
      "[2]\n",
      "[4]\n"
     ]
    }
   ],
   "source": [
    "A = matrix(2,3,[1,2,3,3,6,8])\n",
    "var('a b c')\n",
    "x = matrix(3,1,[a,b,c])\n",
    "b = matrix(2,1,[2,4])\n",
    "print(A*x)\n",
    "print(b)"
   ]
  },
  {
   "cell_type": "code",
   "execution_count": 34,
   "metadata": {
    "collapsed": false,
    "jupyter": {
     "outputs_hidden": false
    }
   },
   "outputs": [
    {
     "name": "stdout",
     "output_type": "stream",
     "text": [
      "2\n"
     ]
    }
   ],
   "source": [
    "print(rank(A))"
   ]
  },
  {
   "cell_type": "code",
   "execution_count": 35,
   "metadata": {
    "collapsed": false,
    "jupyter": {
     "outputs_hidden": false
    }
   },
   "outputs": [
    {
     "name": "stdout",
     "output_type": "stream",
     "text": [
      "2\n"
     ]
    }
   ],
   "source": [
    "print(rank(A.augment(b)))"
   ]
  },
  {
   "cell_type": "code",
   "execution_count": 36,
   "metadata": {
    "collapsed": false,
    "jupyter": {
     "outputs_hidden": false
    }
   },
   "outputs": [
    {
     "name": "stdout",
     "output_type": "stream",
     "text": [
      "[1 2 3 2]\n",
      "[3 6 8 4]\n"
     ]
    }
   ],
   "source": [
    "am = A.augment(b)\n",
    "print(am)"
   ]
  },
  {
   "cell_type": "code",
   "execution_count": 37,
   "metadata": {
    "collapsed": false,
    "jupyter": {
     "outputs_hidden": false
    }
   },
   "outputs": [
    {
     "data": {
      "text/plain": [
       "[ 1  2  0 -4]\n",
       "[ 0  0  1  2]"
      ]
     },
     "execution_count": 37,
     "metadata": {
     },
     "output_type": "execute_result"
    }
   ],
   "source": [
    "am.echelon_form()"
   ]
  },
  {
   "cell_type": "code",
   "execution_count": 0,
   "metadata": {
    "collapsed": false,
    "jupyter": {
     "outputs_hidden": false
    }
   },
   "outputs": [
   ],
   "source": [
   ]
  }
 ],
 "metadata": {
  "kernelspec": {
   "display_name": "SageMath 9.1",
   "language": "sagemath",
   "metadata": {
    "cocalc": {
     "description": "Open-source mathematical software system",
     "priority": 10,
     "url": "https://www.sagemath.org/"
    }
   },
   "name": "sage-9.1"
  },
  "language_info": {
   "codemirror_mode": {
    "name": "ipython",
    "version": 3
   },
   "file_extension": ".py",
   "mimetype": "text/x-python",
   "name": "python",
   "nbconvert_exporter": "python",
   "pygments_lexer": "ipython3",
   "version": "3.7.3"
  }
 },
 "nbformat": 4,
 "nbformat_minor": 4
}